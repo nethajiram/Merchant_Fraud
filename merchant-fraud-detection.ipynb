{
 "cells": [
  {
   "cell_type": "markdown",
   "id": "9e45abe1",
   "metadata": {
    "papermill": {
     "duration": 0.02301,
     "end_time": "2023-02-27T12:14:34.250422",
     "exception": false,
     "start_time": "2023-02-27T12:14:34.227412",
     "status": "completed"
    },
    "tags": []
   },
   "source": [
    "**Predict if the Merchant is Fraudster or not for an e-commerce client**\n",
    "\n",
    "‘XYZ’ is a large e-commerce company with its operations in several countries. As the online giant grows, so has\n",
    "the number of fraudster merchants are. They deliver counterfeits or, in some cases, nothing at all. Such\n",
    "schemes leave customers duped, and place both legitimate merchants and the company itself in a constant\n",
    "battle to rid the marketplace of scammers. Determining this is also important in budgeting for fraud\n",
    "investigation. It's a well-known problem both to the company and to merchants, which they say hasn't\n",
    "effectively addressed the issue. They are serious about it and want to protect themselves from these fraudulent\n",
    "merchants using technology."
   ]
  },
  {
   "cell_type": "markdown",
   "id": "0f73a272",
   "metadata": {
    "papermill": {
     "duration": 0.021096,
     "end_time": "2023-02-27T12:14:34.294665",
     "exception": false,
     "start_time": "2023-02-27T12:14:34.273569",
     "status": "completed"
    },
    "tags": []
   },
   "source": [
    "# Importing Libraries and data"
   ]
  },
  {
   "cell_type": "code",
   "execution_count": 1,
   "id": "855b2660",
   "metadata": {
    "execution": {
     "iopub.execute_input": "2023-02-27T12:14:34.341031Z",
     "iopub.status.busy": "2023-02-27T12:14:34.340656Z",
     "iopub.status.idle": "2023-02-27T12:14:34.354190Z",
     "shell.execute_reply": "2023-02-27T12:14:34.352267Z"
    },
    "papermill": {
     "duration": 0.039867,
     "end_time": "2023-02-27T12:14:34.357047",
     "exception": false,
     "start_time": "2023-02-27T12:14:34.317180",
     "status": "completed"
    },
    "tags": []
   },
   "outputs": [
    {
     "name": "stdout",
     "output_type": "stream",
     "text": [
      "/kaggle/input/merchant-fraud\n"
     ]
    }
   ],
   "source": [
    "cd /kaggle/input/merchant-fraud"
   ]
  },
  {
   "cell_type": "code",
   "execution_count": 2,
   "id": "f58e8f02",
   "metadata": {
    "execution": {
     "iopub.execute_input": "2023-02-27T12:14:34.403033Z",
     "iopub.status.busy": "2023-02-27T12:14:34.402290Z",
     "iopub.status.idle": "2023-02-27T12:14:35.561306Z",
     "shell.execute_reply": "2023-02-27T12:14:35.559714Z"
    },
    "papermill": {
     "duration": 1.18514,
     "end_time": "2023-02-27T12:14:35.564180",
     "exception": false,
     "start_time": "2023-02-27T12:14:34.379040",
     "status": "completed"
    },
    "tags": []
   },
   "outputs": [],
   "source": [
    "#importing required libraries\n",
    "\n",
    "import pandas as pd\n",
    "import numpy as np\n",
    "import matplotlib.pyplot as plt\n",
    "%matplotlib inline\n",
    "import seaborn as sns\n",
    "import warnings"
   ]
  },
  {
   "cell_type": "markdown",
   "id": "5eb1d5a7",
   "metadata": {
    "papermill": {
     "duration": 0.022363,
     "end_time": "2023-02-27T12:14:35.610706",
     "exception": false,
     "start_time": "2023-02-27T12:14:35.588343",
     "status": "completed"
    },
    "tags": []
   },
   "source": [
    "## Importing csv files"
   ]
  },
  {
   "cell_type": "code",
   "execution_count": 3,
   "id": "98d88c1a",
   "metadata": {
    "execution": {
     "iopub.execute_input": "2023-02-27T12:14:35.655979Z",
     "iopub.status.busy": "2023-02-27T12:14:35.655602Z",
     "iopub.status.idle": "2023-02-27T12:14:35.845983Z",
     "shell.execute_reply": "2023-02-27T12:14:35.844710Z"
    },
    "papermill": {
     "duration": 0.215678,
     "end_time": "2023-02-27T12:14:35.848082",
     "exception": false,
     "start_time": "2023-02-27T12:14:35.632404",
     "status": "completed"
    },
    "tags": []
   },
   "outputs": [
    {
     "data": {
      "text/html": [
       "<div>\n",
       "<style scoped>\n",
       "    .dataframe tbody tr th:only-of-type {\n",
       "        vertical-align: middle;\n",
       "    }\n",
       "\n",
       "    .dataframe tbody tr th {\n",
       "        vertical-align: top;\n",
       "    }\n",
       "\n",
       "    .dataframe thead th {\n",
       "        text-align: right;\n",
       "    }\n",
       "</style>\n",
       "<table border=\"1\" class=\"dataframe\">\n",
       "  <thead>\n",
       "    <tr style=\"text-align: right;\">\n",
       "      <th></th>\n",
       "      <th>Ecommerce_Provider_ID</th>\n",
       "      <th>Merchant_ID</th>\n",
       "      <th>Merchant_Registration_Date</th>\n",
       "      <th>Registered_Device_ID</th>\n",
       "      <th>Gender</th>\n",
       "      <th>Age</th>\n",
       "      <th>IP_Address</th>\n",
       "    </tr>\n",
       "  </thead>\n",
       "  <tbody>\n",
       "    <tr>\n",
       "      <th>0</th>\n",
       "      <td>1746213</td>\n",
       "      <td>50448</td>\n",
       "      <td>2018-05-01 21:15:11</td>\n",
       "      <td>VATQMMZTVOZUT</td>\n",
       "      <td>F</td>\n",
       "      <td>39</td>\n",
       "      <td>48.151.136.76</td>\n",
       "    </tr>\n",
       "    <tr>\n",
       "      <th>1</th>\n",
       "      <td>1746213</td>\n",
       "      <td>338754</td>\n",
       "      <td>2018-04-14 10:13:00</td>\n",
       "      <td>LJCILLBRQZNKS</td>\n",
       "      <td>M</td>\n",
       "      <td>35</td>\n",
       "      <td>94.9.145.169</td>\n",
       "    </tr>\n",
       "    <tr>\n",
       "      <th>2</th>\n",
       "      <td>1746213</td>\n",
       "      <td>291127</td>\n",
       "      <td>2018-06-20 07:44:22</td>\n",
       "      <td>JFVHSUGKDAYZV</td>\n",
       "      <td>F</td>\n",
       "      <td>40</td>\n",
       "      <td>58.94.157.121</td>\n",
       "    </tr>\n",
       "    <tr>\n",
       "      <th>3</th>\n",
       "      <td>1746213</td>\n",
       "      <td>319919</td>\n",
       "      <td>2018-06-27 01:41:39</td>\n",
       "      <td>WFRXMPLQYXRMY</td>\n",
       "      <td>M</td>\n",
       "      <td>37</td>\n",
       "      <td>193.187.41.186</td>\n",
       "    </tr>\n",
       "    <tr>\n",
       "      <th>4</th>\n",
       "      <td>1746213</td>\n",
       "      <td>195911</td>\n",
       "      <td>2018-01-05 00:55:41</td>\n",
       "      <td>GGHKWMSWHCMID</td>\n",
       "      <td>F</td>\n",
       "      <td>27</td>\n",
       "      <td>125.96.20.172</td>\n",
       "    </tr>\n",
       "  </tbody>\n",
       "</table>\n",
       "</div>"
      ],
      "text/plain": [
       "   Ecommerce_Provider_ID  Merchant_ID Merchant_Registration_Date  \\\n",
       "0                1746213        50448        2018-05-01 21:15:11   \n",
       "1                1746213       338754        2018-04-14 10:13:00   \n",
       "2                1746213       291127        2018-06-20 07:44:22   \n",
       "3                1746213       319919        2018-06-27 01:41:39   \n",
       "4                1746213       195911        2018-01-05 00:55:41   \n",
       "\n",
       "  Registered_Device_ID Gender  Age      IP_Address  \n",
       "0        VATQMMZTVOZUT      F   39   48.151.136.76  \n",
       "1        LJCILLBRQZNKS      M   35    94.9.145.169  \n",
       "2        JFVHSUGKDAYZV      F   40   58.94.157.121  \n",
       "3        WFRXMPLQYXRMY      M   37  193.187.41.186  \n",
       "4        GGHKWMSWHCMID      F   27   125.96.20.172  "
      ]
     },
     "execution_count": 3,
     "metadata": {},
     "output_type": "execute_result"
    }
   ],
   "source": [
    "csv_train_1 = pd.read_csv(\"train_merchant_data.csv\",na_values=['.',':','?','!','@','#','$','%','^','&','*',','])\n",
    "csv_train_1.head()"
   ]
  },
  {
   "cell_type": "code",
   "execution_count": 4,
   "id": "296205cd",
   "metadata": {
    "execution": {
     "iopub.execute_input": "2023-02-27T12:14:35.894391Z",
     "iopub.status.busy": "2023-02-27T12:14:35.893995Z",
     "iopub.status.idle": "2023-02-27T12:14:36.027207Z",
     "shell.execute_reply": "2023-02-27T12:14:36.026169Z"
    },
    "papermill": {
     "duration": 0.159282,
     "end_time": "2023-02-27T12:14:36.029647",
     "exception": false,
     "start_time": "2023-02-27T12:14:35.870365",
     "status": "completed"
    },
    "tags": []
   },
   "outputs": [
    {
     "data": {
      "text/html": [
       "<div>\n",
       "<style scoped>\n",
       "    .dataframe tbody tr th:only-of-type {\n",
       "        vertical-align: middle;\n",
       "    }\n",
       "\n",
       "    .dataframe tbody tr th {\n",
       "        vertical-align: top;\n",
       "    }\n",
       "\n",
       "    .dataframe thead th {\n",
       "        text-align: right;\n",
       "    }\n",
       "</style>\n",
       "<table border=\"1\" class=\"dataframe\">\n",
       "  <thead>\n",
       "    <tr style=\"text-align: right;\">\n",
       "      <th></th>\n",
       "      <th>Customer_ID</th>\n",
       "      <th>Order_ID</th>\n",
       "      <th>Date_of_Order</th>\n",
       "      <th>Order_Value_USD</th>\n",
       "      <th>Order_Source</th>\n",
       "      <th>Order_Payment_Method</th>\n",
       "      <th>Merchant_ID</th>\n",
       "    </tr>\n",
       "  </thead>\n",
       "  <tbody>\n",
       "    <tr>\n",
       "      <th>0</th>\n",
       "      <td>126221</td>\n",
       "      <td>37cea9512f8d</td>\n",
       "      <td>2018-04-29 16:39:26</td>\n",
       "      <td>148</td>\n",
       "      <td>Direct</td>\n",
       "      <td>Credit Card</td>\n",
       "      <td>124231</td>\n",
       "    </tr>\n",
       "    <tr>\n",
       "      <th>1</th>\n",
       "      <td>115471</td>\n",
       "      <td>09f12e6efde2</td>\n",
       "      <td>2018-06-16 17:05:40</td>\n",
       "      <td>145</td>\n",
       "      <td>SEO</td>\n",
       "      <td>Credit Card</td>\n",
       "      <td>136178</td>\n",
       "    </tr>\n",
       "    <tr>\n",
       "      <th>2</th>\n",
       "      <td>151786</td>\n",
       "      <td>4e69e956e159</td>\n",
       "      <td>2018-10-26 18:00:46</td>\n",
       "      <td>62</td>\n",
       "      <td>Ads</td>\n",
       "      <td>Internet Banking</td>\n",
       "      <td>198611</td>\n",
       "    </tr>\n",
       "    <tr>\n",
       "      <th>3</th>\n",
       "      <td>140456</td>\n",
       "      <td>663443aaeb82</td>\n",
       "      <td>2018-12-12 05:41:52</td>\n",
       "      <td>28</td>\n",
       "      <td>SEO</td>\n",
       "      <td>Debit Card</td>\n",
       "      <td>127993</td>\n",
       "    </tr>\n",
       "    <tr>\n",
       "      <th>4</th>\n",
       "      <td>114721</td>\n",
       "      <td>99258810c121</td>\n",
       "      <td>2018-09-20 11:06:10</td>\n",
       "      <td>70</td>\n",
       "      <td>Ads</td>\n",
       "      <td>Credit Card</td>\n",
       "      <td>250146</td>\n",
       "    </tr>\n",
       "  </tbody>\n",
       "</table>\n",
       "</div>"
      ],
      "text/plain": [
       "   Customer_ID      Order_ID        Date_of_Order  Order_Value_USD  \\\n",
       "0       126221  37cea9512f8d  2018-04-29 16:39:26              148   \n",
       "1       115471  09f12e6efde2  2018-06-16 17:05:40              145   \n",
       "2       151786  4e69e956e159  2018-10-26 18:00:46               62   \n",
       "3       140456  663443aaeb82  2018-12-12 05:41:52               28   \n",
       "4       114721  99258810c121  2018-09-20 11:06:10               70   \n",
       "\n",
       "  Order_Source Order_Payment_Method  Merchant_ID  \n",
       "0       Direct          Credit Card       124231  \n",
       "1          SEO          Credit Card       136178  \n",
       "2          Ads     Internet Banking       198611  \n",
       "3          SEO           Debit Card       127993  \n",
       "4          Ads          Credit Card       250146  "
      ]
     },
     "execution_count": 4,
     "metadata": {},
     "output_type": "execute_result"
    }
   ],
   "source": [
    "csv_train_2 = pd.read_csv(\"train_order_data.csv\",na_values=['.',':','?','!','@','#','$','%','^','&','*',','])\n",
    "csv_train_2.head()"
   ]
  },
  {
   "cell_type": "code",
   "execution_count": 5,
   "id": "3b876ec2",
   "metadata": {
    "execution": {
     "iopub.execute_input": "2023-02-27T12:14:36.077451Z",
     "iopub.status.busy": "2023-02-27T12:14:36.076571Z",
     "iopub.status.idle": "2023-02-27T12:14:36.107613Z",
     "shell.execute_reply": "2023-02-27T12:14:36.106378Z"
    },
    "papermill": {
     "duration": 0.057974,
     "end_time": "2023-02-27T12:14:36.110304",
     "exception": false,
     "start_time": "2023-02-27T12:14:36.052330",
     "status": "completed"
    },
    "tags": []
   },
   "outputs": [
    {
     "data": {
      "text/html": [
       "<div>\n",
       "<style scoped>\n",
       "    .dataframe tbody tr th:only-of-type {\n",
       "        vertical-align: middle;\n",
       "    }\n",
       "\n",
       "    .dataframe tbody tr th {\n",
       "        vertical-align: top;\n",
       "    }\n",
       "\n",
       "    .dataframe thead th {\n",
       "        text-align: right;\n",
       "    }\n",
       "</style>\n",
       "<table border=\"1\" class=\"dataframe\">\n",
       "  <thead>\n",
       "    <tr style=\"text-align: right;\">\n",
       "      <th></th>\n",
       "      <th>Merchant_ID</th>\n",
       "      <th>Fraudster</th>\n",
       "    </tr>\n",
       "  </thead>\n",
       "  <tbody>\n",
       "    <tr>\n",
       "      <th>0</th>\n",
       "      <td>221592</td>\n",
       "      <td>0</td>\n",
       "    </tr>\n",
       "    <tr>\n",
       "      <th>1</th>\n",
       "      <td>316935</td>\n",
       "      <td>1</td>\n",
       "    </tr>\n",
       "    <tr>\n",
       "      <th>2</th>\n",
       "      <td>38454</td>\n",
       "      <td>1</td>\n",
       "    </tr>\n",
       "    <tr>\n",
       "      <th>3</th>\n",
       "      <td>214437</td>\n",
       "      <td>1</td>\n",
       "    </tr>\n",
       "    <tr>\n",
       "      <th>4</th>\n",
       "      <td>296240</td>\n",
       "      <td>1</td>\n",
       "    </tr>\n",
       "  </tbody>\n",
       "</table>\n",
       "</div>"
      ],
      "text/plain": [
       "   Merchant_ID  Fraudster\n",
       "0       221592          0\n",
       "1       316935          1\n",
       "2        38454          1\n",
       "3       214437          1\n",
       "4       296240          1"
      ]
     },
     "execution_count": 5,
     "metadata": {},
     "output_type": "execute_result"
    }
   ],
   "source": [
    "csv_train_3 = pd.read_csv(\"train.csv\",na_values=['.',':','?','!','@','#','$','%','^','&','*',','])\n",
    "csv_train_3.head()"
   ]
  },
  {
   "cell_type": "markdown",
   "id": "d59cfd1e",
   "metadata": {
    "papermill": {
     "duration": 0.021772,
     "end_time": "2023-02-27T12:14:36.154506",
     "exception": false,
     "start_time": "2023-02-27T12:14:36.132734",
     "status": "completed"
    },
    "tags": []
   },
   "source": [
    "## Merging CSV files"
   ]
  },
  {
   "cell_type": "code",
   "execution_count": 6,
   "id": "3c962c9c",
   "metadata": {
    "execution": {
     "iopub.execute_input": "2023-02-27T12:14:36.200792Z",
     "iopub.status.busy": "2023-02-27T12:14:36.200341Z",
     "iopub.status.idle": "2023-02-27T12:14:36.280805Z",
     "shell.execute_reply": "2023-02-27T12:14:36.279083Z"
    },
    "papermill": {
     "duration": 0.106425,
     "end_time": "2023-02-27T12:14:36.283445",
     "exception": false,
     "start_time": "2023-02-27T12:14:36.177020",
     "status": "completed"
    },
    "tags": []
   },
   "outputs": [
    {
     "data": {
      "text/html": [
       "<div>\n",
       "<style scoped>\n",
       "    .dataframe tbody tr th:only-of-type {\n",
       "        vertical-align: middle;\n",
       "    }\n",
       "\n",
       "    .dataframe tbody tr th {\n",
       "        vertical-align: top;\n",
       "    }\n",
       "\n",
       "    .dataframe thead th {\n",
       "        text-align: right;\n",
       "    }\n",
       "</style>\n",
       "<table border=\"1\" class=\"dataframe\">\n",
       "  <thead>\n",
       "    <tr style=\"text-align: right;\">\n",
       "      <th></th>\n",
       "      <th>Ecommerce_Provider_ID</th>\n",
       "      <th>Merchant_ID</th>\n",
       "      <th>Merchant_Registration_Date</th>\n",
       "      <th>Registered_Device_ID</th>\n",
       "      <th>Gender</th>\n",
       "      <th>Age</th>\n",
       "      <th>IP_Address</th>\n",
       "      <th>Customer_ID</th>\n",
       "      <th>Order_ID</th>\n",
       "      <th>Date_of_Order</th>\n",
       "      <th>Order_Value_USD</th>\n",
       "      <th>Order_Source</th>\n",
       "      <th>Order_Payment_Method</th>\n",
       "    </tr>\n",
       "  </thead>\n",
       "  <tbody>\n",
       "    <tr>\n",
       "      <th>0</th>\n",
       "      <td>1746213</td>\n",
       "      <td>50448</td>\n",
       "      <td>2018-05-01 21:15:11</td>\n",
       "      <td>VATQMMZTVOZUT</td>\n",
       "      <td>F</td>\n",
       "      <td>39</td>\n",
       "      <td>48.151.136.76</td>\n",
       "      <td>129697</td>\n",
       "      <td>3b8983a83c7b</td>\n",
       "      <td>2018-07-30 10:59:13</td>\n",
       "      <td>90</td>\n",
       "      <td>SEO</td>\n",
       "      <td>Debit Card</td>\n",
       "    </tr>\n",
       "    <tr>\n",
       "      <th>1</th>\n",
       "      <td>1746213</td>\n",
       "      <td>338754</td>\n",
       "      <td>2018-04-14 10:13:00</td>\n",
       "      <td>LJCILLBRQZNKS</td>\n",
       "      <td>M</td>\n",
       "      <td>35</td>\n",
       "      <td>94.9.145.169</td>\n",
       "      <td>117390</td>\n",
       "      <td>34b5eb921228</td>\n",
       "      <td>2018-06-15 11:19:47</td>\n",
       "      <td>98</td>\n",
       "      <td>SEO</td>\n",
       "      <td>Internet Banking</td>\n",
       "    </tr>\n",
       "    <tr>\n",
       "      <th>2</th>\n",
       "      <td>1746213</td>\n",
       "      <td>291127</td>\n",
       "      <td>2018-06-20 07:44:22</td>\n",
       "      <td>JFVHSUGKDAYZV</td>\n",
       "      <td>F</td>\n",
       "      <td>40</td>\n",
       "      <td>58.94.157.121</td>\n",
       "      <td>120162</td>\n",
       "      <td>41a1c86ff08b</td>\n",
       "      <td>2018-08-13 10:06:26</td>\n",
       "      <td>95</td>\n",
       "      <td>SEO</td>\n",
       "      <td>Credit Card</td>\n",
       "    </tr>\n",
       "    <tr>\n",
       "      <th>3</th>\n",
       "      <td>1746213</td>\n",
       "      <td>319919</td>\n",
       "      <td>2018-06-27 01:41:39</td>\n",
       "      <td>WFRXMPLQYXRMY</td>\n",
       "      <td>M</td>\n",
       "      <td>37</td>\n",
       "      <td>193.187.41.186</td>\n",
       "      <td>128228</td>\n",
       "      <td>e8c3ad80d916</td>\n",
       "      <td>2018-07-22 15:46:51</td>\n",
       "      <td>100</td>\n",
       "      <td>Direct</td>\n",
       "      <td>E-wallet</td>\n",
       "    </tr>\n",
       "    <tr>\n",
       "      <th>4</th>\n",
       "      <td>1746213</td>\n",
       "      <td>195911</td>\n",
       "      <td>2018-01-05 00:55:41</td>\n",
       "      <td>GGHKWMSWHCMID</td>\n",
       "      <td>F</td>\n",
       "      <td>27</td>\n",
       "      <td>125.96.20.172</td>\n",
       "      <td>136029</td>\n",
       "      <td>e71ab1f26785</td>\n",
       "      <td>2018-04-16 08:02:44</td>\n",
       "      <td>78</td>\n",
       "      <td>SEO</td>\n",
       "      <td>E-wallet</td>\n",
       "    </tr>\n",
       "  </tbody>\n",
       "</table>\n",
       "</div>"
      ],
      "text/plain": [
       "   Ecommerce_Provider_ID  Merchant_ID Merchant_Registration_Date  \\\n",
       "0                1746213        50448        2018-05-01 21:15:11   \n",
       "1                1746213       338754        2018-04-14 10:13:00   \n",
       "2                1746213       291127        2018-06-20 07:44:22   \n",
       "3                1746213       319919        2018-06-27 01:41:39   \n",
       "4                1746213       195911        2018-01-05 00:55:41   \n",
       "\n",
       "  Registered_Device_ID Gender  Age      IP_Address  Customer_ID      Order_ID  \\\n",
       "0        VATQMMZTVOZUT      F   39   48.151.136.76       129697  3b8983a83c7b   \n",
       "1        LJCILLBRQZNKS      M   35    94.9.145.169       117390  34b5eb921228   \n",
       "2        JFVHSUGKDAYZV      F   40   58.94.157.121       120162  41a1c86ff08b   \n",
       "3        WFRXMPLQYXRMY      M   37  193.187.41.186       128228  e8c3ad80d916   \n",
       "4        GGHKWMSWHCMID      F   27   125.96.20.172       136029  e71ab1f26785   \n",
       "\n",
       "         Date_of_Order  Order_Value_USD Order_Source Order_Payment_Method  \n",
       "0  2018-07-30 10:59:13               90          SEO           Debit Card  \n",
       "1  2018-06-15 11:19:47               98          SEO     Internet Banking  \n",
       "2  2018-08-13 10:06:26               95          SEO          Credit Card  \n",
       "3  2018-07-22 15:46:51              100       Direct             E-wallet  \n",
       "4  2018-04-16 08:02:44               78          SEO             E-wallet  "
      ]
     },
     "execution_count": 6,
     "metadata": {},
     "output_type": "execute_result"
    }
   ],
   "source": [
    "merged_train_data_1 = csv_train_1.merge(csv_train_2,on=[\"Merchant_ID\"])\n",
    "merged_train_data_1.head()"
   ]
  },
  {
   "cell_type": "code",
   "execution_count": 7,
   "id": "8d05f439",
   "metadata": {
    "execution": {
     "iopub.execute_input": "2023-02-27T12:14:36.331369Z",
     "iopub.status.busy": "2023-02-27T12:14:36.330959Z",
     "iopub.status.idle": "2023-02-27T12:14:36.369910Z",
     "shell.execute_reply": "2023-02-27T12:14:36.367954Z"
    },
    "papermill": {
     "duration": 0.066128,
     "end_time": "2023-02-27T12:14:36.372713",
     "exception": false,
     "start_time": "2023-02-27T12:14:36.306585",
     "status": "completed"
    },
    "tags": []
   },
   "outputs": [
    {
     "data": {
      "text/html": [
       "<div>\n",
       "<style scoped>\n",
       "    .dataframe tbody tr th:only-of-type {\n",
       "        vertical-align: middle;\n",
       "    }\n",
       "\n",
       "    .dataframe tbody tr th {\n",
       "        vertical-align: top;\n",
       "    }\n",
       "\n",
       "    .dataframe thead th {\n",
       "        text-align: right;\n",
       "    }\n",
       "</style>\n",
       "<table border=\"1\" class=\"dataframe\">\n",
       "  <thead>\n",
       "    <tr style=\"text-align: right;\">\n",
       "      <th></th>\n",
       "      <th>Ecommerce_Provider_ID</th>\n",
       "      <th>Merchant_ID</th>\n",
       "      <th>Merchant_Registration_Date</th>\n",
       "      <th>Registered_Device_ID</th>\n",
       "      <th>Gender</th>\n",
       "      <th>Age</th>\n",
       "      <th>IP_Address</th>\n",
       "      <th>Customer_ID</th>\n",
       "      <th>Order_ID</th>\n",
       "      <th>Date_of_Order</th>\n",
       "      <th>Order_Value_USD</th>\n",
       "      <th>Order_Source</th>\n",
       "      <th>Order_Payment_Method</th>\n",
       "      <th>Fraudster</th>\n",
       "    </tr>\n",
       "  </thead>\n",
       "  <tbody>\n",
       "    <tr>\n",
       "      <th>0</th>\n",
       "      <td>1746213</td>\n",
       "      <td>50448</td>\n",
       "      <td>2018-05-01 21:15:11</td>\n",
       "      <td>VATQMMZTVOZUT</td>\n",
       "      <td>F</td>\n",
       "      <td>39</td>\n",
       "      <td>48.151.136.76</td>\n",
       "      <td>129697</td>\n",
       "      <td>3b8983a83c7b</td>\n",
       "      <td>2018-07-30 10:59:13</td>\n",
       "      <td>90</td>\n",
       "      <td>SEO</td>\n",
       "      <td>Debit Card</td>\n",
       "      <td>0</td>\n",
       "    </tr>\n",
       "    <tr>\n",
       "      <th>1</th>\n",
       "      <td>1746213</td>\n",
       "      <td>338754</td>\n",
       "      <td>2018-04-14 10:13:00</td>\n",
       "      <td>LJCILLBRQZNKS</td>\n",
       "      <td>M</td>\n",
       "      <td>35</td>\n",
       "      <td>94.9.145.169</td>\n",
       "      <td>117390</td>\n",
       "      <td>34b5eb921228</td>\n",
       "      <td>2018-06-15 11:19:47</td>\n",
       "      <td>98</td>\n",
       "      <td>SEO</td>\n",
       "      <td>Internet Banking</td>\n",
       "      <td>0</td>\n",
       "    </tr>\n",
       "    <tr>\n",
       "      <th>2</th>\n",
       "      <td>1746213</td>\n",
       "      <td>291127</td>\n",
       "      <td>2018-06-20 07:44:22</td>\n",
       "      <td>JFVHSUGKDAYZV</td>\n",
       "      <td>F</td>\n",
       "      <td>40</td>\n",
       "      <td>58.94.157.121</td>\n",
       "      <td>120162</td>\n",
       "      <td>41a1c86ff08b</td>\n",
       "      <td>2018-08-13 10:06:26</td>\n",
       "      <td>95</td>\n",
       "      <td>SEO</td>\n",
       "      <td>Credit Card</td>\n",
       "      <td>0</td>\n",
       "    </tr>\n",
       "    <tr>\n",
       "      <th>3</th>\n",
       "      <td>1746213</td>\n",
       "      <td>319919</td>\n",
       "      <td>2018-06-27 01:41:39</td>\n",
       "      <td>WFRXMPLQYXRMY</td>\n",
       "      <td>M</td>\n",
       "      <td>37</td>\n",
       "      <td>193.187.41.186</td>\n",
       "      <td>128228</td>\n",
       "      <td>e8c3ad80d916</td>\n",
       "      <td>2018-07-22 15:46:51</td>\n",
       "      <td>100</td>\n",
       "      <td>Direct</td>\n",
       "      <td>E-wallet</td>\n",
       "      <td>0</td>\n",
       "    </tr>\n",
       "    <tr>\n",
       "      <th>4</th>\n",
       "      <td>1746213</td>\n",
       "      <td>195911</td>\n",
       "      <td>2018-01-05 00:55:41</td>\n",
       "      <td>GGHKWMSWHCMID</td>\n",
       "      <td>F</td>\n",
       "      <td>27</td>\n",
       "      <td>125.96.20.172</td>\n",
       "      <td>136029</td>\n",
       "      <td>e71ab1f26785</td>\n",
       "      <td>2018-04-16 08:02:44</td>\n",
       "      <td>78</td>\n",
       "      <td>SEO</td>\n",
       "      <td>E-wallet</td>\n",
       "      <td>0</td>\n",
       "    </tr>\n",
       "  </tbody>\n",
       "</table>\n",
       "</div>"
      ],
      "text/plain": [
       "   Ecommerce_Provider_ID  Merchant_ID Merchant_Registration_Date  \\\n",
       "0                1746213        50448        2018-05-01 21:15:11   \n",
       "1                1746213       338754        2018-04-14 10:13:00   \n",
       "2                1746213       291127        2018-06-20 07:44:22   \n",
       "3                1746213       319919        2018-06-27 01:41:39   \n",
       "4                1746213       195911        2018-01-05 00:55:41   \n",
       "\n",
       "  Registered_Device_ID Gender  Age      IP_Address  Customer_ID      Order_ID  \\\n",
       "0        VATQMMZTVOZUT      F   39   48.151.136.76       129697  3b8983a83c7b   \n",
       "1        LJCILLBRQZNKS      M   35    94.9.145.169       117390  34b5eb921228   \n",
       "2        JFVHSUGKDAYZV      F   40   58.94.157.121       120162  41a1c86ff08b   \n",
       "3        WFRXMPLQYXRMY      M   37  193.187.41.186       128228  e8c3ad80d916   \n",
       "4        GGHKWMSWHCMID      F   27   125.96.20.172       136029  e71ab1f26785   \n",
       "\n",
       "         Date_of_Order  Order_Value_USD Order_Source Order_Payment_Method  \\\n",
       "0  2018-07-30 10:59:13               90          SEO           Debit Card   \n",
       "1  2018-06-15 11:19:47               98          SEO     Internet Banking   \n",
       "2  2018-08-13 10:06:26               95          SEO          Credit Card   \n",
       "3  2018-07-22 15:46:51              100       Direct             E-wallet   \n",
       "4  2018-04-16 08:02:44               78          SEO             E-wallet   \n",
       "\n",
       "   Fraudster  \n",
       "0          0  \n",
       "1          0  \n",
       "2          0  \n",
       "3          0  \n",
       "4          0  "
      ]
     },
     "execution_count": 7,
     "metadata": {},
     "output_type": "execute_result"
    }
   ],
   "source": [
    "merged_train_data_2 = merged_train_data_1.merge(csv_train_3,on=[\"Merchant_ID\"])\n",
    "merged_train_data_2.head()"
   ]
  },
  {
   "cell_type": "markdown",
   "id": "09583981",
   "metadata": {
    "papermill": {
     "duration": 0.022332,
     "end_time": "2023-02-27T12:14:36.418125",
     "exception": false,
     "start_time": "2023-02-27T12:14:36.395793",
     "status": "completed"
    },
    "tags": []
   },
   "source": [
    "# EDA (Exploratory Data Analysis)"
   ]
  },
  {
   "cell_type": "code",
   "execution_count": 8,
   "id": "d2f547fa",
   "metadata": {
    "execution": {
     "iopub.execute_input": "2023-02-27T12:14:36.467282Z",
     "iopub.status.busy": "2023-02-27T12:14:36.466871Z",
     "iopub.status.idle": "2023-02-27T12:14:36.472454Z",
     "shell.execute_reply": "2023-02-27T12:14:36.471112Z"
    },
    "papermill": {
     "duration": 0.033951,
     "end_time": "2023-02-27T12:14:36.475762",
     "exception": false,
     "start_time": "2023-02-27T12:14:36.441811",
     "status": "completed"
    },
    "tags": []
   },
   "outputs": [
    {
     "name": "stdout",
     "output_type": "stream",
     "text": [
      "(54213, 13)\n",
      "(54213, 14)\n"
     ]
    }
   ],
   "source": [
    "print(merged_train_data_1.shape)\n",
    "print(merged_train_data_2.shape)"
   ]
  },
  {
   "cell_type": "code",
   "execution_count": 9,
   "id": "cd7ee17e",
   "metadata": {
    "execution": {
     "iopub.execute_input": "2023-02-27T12:14:36.524816Z",
     "iopub.status.busy": "2023-02-27T12:14:36.524447Z",
     "iopub.status.idle": "2023-02-27T12:14:36.572731Z",
     "shell.execute_reply": "2023-02-27T12:14:36.571047Z"
    },
    "papermill": {
     "duration": 0.075893,
     "end_time": "2023-02-27T12:14:36.575655",
     "exception": false,
     "start_time": "2023-02-27T12:14:36.499762",
     "status": "completed"
    },
    "tags": []
   },
   "outputs": [
    {
     "name": "stdout",
     "output_type": "stream",
     "text": [
      "<class 'pandas.core.frame.DataFrame'>\n",
      "Int64Index: 54213 entries, 0 to 54212\n",
      "Data columns (total 14 columns):\n",
      " #   Column                      Non-Null Count  Dtype \n",
      "---  ------                      --------------  ----- \n",
      " 0   Ecommerce_Provider_ID       54213 non-null  int64 \n",
      " 1   Merchant_ID                 54213 non-null  int64 \n",
      " 2   Merchant_Registration_Date  54213 non-null  object\n",
      " 3   Registered_Device_ID        54213 non-null  object\n",
      " 4   Gender                      54213 non-null  object\n",
      " 5   Age                         54213 non-null  int64 \n",
      " 6   IP_Address                  54213 non-null  object\n",
      " 7   Customer_ID                 54213 non-null  int64 \n",
      " 8   Order_ID                    54213 non-null  object\n",
      " 9   Date_of_Order               54213 non-null  object\n",
      " 10  Order_Value_USD             54213 non-null  int64 \n",
      " 11  Order_Source                54213 non-null  object\n",
      " 12  Order_Payment_Method        54213 non-null  object\n",
      " 13  Fraudster                   54213 non-null  int64 \n",
      "dtypes: int64(6), object(8)\n",
      "memory usage: 6.2+ MB\n"
     ]
    }
   ],
   "source": [
    "merged_train_data_2.info()"
   ]
  },
  {
   "cell_type": "code",
   "execution_count": 10,
   "id": "efcf8ef2",
   "metadata": {
    "execution": {
     "iopub.execute_input": "2023-02-27T12:14:36.623592Z",
     "iopub.status.busy": "2023-02-27T12:14:36.623202Z",
     "iopub.status.idle": "2023-02-27T12:14:36.706589Z",
     "shell.execute_reply": "2023-02-27T12:14:36.705370Z"
    },
    "papermill": {
     "duration": 0.110936,
     "end_time": "2023-02-27T12:14:36.709882",
     "exception": false,
     "start_time": "2023-02-27T12:14:36.598946",
     "status": "completed"
    },
    "tags": []
   },
   "outputs": [
    {
     "data": {
      "text/plain": [
       "Ecommerce_Provider_ID             1\n",
       "Merchant_ID                   54213\n",
       "Merchant_Registration_Date    54213\n",
       "Registered_Device_ID          51291\n",
       "Gender                            2\n",
       "Age                              53\n",
       "IP_Address                    52028\n",
       "Customer_ID                   34081\n",
       "Order_ID                      54213\n",
       "Date_of_Order                 54161\n",
       "Order_Value_USD                 116\n",
       "Order_Source                      3\n",
       "Order_Payment_Method              5\n",
       "Fraudster                         2\n",
       "dtype: int64"
      ]
     },
     "execution_count": 10,
     "metadata": {},
     "output_type": "execute_result"
    }
   ],
   "source": [
    "merged_train_data_2.nunique()"
   ]
  },
  {
   "cell_type": "code",
   "execution_count": 11,
   "id": "7286ba36",
   "metadata": {
    "execution": {
     "iopub.execute_input": "2023-02-27T12:14:36.759189Z",
     "iopub.status.busy": "2023-02-27T12:14:36.758286Z",
     "iopub.status.idle": "2023-02-27T12:14:36.765681Z",
     "shell.execute_reply": "2023-02-27T12:14:36.764113Z"
    },
    "papermill": {
     "duration": 0.033954,
     "end_time": "2023-02-27T12:14:36.767783",
     "exception": false,
     "start_time": "2023-02-27T12:14:36.733829",
     "status": "completed"
    },
    "tags": []
   },
   "outputs": [
    {
     "data": {
      "text/plain": [
       "Index(['Ecommerce_Provider_ID', 'Merchant_ID', 'Merchant_Registration_Date',\n",
       "       'Registered_Device_ID', 'Gender', 'Age', 'IP_Address', 'Customer_ID',\n",
       "       'Order_ID', 'Date_of_Order', 'Order_Value_USD', 'Order_Source',\n",
       "       'Order_Payment_Method', 'Fraudster'],\n",
       "      dtype='object')"
      ]
     },
     "execution_count": 11,
     "metadata": {},
     "output_type": "execute_result"
    }
   ],
   "source": [
    "merged_train_data_2.columns"
   ]
  },
  {
   "cell_type": "code",
   "execution_count": 12,
   "id": "ff82f8bf",
   "metadata": {
    "execution": {
     "iopub.execute_input": "2023-02-27T12:14:36.816586Z",
     "iopub.status.busy": "2023-02-27T12:14:36.815562Z",
     "iopub.status.idle": "2023-02-27T12:14:36.836898Z",
     "shell.execute_reply": "2023-02-27T12:14:36.835621Z"
    },
    "papermill": {
     "duration": 0.048371,
     "end_time": "2023-02-27T12:14:36.839542",
     "exception": false,
     "start_time": "2023-02-27T12:14:36.791171",
     "status": "completed"
    },
    "tags": []
   },
   "outputs": [],
   "source": [
    "#Dropping unnecessary variables and saving into a dataframe\n",
    "\n",
    "Ecommerce_fraud = merged_train_data_2.drop([\"Merchant_ID\",\"Customer_ID\",\"Ecommerce_Provider_ID\",\"Merchant_Registration_Date\",\"Registered_Device_ID\",\"Date_of_Order\",\"Order_ID\",\"IP_Address\"], axis=1)"
   ]
  },
  {
   "cell_type": "code",
   "execution_count": 13,
   "id": "983d6d5d",
   "metadata": {
    "execution": {
     "iopub.execute_input": "2023-02-27T12:14:36.888792Z",
     "iopub.status.busy": "2023-02-27T12:14:36.888188Z",
     "iopub.status.idle": "2023-02-27T12:14:36.904102Z",
     "shell.execute_reply": "2023-02-27T12:14:36.902981Z"
    },
    "papermill": {
     "duration": 0.043955,
     "end_time": "2023-02-27T12:14:36.906806",
     "exception": false,
     "start_time": "2023-02-27T12:14:36.862851",
     "status": "completed"
    },
    "tags": []
   },
   "outputs": [
    {
     "data": {
      "text/plain": [
       "Gender                  0\n",
       "Age                     0\n",
       "Order_Value_USD         0\n",
       "Order_Source            0\n",
       "Order_Payment_Method    0\n",
       "Fraudster               0\n",
       "dtype: int64"
      ]
     },
     "execution_count": 13,
     "metadata": {},
     "output_type": "execute_result"
    }
   ],
   "source": [
    "#Checking for null values\n",
    "\n",
    "Ecommerce_fraud.isnull().sum()"
   ]
  },
  {
   "cell_type": "code",
   "execution_count": 14,
   "id": "7b8ddbee",
   "metadata": {
    "execution": {
     "iopub.execute_input": "2023-02-27T12:14:36.956159Z",
     "iopub.status.busy": "2023-02-27T12:14:36.955829Z",
     "iopub.status.idle": "2023-02-27T12:14:36.975889Z",
     "shell.execute_reply": "2023-02-27T12:14:36.974018Z"
    },
    "papermill": {
     "duration": 0.047644,
     "end_time": "2023-02-27T12:14:36.978244",
     "exception": false,
     "start_time": "2023-02-27T12:14:36.930600",
     "status": "completed"
    },
    "tags": []
   },
   "outputs": [
    {
     "name": "stdout",
     "output_type": "stream",
     "text": [
      "<class 'pandas.core.frame.DataFrame'>\n",
      "Int64Index: 54213 entries, 0 to 54212\n",
      "Data columns (total 6 columns):\n",
      " #   Column                Non-Null Count  Dtype \n",
      "---  ------                --------------  ----- \n",
      " 0   Gender                54213 non-null  object\n",
      " 1   Age                   54213 non-null  int64 \n",
      " 2   Order_Value_USD       54213 non-null  int64 \n",
      " 3   Order_Source          54213 non-null  object\n",
      " 4   Order_Payment_Method  54213 non-null  object\n",
      " 5   Fraudster             54213 non-null  int64 \n",
      "dtypes: int64(3), object(3)\n",
      "memory usage: 2.9+ MB\n"
     ]
    }
   ],
   "source": [
    "Ecommerce_fraud.info()"
   ]
  },
  {
   "cell_type": "code",
   "execution_count": 15,
   "id": "f33c3cb4",
   "metadata": {
    "execution": {
     "iopub.execute_input": "2023-02-27T12:14:37.028510Z",
     "iopub.status.busy": "2023-02-27T12:14:37.028129Z",
     "iopub.status.idle": "2023-02-27T12:14:37.047686Z",
     "shell.execute_reply": "2023-02-27T12:14:37.046301Z"
    },
    "papermill": {
     "duration": 0.04724,
     "end_time": "2023-02-27T12:14:37.049803",
     "exception": false,
     "start_time": "2023-02-27T12:14:37.002563",
     "status": "completed"
    },
    "tags": []
   },
   "outputs": [
    {
     "data": {
      "text/html": [
       "<div>\n",
       "<style scoped>\n",
       "    .dataframe tbody tr th:only-of-type {\n",
       "        vertical-align: middle;\n",
       "    }\n",
       "\n",
       "    .dataframe tbody tr th {\n",
       "        vertical-align: top;\n",
       "    }\n",
       "\n",
       "    .dataframe thead th {\n",
       "        text-align: right;\n",
       "    }\n",
       "</style>\n",
       "<table border=\"1\" class=\"dataframe\">\n",
       "  <thead>\n",
       "    <tr style=\"text-align: right;\">\n",
       "      <th></th>\n",
       "      <th>Gender</th>\n",
       "      <th>Age</th>\n",
       "      <th>Order_Value_USD</th>\n",
       "      <th>Order_Source</th>\n",
       "      <th>Order_Payment_Method</th>\n",
       "      <th>Fraudster</th>\n",
       "    </tr>\n",
       "  </thead>\n",
       "  <tbody>\n",
       "    <tr>\n",
       "      <th>0</th>\n",
       "      <td>F</td>\n",
       "      <td>39</td>\n",
       "      <td>90</td>\n",
       "      <td>SEO</td>\n",
       "      <td>Debit Card</td>\n",
       "      <td>0</td>\n",
       "    </tr>\n",
       "    <tr>\n",
       "      <th>1</th>\n",
       "      <td>M</td>\n",
       "      <td>35</td>\n",
       "      <td>98</td>\n",
       "      <td>SEO</td>\n",
       "      <td>Internet Banking</td>\n",
       "      <td>0</td>\n",
       "    </tr>\n",
       "    <tr>\n",
       "      <th>2</th>\n",
       "      <td>F</td>\n",
       "      <td>40</td>\n",
       "      <td>95</td>\n",
       "      <td>SEO</td>\n",
       "      <td>Credit Card</td>\n",
       "      <td>0</td>\n",
       "    </tr>\n",
       "    <tr>\n",
       "      <th>3</th>\n",
       "      <td>M</td>\n",
       "      <td>37</td>\n",
       "      <td>100</td>\n",
       "      <td>Direct</td>\n",
       "      <td>E-wallet</td>\n",
       "      <td>0</td>\n",
       "    </tr>\n",
       "    <tr>\n",
       "      <th>4</th>\n",
       "      <td>F</td>\n",
       "      <td>27</td>\n",
       "      <td>78</td>\n",
       "      <td>SEO</td>\n",
       "      <td>E-wallet</td>\n",
       "      <td>0</td>\n",
       "    </tr>\n",
       "    <tr>\n",
       "      <th>...</th>\n",
       "      <td>...</td>\n",
       "      <td>...</td>\n",
       "      <td>...</td>\n",
       "      <td>...</td>\n",
       "      <td>...</td>\n",
       "      <td>...</td>\n",
       "    </tr>\n",
       "    <tr>\n",
       "      <th>54208</th>\n",
       "      <td>M</td>\n",
       "      <td>43</td>\n",
       "      <td>108</td>\n",
       "      <td>Ads</td>\n",
       "      <td>E-wallet</td>\n",
       "      <td>0</td>\n",
       "    </tr>\n",
       "    <tr>\n",
       "      <th>54209</th>\n",
       "      <td>M</td>\n",
       "      <td>41</td>\n",
       "      <td>130</td>\n",
       "      <td>Ads</td>\n",
       "      <td>Debit Card</td>\n",
       "      <td>1</td>\n",
       "    </tr>\n",
       "    <tr>\n",
       "      <th>54210</th>\n",
       "      <td>F</td>\n",
       "      <td>36</td>\n",
       "      <td>42</td>\n",
       "      <td>Direct</td>\n",
       "      <td>Debit Card</td>\n",
       "      <td>0</td>\n",
       "    </tr>\n",
       "    <tr>\n",
       "      <th>54211</th>\n",
       "      <td>M</td>\n",
       "      <td>18</td>\n",
       "      <td>82</td>\n",
       "      <td>Ads</td>\n",
       "      <td>Debit Card</td>\n",
       "      <td>0</td>\n",
       "    </tr>\n",
       "    <tr>\n",
       "      <th>54212</th>\n",
       "      <td>F</td>\n",
       "      <td>31</td>\n",
       "      <td>98</td>\n",
       "      <td>SEO</td>\n",
       "      <td>E-wallet</td>\n",
       "      <td>0</td>\n",
       "    </tr>\n",
       "  </tbody>\n",
       "</table>\n",
       "<p>54213 rows × 6 columns</p>\n",
       "</div>"
      ],
      "text/plain": [
       "      Gender  Age  Order_Value_USD Order_Source Order_Payment_Method  \\\n",
       "0          F   39               90          SEO           Debit Card   \n",
       "1          M   35               98          SEO     Internet Banking   \n",
       "2          F   40               95          SEO          Credit Card   \n",
       "3          M   37              100       Direct             E-wallet   \n",
       "4          F   27               78          SEO             E-wallet   \n",
       "...      ...  ...              ...          ...                  ...   \n",
       "54208      M   43              108          Ads             E-wallet   \n",
       "54209      M   41              130          Ads           Debit Card   \n",
       "54210      F   36               42       Direct           Debit Card   \n",
       "54211      M   18               82          Ads           Debit Card   \n",
       "54212      F   31               98          SEO             E-wallet   \n",
       "\n",
       "       Fraudster  \n",
       "0              0  \n",
       "1              0  \n",
       "2              0  \n",
       "3              0  \n",
       "4              0  \n",
       "...          ...  \n",
       "54208          0  \n",
       "54209          1  \n",
       "54210          0  \n",
       "54211          0  \n",
       "54212          0  \n",
       "\n",
       "[54213 rows x 6 columns]"
      ]
     },
     "execution_count": 15,
     "metadata": {},
     "output_type": "execute_result"
    }
   ],
   "source": [
    "Ecommerce_fraud"
   ]
  },
  {
   "cell_type": "markdown",
   "id": "f8ea13d0",
   "metadata": {
    "papermill": {
     "duration": 0.0252,
     "end_time": "2023-02-27T12:14:37.098914",
     "exception": false,
     "start_time": "2023-02-27T12:14:37.073714",
     "status": "completed"
    },
    "tags": []
   },
   "source": [
    "### Dropping variables and Splitting"
   ]
  },
  {
   "cell_type": "code",
   "execution_count": 16,
   "id": "a1519eec",
   "metadata": {
    "execution": {
     "iopub.execute_input": "2023-02-27T12:14:37.149547Z",
     "iopub.status.busy": "2023-02-27T12:14:37.149144Z",
     "iopub.status.idle": "2023-02-27T12:14:37.175263Z",
     "shell.execute_reply": "2023-02-27T12:14:37.173866Z"
    },
    "papermill": {
     "duration": 0.054462,
     "end_time": "2023-02-27T12:14:37.177708",
     "exception": false,
     "start_time": "2023-02-27T12:14:37.123246",
     "status": "completed"
    },
    "tags": []
   },
   "outputs": [
    {
     "data": {
      "text/plain": [
       "Gender                  category\n",
       "Age                        int64\n",
       "Order_Value_USD            int64\n",
       "Order_Source            category\n",
       "Order_Payment_Method    category\n",
       "Fraudster               category\n",
       "dtype: object"
      ]
     },
     "execution_count": 16,
     "metadata": {},
     "output_type": "execute_result"
    }
   ],
   "source": [
    "# Changing data types into categorical\n",
    "\n",
    "Ecommerce_fraud = Ecommerce_fraud.astype({\"Fraudster\":\"category\",\"Gender\":\"category\",\"Order_Source\":\"category\",\"Order_Payment_Method\":\"category\"})\n",
    "Ecommerce_fraud.dtypes"
   ]
  },
  {
   "cell_type": "code",
   "execution_count": 17,
   "id": "da4f3da5",
   "metadata": {
    "execution": {
     "iopub.execute_input": "2023-02-27T12:14:37.228392Z",
     "iopub.status.busy": "2023-02-27T12:14:37.227984Z",
     "iopub.status.idle": "2023-02-27T12:14:37.233711Z",
     "shell.execute_reply": "2023-02-27T12:14:37.232535Z"
    },
    "papermill": {
     "duration": 0.034217,
     "end_time": "2023-02-27T12:14:37.236356",
     "exception": false,
     "start_time": "2023-02-27T12:14:37.202139",
     "status": "completed"
    },
    "tags": []
   },
   "outputs": [],
   "source": [
    "cat_cols = [\"Gender\",\"Order_Source\",\"Order_Payment_Method\"]"
   ]
  },
  {
   "cell_type": "code",
   "execution_count": 18,
   "id": "eee1ae92",
   "metadata": {
    "execution": {
     "iopub.execute_input": "2023-02-27T12:14:37.285984Z",
     "iopub.status.busy": "2023-02-27T12:14:37.285571Z",
     "iopub.status.idle": "2023-02-27T12:14:37.293060Z",
     "shell.execute_reply": "2023-02-27T12:14:37.291752Z"
    },
    "papermill": {
     "duration": 0.035391,
     "end_time": "2023-02-27T12:14:37.295753",
     "exception": false,
     "start_time": "2023-02-27T12:14:37.260362",
     "status": "completed"
    },
    "tags": []
   },
   "outputs": [
    {
     "data": {
      "text/plain": [
       "['Gender', 'Order_Source', 'Order_Payment_Method']"
      ]
     },
     "execution_count": 18,
     "metadata": {},
     "output_type": "execute_result"
    }
   ],
   "source": [
    "cat_cols"
   ]
  },
  {
   "cell_type": "code",
   "execution_count": 19,
   "id": "177ced43",
   "metadata": {
    "execution": {
     "iopub.execute_input": "2023-02-27T12:14:37.346069Z",
     "iopub.status.busy": "2023-02-27T12:14:37.345691Z",
     "iopub.status.idle": "2023-02-27T12:14:37.497880Z",
     "shell.execute_reply": "2023-02-27T12:14:37.496863Z"
    },
    "papermill": {
     "duration": 0.18,
     "end_time": "2023-02-27T12:14:37.500024",
     "exception": false,
     "start_time": "2023-02-27T12:14:37.320024",
     "status": "completed"
    },
    "tags": []
   },
   "outputs": [
    {
     "data": {
      "image/png": "[encoded data removed]",
      "text/plain": [
       "<Figure size 640x480 with 1 Axes>"
      ]
     },
     "metadata": {},
     "output_type": "display_data"
    }
   ],
   "source": [
    "sns.countplot(x='Gender', data=Ecommerce_fraud)\n",
    "plt.show()"
   ]
  },
  {
   "cell_type": "code",
   "execution_count": 20,
   "id": "8f9b7cbf",
   "metadata": {
    "execution": {
     "iopub.execute_input": "2023-02-27T12:14:37.553666Z",
     "iopub.status.busy": "2023-02-27T12:14:37.553300Z",
     "iopub.status.idle": "2023-02-27T12:14:37.670602Z",
     "shell.execute_reply": "2023-02-27T12:14:37.669654Z"
    },
    "papermill": {
     "duration": 0.144916,
     "end_time": "2023-02-27T12:14:37.672726",
     "exception": false,
     "start_time": "2023-02-27T12:14:37.527810",
     "status": "completed"
    },
    "tags": []
   },
   "outputs": [
    {
     "data": {
      "image/png": "[encoded data removed]",
      "text/plain": [
       "<Figure size 640x480 with 1 Axes>"
      ]
     },
     "metadata": {},
     "output_type": "display_data"
    }
   ],
   "source": [
    "sns.countplot(x='Order_Source', data=Ecommerce_fraud,order=Ecommerce_fraud['Order_Source'].value_counts().index)\n",
    "plt.show()"
   ]
  },
  {
   "cell_type": "code",
   "execution_count": 21,
   "id": "25cff625",
   "metadata": {
    "execution": {
     "iopub.execute_input": "2023-02-27T12:14:37.731835Z",
     "iopub.status.busy": "2023-02-27T12:14:37.730817Z",
     "iopub.status.idle": "2023-02-27T12:14:37.860058Z",
     "shell.execute_reply": "2023-02-27T12:14:37.859146Z"
    },
    "papermill": {
     "duration": 0.15768,
     "end_time": "2023-02-27T12:14:37.862183",
     "exception": false,
     "start_time": "2023-02-27T12:14:37.704503",
     "status": "completed"
    },
    "tags": []
   },
   "outputs": [
    {
     "data": {
      "image/png": "[encoded data removed]",
      "text/plain": [
       "<Figure size 640x480 with 1 Axes>"
      ]
     },
     "metadata": {},
     "output_type": "display_data"
    }
   ],
   "source": [
    "sns.countplot(x='Order_Payment_Method', data=Ecommerce_fraud, order=Ecommerce_fraud['Order_Payment_Method'].value_counts().index)\n",
    "plt.show()"
   ]
  },
  {
   "cell_type": "code",
   "execution_count": 22,
   "id": "aec48473",
   "metadata": {
    "execution": {
     "iopub.execute_input": "2023-02-27T12:14:37.919986Z",
     "iopub.status.busy": "2023-02-27T12:14:37.919558Z",
     "iopub.status.idle": "2023-02-27T12:14:37.924062Z",
     "shell.execute_reply": "2023-02-27T12:14:37.923006Z"
    },
    "papermill": {
     "duration": 0.032571,
     "end_time": "2023-02-27T12:14:37.925993",
     "exception": false,
     "start_time": "2023-02-27T12:14:37.893422",
     "status": "completed"
    },
    "tags": []
   },
   "outputs": [],
   "source": [
    "num_cols = [\"Age\",\"Order_Value_USD\"]"
   ]
  },
  {
   "cell_type": "code",
   "execution_count": 23,
   "id": "ce50e31a",
   "metadata": {
    "execution": {
     "iopub.execute_input": "2023-02-27T12:14:37.979377Z",
     "iopub.status.busy": "2023-02-27T12:14:37.977998Z",
     "iopub.status.idle": "2023-02-27T12:14:37.986098Z",
     "shell.execute_reply": "2023-02-27T12:14:37.984461Z"
    },
    "papermill": {
     "duration": 0.037789,
     "end_time": "2023-02-27T12:14:37.988835",
     "exception": false,
     "start_time": "2023-02-27T12:14:37.951046",
     "status": "completed"
    },
    "tags": []
   },
   "outputs": [
    {
     "data": {
      "text/plain": [
       "['Age', 'Order_Value_USD']"
      ]
     },
     "execution_count": 23,
     "metadata": {},
     "output_type": "execute_result"
    }
   ],
   "source": [
    "num_cols"
   ]
  },
  {
   "cell_type": "code",
   "execution_count": 24,
   "id": "e08ab5fc",
   "metadata": {
    "execution": {
     "iopub.execute_input": "2023-02-27T12:14:38.041522Z",
     "iopub.status.busy": "2023-02-27T12:14:38.040851Z",
     "iopub.status.idle": "2023-02-27T12:14:38.068334Z",
     "shell.execute_reply": "2023-02-27T12:14:38.066710Z"
    },
    "papermill": {
     "duration": 0.05652,
     "end_time": "2023-02-27T12:14:38.070755",
     "exception": false,
     "start_time": "2023-02-27T12:14:38.014235",
     "status": "completed"
    },
    "tags": []
   },
   "outputs": [
    {
     "data": {
      "text/html": [
       "<div>\n",
       "<style scoped>\n",
       "    .dataframe tbody tr th:only-of-type {\n",
       "        vertical-align: middle;\n",
       "    }\n",
       "\n",
       "    .dataframe tbody tr th {\n",
       "        vertical-align: top;\n",
       "    }\n",
       "\n",
       "    .dataframe thead th {\n",
       "        text-align: right;\n",
       "    }\n",
       "</style>\n",
       "<table border=\"1\" class=\"dataframe\">\n",
       "  <thead>\n",
       "    <tr style=\"text-align: right;\">\n",
       "      <th></th>\n",
       "      <th>Age</th>\n",
       "      <th>Order_Value_USD</th>\n",
       "    </tr>\n",
       "  </thead>\n",
       "  <tbody>\n",
       "    <tr>\n",
       "      <th>count</th>\n",
       "      <td>54213.000000</td>\n",
       "      <td>54213.000000</td>\n",
       "    </tr>\n",
       "    <tr>\n",
       "      <th>mean</th>\n",
       "      <td>33.122240</td>\n",
       "      <td>92.230240</td>\n",
       "    </tr>\n",
       "    <tr>\n",
       "      <th>std</th>\n",
       "      <td>8.630091</td>\n",
       "      <td>45.673263</td>\n",
       "    </tr>\n",
       "    <tr>\n",
       "      <th>min</th>\n",
       "      <td>18.000000</td>\n",
       "      <td>22.000000</td>\n",
       "    </tr>\n",
       "    <tr>\n",
       "      <th>25%</th>\n",
       "      <td>27.000000</td>\n",
       "      <td>55.000000</td>\n",
       "    </tr>\n",
       "    <tr>\n",
       "      <th>50%</th>\n",
       "      <td>32.000000</td>\n",
       "      <td>88.000000</td>\n",
       "    </tr>\n",
       "    <tr>\n",
       "      <th>75%</th>\n",
       "      <td>39.000000</td>\n",
       "      <td>122.000000</td>\n",
       "    </tr>\n",
       "    <tr>\n",
       "      <th>max</th>\n",
       "      <td>72.000000</td>\n",
       "      <td>385.000000</td>\n",
       "    </tr>\n",
       "  </tbody>\n",
       "</table>\n",
       "</div>"
      ],
      "text/plain": [
       "                Age  Order_Value_USD\n",
       "count  54213.000000     54213.000000\n",
       "mean      33.122240        92.230240\n",
       "std        8.630091        45.673263\n",
       "min       18.000000        22.000000\n",
       "25%       27.000000        55.000000\n",
       "50%       32.000000        88.000000\n",
       "75%       39.000000       122.000000\n",
       "max       72.000000       385.000000"
      ]
     },
     "execution_count": 24,
     "metadata": {},
     "output_type": "execute_result"
    }
   ],
   "source": [
    "#Checking for outliers\n",
    "\n",
    "Ecommerce_fraud[num_cols].describe()"
   ]
  },
  {
   "cell_type": "markdown",
   "id": "9fd0d9f8",
   "metadata": {
    "papermill": {
     "duration": 0.024788,
     "end_time": "2023-02-27T12:14:38.121531",
     "exception": false,
     "start_time": "2023-02-27T12:14:38.096743",
     "status": "completed"
    },
    "tags": []
   },
   "source": [
    "# Splitting the data into Train and Validation data"
   ]
  },
  {
   "cell_type": "code",
   "execution_count": 25,
   "id": "16c26bd8",
   "metadata": {
    "execution": {
     "iopub.execute_input": "2023-02-27T12:14:38.173748Z",
     "iopub.status.busy": "2023-02-27T12:14:38.173334Z",
     "iopub.status.idle": "2023-02-27T12:14:39.816333Z",
     "shell.execute_reply": "2023-02-27T12:14:39.815140Z"
    },
    "papermill": {
     "duration": 1.672173,
     "end_time": "2023-02-27T12:14:39.818922",
     "exception": false,
     "start_time": "2023-02-27T12:14:38.146749",
     "status": "completed"
    },
    "tags": []
   },
   "outputs": [],
   "source": [
    "import statsmodels.api as sm\n",
    "from sklearn.model_selection import train_test_split"
   ]
  },
  {
   "cell_type": "code",
   "execution_count": 26,
   "id": "0d4e44cc",
   "metadata": {
    "execution": {
     "iopub.execute_input": "2023-02-27T12:14:39.872320Z",
     "iopub.status.busy": "2023-02-27T12:14:39.871922Z",
     "iopub.status.idle": "2023-02-27T12:14:39.879350Z",
     "shell.execute_reply": "2023-02-27T12:14:39.878277Z"
    },
    "papermill": {
     "duration": 0.038082,
     "end_time": "2023-02-27T12:14:39.881958",
     "exception": false,
     "start_time": "2023-02-27T12:14:39.843876",
     "status": "completed"
    },
    "tags": []
   },
   "outputs": [],
   "source": [
    "#Choosing target variable\n",
    "\n",
    "X = Ecommerce_fraud.drop('Fraudster',axis=1)\n",
    "y = Ecommerce_fraud['Fraudster']"
   ]
  },
  {
   "cell_type": "code",
   "execution_count": 27,
   "id": "043ab298",
   "metadata": {
    "execution": {
     "iopub.execute_input": "2023-02-27T12:14:39.933864Z",
     "iopub.status.busy": "2023-02-27T12:14:39.933486Z",
     "iopub.status.idle": "2023-02-27T12:14:39.957988Z",
     "shell.execute_reply": "2023-02-27T12:14:39.956875Z"
    },
    "papermill": {
     "duration": 0.053356,
     "end_time": "2023-02-27T12:14:39.960395",
     "exception": false,
     "start_time": "2023-02-27T12:14:39.907039",
     "status": "completed"
    },
    "tags": []
   },
   "outputs": [],
   "source": [
    "X_train, X_val, y_train, y_val = train_test_split(X, y, test_size=0.3, random_state=123, stratify=y)"
   ]
  },
  {
   "cell_type": "code",
   "execution_count": 28,
   "id": "c334d6fb",
   "metadata": {
    "execution": {
     "iopub.execute_input": "2023-02-27T12:14:40.012766Z",
     "iopub.status.busy": "2023-02-27T12:14:40.012371Z",
     "iopub.status.idle": "2023-02-27T12:14:40.018864Z",
     "shell.execute_reply": "2023-02-27T12:14:40.017511Z"
    },
    "papermill": {
     "duration": 0.035817,
     "end_time": "2023-02-27T12:14:40.021238",
     "exception": false,
     "start_time": "2023-02-27T12:14:39.985421",
     "status": "completed"
    },
    "tags": []
   },
   "outputs": [
    {
     "name": "stdout",
     "output_type": "stream",
     "text": [
      "(37949, 5)\n",
      "(16264, 5)\n",
      "(37949,)\n",
      "(16264,)\n"
     ]
    }
   ],
   "source": [
    "print(X_train.shape)\n",
    "print(X_val.shape)\n",
    "print(y_train.shape)\n",
    "print(y_val.shape)"
   ]
  },
  {
   "cell_type": "code",
   "execution_count": 29,
   "id": "af4ccc84",
   "metadata": {
    "execution": {
     "iopub.execute_input": "2023-02-27T12:14:40.072262Z",
     "iopub.status.busy": "2023-02-27T12:14:40.071865Z",
     "iopub.status.idle": "2023-02-27T12:14:40.080475Z",
     "shell.execute_reply": "2023-02-27T12:14:40.079706Z"
    },
    "papermill": {
     "duration": 0.03667,
     "end_time": "2023-02-27T12:14:40.082742",
     "exception": false,
     "start_time": "2023-02-27T12:14:40.046072",
     "status": "completed"
    },
    "tags": []
   },
   "outputs": [
    {
     "data": {
      "text/plain": [
       "0    0.90731\n",
       "1    0.09269\n",
       "Name: Fraudster, dtype: float64"
      ]
     },
     "execution_count": 29,
     "metadata": {},
     "output_type": "execute_result"
    }
   ],
   "source": [
    "Ecommerce_fraud[\"Fraudster\"].value_counts(normalize=True)"
   ]
  },
  {
   "cell_type": "code",
   "execution_count": 30,
   "id": "a1c8e2ea",
   "metadata": {
    "execution": {
     "iopub.execute_input": "2023-02-27T12:14:40.134312Z",
     "iopub.status.busy": "2023-02-27T12:14:40.133592Z",
     "iopub.status.idle": "2023-02-27T12:14:40.141865Z",
     "shell.execute_reply": "2023-02-27T12:14:40.141110Z"
    },
    "papermill": {
     "duration": 0.036136,
     "end_time": "2023-02-27T12:14:40.143807",
     "exception": false,
     "start_time": "2023-02-27T12:14:40.107671",
     "status": "completed"
    },
    "tags": []
   },
   "outputs": [
    {
     "data": {
      "text/plain": [
       "0    0.907323\n",
       "1    0.092677\n",
       "Name: Fraudster, dtype: float64"
      ]
     },
     "execution_count": 30,
     "metadata": {},
     "output_type": "execute_result"
    }
   ],
   "source": [
    "y_train.value_counts(normalize=True)"
   ]
  },
  {
   "cell_type": "code",
   "execution_count": 31,
   "id": "812d097b",
   "metadata": {
    "execution": {
     "iopub.execute_input": "2023-02-27T12:14:40.198341Z",
     "iopub.status.busy": "2023-02-27T12:14:40.195927Z",
     "iopub.status.idle": "2023-02-27T12:14:40.206933Z",
     "shell.execute_reply": "2023-02-27T12:14:40.205823Z"
    },
    "papermill": {
     "duration": 0.04051,
     "end_time": "2023-02-27T12:14:40.209779",
     "exception": false,
     "start_time": "2023-02-27T12:14:40.169269",
     "status": "completed"
    },
    "tags": []
   },
   "outputs": [
    {
     "data": {
      "text/plain": [
       "0    0.90728\n",
       "1    0.09272\n",
       "Name: Fraudster, dtype: float64"
      ]
     },
     "execution_count": 31,
     "metadata": {},
     "output_type": "execute_result"
    }
   ],
   "source": [
    "y_val.value_counts(normalize=True)"
   ]
  },
  {
   "cell_type": "markdown",
   "id": "aaec074d",
   "metadata": {
    "papermill": {
     "duration": 0.025676,
     "end_time": "2023-02-27T12:14:40.264970",
     "exception": false,
     "start_time": "2023-02-27T12:14:40.239294",
     "status": "completed"
    },
    "tags": []
   },
   "source": [
    "## Standization"
   ]
  },
  {
   "cell_type": "code",
   "execution_count": 32,
   "id": "76e42ddb",
   "metadata": {
    "execution": {
     "iopub.execute_input": "2023-02-27T12:14:40.317120Z",
     "iopub.status.busy": "2023-02-27T12:14:40.316749Z",
     "iopub.status.idle": "2023-02-27T12:14:40.332878Z",
     "shell.execute_reply": "2023-02-27T12:14:40.331538Z"
    },
    "papermill": {
     "duration": 0.045273,
     "end_time": "2023-02-27T12:14:40.335366",
     "exception": false,
     "start_time": "2023-02-27T12:14:40.290093",
     "status": "completed"
    },
    "tags": []
   },
   "outputs": [],
   "source": [
    "from sklearn.preprocessing import StandardScaler\n",
    "scaler = StandardScaler()\n",
    "scaler = scaler.fit(X_train[num_cols])\n",
    "X_train_std = pd.DataFrame(scaler.transform(X_train[num_cols]), columns=X_train[num_cols].columns)\n",
    "X_val_std = pd.DataFrame(scaler.transform(X_val[num_cols]), columns=X_val[num_cols].columns)"
   ]
  },
  {
   "cell_type": "code",
   "execution_count": 33,
   "id": "a8a27441",
   "metadata": {
    "execution": {
     "iopub.execute_input": "2023-02-27T12:14:40.387850Z",
     "iopub.status.busy": "2023-02-27T12:14:40.387252Z",
     "iopub.status.idle": "2023-02-27T12:14:40.399234Z",
     "shell.execute_reply": "2023-02-27T12:14:40.398029Z"
    },
    "papermill": {
     "duration": 0.040389,
     "end_time": "2023-02-27T12:14:40.401240",
     "exception": false,
     "start_time": "2023-02-27T12:14:40.360851",
     "status": "completed"
    },
    "tags": []
   },
   "outputs": [
    {
     "data": {
      "text/html": [
       "<div>\n",
       "<style scoped>\n",
       "    .dataframe tbody tr th:only-of-type {\n",
       "        vertical-align: middle;\n",
       "    }\n",
       "\n",
       "    .dataframe tbody tr th {\n",
       "        vertical-align: top;\n",
       "    }\n",
       "\n",
       "    .dataframe thead th {\n",
       "        text-align: right;\n",
       "    }\n",
       "</style>\n",
       "<table border=\"1\" class=\"dataframe\">\n",
       "  <thead>\n",
       "    <tr style=\"text-align: right;\">\n",
       "      <th></th>\n",
       "      <th>Age</th>\n",
       "      <th>Order_Value_USD</th>\n",
       "    </tr>\n",
       "  </thead>\n",
       "  <tbody>\n",
       "    <tr>\n",
       "      <th>0</th>\n",
       "      <td>0.793693</td>\n",
       "      <td>-0.878904</td>\n",
       "    </tr>\n",
       "    <tr>\n",
       "      <th>1</th>\n",
       "      <td>0.793693</td>\n",
       "      <td>-0.922553</td>\n",
       "    </tr>\n",
       "    <tr>\n",
       "      <th>2</th>\n",
       "      <td>-1.409847</td>\n",
       "      <td>0.997987</td>\n",
       "    </tr>\n",
       "    <tr>\n",
       "      <th>3</th>\n",
       "      <td>1.953450</td>\n",
       "      <td>-0.093229</td>\n",
       "    </tr>\n",
       "    <tr>\n",
       "      <th>4</th>\n",
       "      <td>1.141620</td>\n",
       "      <td>-0.267823</td>\n",
       "    </tr>\n",
       "    <tr>\n",
       "      <th>...</th>\n",
       "      <td>...</td>\n",
       "      <td>...</td>\n",
       "    </tr>\n",
       "    <tr>\n",
       "      <th>37944</th>\n",
       "      <td>-0.829968</td>\n",
       "      <td>-0.486066</td>\n",
       "    </tr>\n",
       "    <tr>\n",
       "      <th>37945</th>\n",
       "      <td>-1.757775</td>\n",
       "      <td>0.605149</td>\n",
       "    </tr>\n",
       "    <tr>\n",
       "      <th>37946</th>\n",
       "      <td>1.837475</td>\n",
       "      <td>-0.224175</td>\n",
       "    </tr>\n",
       "    <tr>\n",
       "      <th>37947</th>\n",
       "      <td>0.793693</td>\n",
       "      <td>-0.049580</td>\n",
       "    </tr>\n",
       "    <tr>\n",
       "      <th>37948</th>\n",
       "      <td>-0.482041</td>\n",
       "      <td>-1.315390</td>\n",
       "    </tr>\n",
       "  </tbody>\n",
       "</table>\n",
       "<p>37949 rows × 2 columns</p>\n",
       "</div>"
      ],
      "text/plain": [
       "            Age  Order_Value_USD\n",
       "0      0.793693        -0.878904\n",
       "1      0.793693        -0.922553\n",
       "2     -1.409847         0.997987\n",
       "3      1.953450        -0.093229\n",
       "4      1.141620        -0.267823\n",
       "...         ...              ...\n",
       "37944 -0.829968        -0.486066\n",
       "37945 -1.757775         0.605149\n",
       "37946  1.837475        -0.224175\n",
       "37947  0.793693        -0.049580\n",
       "37948 -0.482041        -1.315390\n",
       "\n",
       "[37949 rows x 2 columns]"
      ]
     },
     "execution_count": 33,
     "metadata": {},
     "output_type": "execute_result"
    }
   ],
   "source": [
    "X_train_std"
   ]
  },
  {
   "cell_type": "code",
   "execution_count": 34,
   "id": "7dd8f96b",
   "metadata": {
    "execution": {
     "iopub.execute_input": "2023-02-27T12:14:40.454149Z",
     "iopub.status.busy": "2023-02-27T12:14:40.453564Z",
     "iopub.status.idle": "2023-02-27T12:14:40.464106Z",
     "shell.execute_reply": "2023-02-27T12:14:40.463192Z"
    },
    "papermill": {
     "duration": 0.039246,
     "end_time": "2023-02-27T12:14:40.465989",
     "exception": false,
     "start_time": "2023-02-27T12:14:40.426743",
     "status": "completed"
    },
    "tags": []
   },
   "outputs": [
    {
     "data": {
      "text/html": [
       "<div>\n",
       "<style scoped>\n",
       "    .dataframe tbody tr th:only-of-type {\n",
       "        vertical-align: middle;\n",
       "    }\n",
       "\n",
       "    .dataframe tbody tr th {\n",
       "        vertical-align: top;\n",
       "    }\n",
       "\n",
       "    .dataframe thead th {\n",
       "        text-align: right;\n",
       "    }\n",
       "</style>\n",
       "<table border=\"1\" class=\"dataframe\">\n",
       "  <thead>\n",
       "    <tr style=\"text-align: right;\">\n",
       "      <th></th>\n",
       "      <th>Age</th>\n",
       "      <th>Order_Value_USD</th>\n",
       "    </tr>\n",
       "  </thead>\n",
       "  <tbody>\n",
       "    <tr>\n",
       "      <th>0</th>\n",
       "      <td>-0.250089</td>\n",
       "      <td>0.168663</td>\n",
       "    </tr>\n",
       "    <tr>\n",
       "      <th>1</th>\n",
       "      <td>-1.061920</td>\n",
       "      <td>0.648798</td>\n",
       "    </tr>\n",
       "    <tr>\n",
       "      <th>2</th>\n",
       "      <td>-0.134114</td>\n",
       "      <td>1.434473</td>\n",
       "    </tr>\n",
       "    <tr>\n",
       "      <th>3</th>\n",
       "      <td>-0.829968</td>\n",
       "      <td>-0.529715</td>\n",
       "    </tr>\n",
       "    <tr>\n",
       "      <th>4</th>\n",
       "      <td>-0.482041</td>\n",
       "      <td>-0.660661</td>\n",
       "    </tr>\n",
       "    <tr>\n",
       "      <th>...</th>\n",
       "      <td>...</td>\n",
       "      <td>...</td>\n",
       "    </tr>\n",
       "    <tr>\n",
       "      <th>16259</th>\n",
       "      <td>0.793693</td>\n",
       "      <td>1.303527</td>\n",
       "    </tr>\n",
       "    <tr>\n",
       "      <th>16260</th>\n",
       "      <td>0.329789</td>\n",
       "      <td>-0.442418</td>\n",
       "    </tr>\n",
       "    <tr>\n",
       "      <th>16261</th>\n",
       "      <td>0.677717</td>\n",
       "      <td>-1.249917</td>\n",
       "    </tr>\n",
       "    <tr>\n",
       "      <th>16262</th>\n",
       "      <td>1.837475</td>\n",
       "      <td>0.605149</td>\n",
       "    </tr>\n",
       "    <tr>\n",
       "      <th>16263</th>\n",
       "      <td>-1.061920</td>\n",
       "      <td>-1.533633</td>\n",
       "    </tr>\n",
       "  </tbody>\n",
       "</table>\n",
       "<p>16264 rows × 2 columns</p>\n",
       "</div>"
      ],
      "text/plain": [
       "            Age  Order_Value_USD\n",
       "0     -0.250089         0.168663\n",
       "1     -1.061920         0.648798\n",
       "2     -0.134114         1.434473\n",
       "3     -0.829968        -0.529715\n",
       "4     -0.482041        -0.660661\n",
       "...         ...              ...\n",
       "16259  0.793693         1.303527\n",
       "16260  0.329789        -0.442418\n",
       "16261  0.677717        -1.249917\n",
       "16262  1.837475         0.605149\n",
       "16263 -1.061920        -1.533633\n",
       "\n",
       "[16264 rows x 2 columns]"
      ]
     },
     "execution_count": 34,
     "metadata": {},
     "output_type": "execute_result"
    }
   ],
   "source": [
    "X_val_std"
   ]
  },
  {
   "cell_type": "markdown",
   "id": "1fb2c9ea",
   "metadata": {
    "papermill": {
     "duration": 0.02543,
     "end_time": "2023-02-27T12:14:40.516934",
     "exception": false,
     "start_time": "2023-02-27T12:14:40.491504",
     "status": "completed"
    },
    "tags": []
   },
   "source": [
    "## Dummification"
   ]
  },
  {
   "cell_type": "code",
   "execution_count": 35,
   "id": "1fe1f54c",
   "metadata": {
    "execution": {
     "iopub.execute_input": "2023-02-27T12:14:40.570889Z",
     "iopub.status.busy": "2023-02-27T12:14:40.570248Z",
     "iopub.status.idle": "2023-02-27T12:14:40.583963Z",
     "shell.execute_reply": "2023-02-27T12:14:40.582700Z"
    },
    "papermill": {
     "duration": 0.044428,
     "end_time": "2023-02-27T12:14:40.586846",
     "exception": false,
     "start_time": "2023-02-27T12:14:40.542418",
     "status": "completed"
    },
    "tags": []
   },
   "outputs": [],
   "source": [
    "X_train_dum = pd.get_dummies((X_train[cat_cols]),drop_first=True)\n",
    "X_val_dum = pd.get_dummies((X_val[cat_cols]),drop_first=True)"
   ]
  },
  {
   "cell_type": "code",
   "execution_count": 36,
   "id": "5d82c066",
   "metadata": {
    "execution": {
     "iopub.execute_input": "2023-02-27T12:14:40.642316Z",
     "iopub.status.busy": "2023-02-27T12:14:40.641608Z",
     "iopub.status.idle": "2023-02-27T12:14:40.654021Z",
     "shell.execute_reply": "2023-02-27T12:14:40.652842Z"
    },
    "papermill": {
     "duration": 0.043261,
     "end_time": "2023-02-27T12:14:40.655974",
     "exception": false,
     "start_time": "2023-02-27T12:14:40.612713",
     "status": "completed"
    },
    "tags": []
   },
   "outputs": [
    {
     "data": {
      "text/html": [
       "<div>\n",
       "<style scoped>\n",
       "    .dataframe tbody tr th:only-of-type {\n",
       "        vertical-align: middle;\n",
       "    }\n",
       "\n",
       "    .dataframe tbody tr th {\n",
       "        vertical-align: top;\n",
       "    }\n",
       "\n",
       "    .dataframe thead th {\n",
       "        text-align: right;\n",
       "    }\n",
       "</style>\n",
       "<table border=\"1\" class=\"dataframe\">\n",
       "  <thead>\n",
       "    <tr style=\"text-align: right;\">\n",
       "      <th></th>\n",
       "      <th>Gender_M</th>\n",
       "      <th>Order_Source_Direct</th>\n",
       "      <th>Order_Source_SEO</th>\n",
       "      <th>Order_Payment_Method_Credit Card</th>\n",
       "      <th>Order_Payment_Method_Debit Card</th>\n",
       "      <th>Order_Payment_Method_E-wallet</th>\n",
       "      <th>Order_Payment_Method_Internet Banking</th>\n",
       "    </tr>\n",
       "  </thead>\n",
       "  <tbody>\n",
       "    <tr>\n",
       "      <th>36314</th>\n",
       "      <td>0</td>\n",
       "      <td>0</td>\n",
       "      <td>1</td>\n",
       "      <td>0</td>\n",
       "      <td>0</td>\n",
       "      <td>0</td>\n",
       "      <td>0</td>\n",
       "    </tr>\n",
       "    <tr>\n",
       "      <th>24152</th>\n",
       "      <td>1</td>\n",
       "      <td>0</td>\n",
       "      <td>0</td>\n",
       "      <td>1</td>\n",
       "      <td>0</td>\n",
       "      <td>0</td>\n",
       "      <td>0</td>\n",
       "    </tr>\n",
       "    <tr>\n",
       "      <th>20735</th>\n",
       "      <td>1</td>\n",
       "      <td>0</td>\n",
       "      <td>1</td>\n",
       "      <td>1</td>\n",
       "      <td>0</td>\n",
       "      <td>0</td>\n",
       "      <td>0</td>\n",
       "    </tr>\n",
       "    <tr>\n",
       "      <th>16538</th>\n",
       "      <td>0</td>\n",
       "      <td>0</td>\n",
       "      <td>0</td>\n",
       "      <td>0</td>\n",
       "      <td>0</td>\n",
       "      <td>1</td>\n",
       "      <td>0</td>\n",
       "    </tr>\n",
       "    <tr>\n",
       "      <th>16452</th>\n",
       "      <td>1</td>\n",
       "      <td>1</td>\n",
       "      <td>0</td>\n",
       "      <td>0</td>\n",
       "      <td>0</td>\n",
       "      <td>0</td>\n",
       "      <td>1</td>\n",
       "    </tr>\n",
       "    <tr>\n",
       "      <th>...</th>\n",
       "      <td>...</td>\n",
       "      <td>...</td>\n",
       "      <td>...</td>\n",
       "      <td>...</td>\n",
       "      <td>...</td>\n",
       "      <td>...</td>\n",
       "      <td>...</td>\n",
       "    </tr>\n",
       "    <tr>\n",
       "      <th>35850</th>\n",
       "      <td>1</td>\n",
       "      <td>0</td>\n",
       "      <td>0</td>\n",
       "      <td>0</td>\n",
       "      <td>0</td>\n",
       "      <td>0</td>\n",
       "      <td>0</td>\n",
       "    </tr>\n",
       "    <tr>\n",
       "      <th>47759</th>\n",
       "      <td>1</td>\n",
       "      <td>1</td>\n",
       "      <td>0</td>\n",
       "      <td>0</td>\n",
       "      <td>0</td>\n",
       "      <td>0</td>\n",
       "      <td>1</td>\n",
       "    </tr>\n",
       "    <tr>\n",
       "      <th>52371</th>\n",
       "      <td>0</td>\n",
       "      <td>0</td>\n",
       "      <td>1</td>\n",
       "      <td>0</td>\n",
       "      <td>0</td>\n",
       "      <td>1</td>\n",
       "      <td>0</td>\n",
       "    </tr>\n",
       "    <tr>\n",
       "      <th>6736</th>\n",
       "      <td>1</td>\n",
       "      <td>0</td>\n",
       "      <td>0</td>\n",
       "      <td>1</td>\n",
       "      <td>0</td>\n",
       "      <td>0</td>\n",
       "      <td>0</td>\n",
       "    </tr>\n",
       "    <tr>\n",
       "      <th>38480</th>\n",
       "      <td>1</td>\n",
       "      <td>0</td>\n",
       "      <td>1</td>\n",
       "      <td>1</td>\n",
       "      <td>0</td>\n",
       "      <td>0</td>\n",
       "      <td>0</td>\n",
       "    </tr>\n",
       "  </tbody>\n",
       "</table>\n",
       "<p>37949 rows × 7 columns</p>\n",
       "</div>"
      ],
      "text/plain": [
       "       Gender_M  Order_Source_Direct  Order_Source_SEO  \\\n",
       "36314         0                    0                 1   \n",
       "24152         1                    0                 0   \n",
       "20735         1                    0                 1   \n",
       "16538         0                    0                 0   \n",
       "16452         1                    1                 0   \n",
       "...         ...                  ...               ...   \n",
       "35850         1                    0                 0   \n",
       "47759         1                    1                 0   \n",
       "52371         0                    0                 1   \n",
       "6736          1                    0                 0   \n",
       "38480         1                    0                 1   \n",
       "\n",
       "       Order_Payment_Method_Credit Card  Order_Payment_Method_Debit Card  \\\n",
       "36314                                 0                                0   \n",
       "24152                                 1                                0   \n",
       "20735                                 1                                0   \n",
       "16538                                 0                                0   \n",
       "16452                                 0                                0   \n",
       "...                                 ...                              ...   \n",
       "35850                                 0                                0   \n",
       "47759                                 0                                0   \n",
       "52371                                 0                                0   \n",
       "6736                                  1                                0   \n",
       "38480                                 1                                0   \n",
       "\n",
       "       Order_Payment_Method_E-wallet  Order_Payment_Method_Internet Banking  \n",
       "36314                              0                                      0  \n",
       "24152                              0                                      0  \n",
       "20735                              0                                      0  \n",
       "16538                              1                                      0  \n",
       "16452                              0                                      1  \n",
       "...                              ...                                    ...  \n",
       "35850                              0                                      0  \n",
       "47759                              0                                      1  \n",
       "52371                              1                                      0  \n",
       "6736                               0                                      0  \n",
       "38480                              0                                      0  \n",
       "\n",
       "[37949 rows x 7 columns]"
      ]
     },
     "execution_count": 36,
     "metadata": {},
     "output_type": "execute_result"
    }
   ],
   "source": [
    "X_train_dum"
   ]
  },
  {
   "cell_type": "code",
   "execution_count": 37,
   "id": "5248d1a2",
   "metadata": {
    "execution": {
     "iopub.execute_input": "2023-02-27T12:14:40.710889Z",
     "iopub.status.busy": "2023-02-27T12:14:40.710497Z",
     "iopub.status.idle": "2023-02-27T12:14:40.723739Z",
     "shell.execute_reply": "2023-02-27T12:14:40.722566Z"
    },
    "papermill": {
     "duration": 0.043714,
     "end_time": "2023-02-27T12:14:40.725988",
     "exception": false,
     "start_time": "2023-02-27T12:14:40.682274",
     "status": "completed"
    },
    "tags": []
   },
   "outputs": [
    {
     "data": {
      "text/html": [
       "<div>\n",
       "<style scoped>\n",
       "    .dataframe tbody tr th:only-of-type {\n",
       "        vertical-align: middle;\n",
       "    }\n",
       "\n",
       "    .dataframe tbody tr th {\n",
       "        vertical-align: top;\n",
       "    }\n",
       "\n",
       "    .dataframe thead th {\n",
       "        text-align: right;\n",
       "    }\n",
       "</style>\n",
       "<table border=\"1\" class=\"dataframe\">\n",
       "  <thead>\n",
       "    <tr style=\"text-align: right;\">\n",
       "      <th></th>\n",
       "      <th>Gender_M</th>\n",
       "      <th>Order_Source_Direct</th>\n",
       "      <th>Order_Source_SEO</th>\n",
       "      <th>Order_Payment_Method_Credit Card</th>\n",
       "      <th>Order_Payment_Method_Debit Card</th>\n",
       "      <th>Order_Payment_Method_E-wallet</th>\n",
       "      <th>Order_Payment_Method_Internet Banking</th>\n",
       "    </tr>\n",
       "  </thead>\n",
       "  <tbody>\n",
       "    <tr>\n",
       "      <th>26840</th>\n",
       "      <td>1</td>\n",
       "      <td>0</td>\n",
       "      <td>1</td>\n",
       "      <td>1</td>\n",
       "      <td>0</td>\n",
       "      <td>0</td>\n",
       "      <td>0</td>\n",
       "    </tr>\n",
       "    <tr>\n",
       "      <th>18292</th>\n",
       "      <td>1</td>\n",
       "      <td>0</td>\n",
       "      <td>1</td>\n",
       "      <td>1</td>\n",
       "      <td>0</td>\n",
       "      <td>0</td>\n",
       "      <td>0</td>\n",
       "    </tr>\n",
       "    <tr>\n",
       "      <th>31373</th>\n",
       "      <td>0</td>\n",
       "      <td>0</td>\n",
       "      <td>0</td>\n",
       "      <td>1</td>\n",
       "      <td>0</td>\n",
       "      <td>0</td>\n",
       "      <td>0</td>\n",
       "    </tr>\n",
       "    <tr>\n",
       "      <th>2307</th>\n",
       "      <td>1</td>\n",
       "      <td>0</td>\n",
       "      <td>1</td>\n",
       "      <td>1</td>\n",
       "      <td>0</td>\n",
       "      <td>0</td>\n",
       "      <td>0</td>\n",
       "    </tr>\n",
       "    <tr>\n",
       "      <th>46352</th>\n",
       "      <td>0</td>\n",
       "      <td>0</td>\n",
       "      <td>0</td>\n",
       "      <td>0</td>\n",
       "      <td>1</td>\n",
       "      <td>0</td>\n",
       "      <td>0</td>\n",
       "    </tr>\n",
       "    <tr>\n",
       "      <th>...</th>\n",
       "      <td>...</td>\n",
       "      <td>...</td>\n",
       "      <td>...</td>\n",
       "      <td>...</td>\n",
       "      <td>...</td>\n",
       "      <td>...</td>\n",
       "      <td>...</td>\n",
       "    </tr>\n",
       "    <tr>\n",
       "      <th>29939</th>\n",
       "      <td>1</td>\n",
       "      <td>0</td>\n",
       "      <td>1</td>\n",
       "      <td>0</td>\n",
       "      <td>0</td>\n",
       "      <td>1</td>\n",
       "      <td>0</td>\n",
       "    </tr>\n",
       "    <tr>\n",
       "      <th>13586</th>\n",
       "      <td>1</td>\n",
       "      <td>0</td>\n",
       "      <td>0</td>\n",
       "      <td>0</td>\n",
       "      <td>0</td>\n",
       "      <td>0</td>\n",
       "      <td>1</td>\n",
       "    </tr>\n",
       "    <tr>\n",
       "      <th>32584</th>\n",
       "      <td>0</td>\n",
       "      <td>0</td>\n",
       "      <td>0</td>\n",
       "      <td>0</td>\n",
       "      <td>0</td>\n",
       "      <td>1</td>\n",
       "      <td>0</td>\n",
       "    </tr>\n",
       "    <tr>\n",
       "      <th>48775</th>\n",
       "      <td>1</td>\n",
       "      <td>1</td>\n",
       "      <td>0</td>\n",
       "      <td>1</td>\n",
       "      <td>0</td>\n",
       "      <td>0</td>\n",
       "      <td>0</td>\n",
       "    </tr>\n",
       "    <tr>\n",
       "      <th>2494</th>\n",
       "      <td>1</td>\n",
       "      <td>0</td>\n",
       "      <td>0</td>\n",
       "      <td>1</td>\n",
       "      <td>0</td>\n",
       "      <td>0</td>\n",
       "      <td>0</td>\n",
       "    </tr>\n",
       "  </tbody>\n",
       "</table>\n",
       "<p>16264 rows × 7 columns</p>\n",
       "</div>"
      ],
      "text/plain": [
       "       Gender_M  Order_Source_Direct  Order_Source_SEO  \\\n",
       "26840         1                    0                 1   \n",
       "18292         1                    0                 1   \n",
       "31373         0                    0                 0   \n",
       "2307          1                    0                 1   \n",
       "46352         0                    0                 0   \n",
       "...         ...                  ...               ...   \n",
       "29939         1                    0                 1   \n",
       "13586         1                    0                 0   \n",
       "32584         0                    0                 0   \n",
       "48775         1                    1                 0   \n",
       "2494          1                    0                 0   \n",
       "\n",
       "       Order_Payment_Method_Credit Card  Order_Payment_Method_Debit Card  \\\n",
       "26840                                 1                                0   \n",
       "18292                                 1                                0   \n",
       "31373                                 1                                0   \n",
       "2307                                  1                                0   \n",
       "46352                                 0                                1   \n",
       "...                                 ...                              ...   \n",
       "29939                                 0                                0   \n",
       "13586                                 0                                0   \n",
       "32584                                 0                                0   \n",
       "48775                                 1                                0   \n",
       "2494                                  1                                0   \n",
       "\n",
       "       Order_Payment_Method_E-wallet  Order_Payment_Method_Internet Banking  \n",
       "26840                              0                                      0  \n",
       "18292                              0                                      0  \n",
       "31373                              0                                      0  \n",
       "2307                               0                                      0  \n",
       "46352                              0                                      0  \n",
       "...                              ...                                    ...  \n",
       "29939                              1                                      0  \n",
       "13586                              0                                      1  \n",
       "32584                              1                                      0  \n",
       "48775                              0                                      0  \n",
       "2494                               0                                      0  \n",
       "\n",
       "[16264 rows x 7 columns]"
      ]
     },
     "execution_count": 37,
     "metadata": {},
     "output_type": "execute_result"
    }
   ],
   "source": [
    "X_val_dum"
   ]
  },
  {
   "cell_type": "code",
   "execution_count": 38,
   "id": "7a593bf9",
   "metadata": {
    "execution": {
     "iopub.execute_input": "2023-02-27T12:14:40.781689Z",
     "iopub.status.busy": "2023-02-27T12:14:40.780590Z",
     "iopub.status.idle": "2023-02-27T12:14:40.794202Z",
     "shell.execute_reply": "2023-02-27T12:14:40.793181Z"
    },
    "papermill": {
     "duration": 0.044229,
     "end_time": "2023-02-27T12:14:40.796546",
     "exception": false,
     "start_time": "2023-02-27T12:14:40.752317",
     "status": "completed"
    },
    "tags": []
   },
   "outputs": [
    {
     "data": {
      "text/html": [
       "<div>\n",
       "<style scoped>\n",
       "    .dataframe tbody tr th:only-of-type {\n",
       "        vertical-align: middle;\n",
       "    }\n",
       "\n",
       "    .dataframe tbody tr th {\n",
       "        vertical-align: top;\n",
       "    }\n",
       "\n",
       "    .dataframe thead th {\n",
       "        text-align: right;\n",
       "    }\n",
       "</style>\n",
       "<table border=\"1\" class=\"dataframe\">\n",
       "  <thead>\n",
       "    <tr style=\"text-align: right;\">\n",
       "      <th></th>\n",
       "      <th>index</th>\n",
       "      <th>Age</th>\n",
       "      <th>Order_Value_USD</th>\n",
       "    </tr>\n",
       "  </thead>\n",
       "  <tbody>\n",
       "    <tr>\n",
       "      <th>0</th>\n",
       "      <td>0</td>\n",
       "      <td>0.793693</td>\n",
       "      <td>-0.878904</td>\n",
       "    </tr>\n",
       "    <tr>\n",
       "      <th>1</th>\n",
       "      <td>1</td>\n",
       "      <td>0.793693</td>\n",
       "      <td>-0.922553</td>\n",
       "    </tr>\n",
       "    <tr>\n",
       "      <th>2</th>\n",
       "      <td>2</td>\n",
       "      <td>-1.409847</td>\n",
       "      <td>0.997987</td>\n",
       "    </tr>\n",
       "    <tr>\n",
       "      <th>3</th>\n",
       "      <td>3</td>\n",
       "      <td>1.953450</td>\n",
       "      <td>-0.093229</td>\n",
       "    </tr>\n",
       "    <tr>\n",
       "      <th>4</th>\n",
       "      <td>4</td>\n",
       "      <td>1.141620</td>\n",
       "      <td>-0.267823</td>\n",
       "    </tr>\n",
       "    <tr>\n",
       "      <th>...</th>\n",
       "      <td>...</td>\n",
       "      <td>...</td>\n",
       "      <td>...</td>\n",
       "    </tr>\n",
       "    <tr>\n",
       "      <th>37944</th>\n",
       "      <td>37944</td>\n",
       "      <td>-0.829968</td>\n",
       "      <td>-0.486066</td>\n",
       "    </tr>\n",
       "    <tr>\n",
       "      <th>37945</th>\n",
       "      <td>37945</td>\n",
       "      <td>-1.757775</td>\n",
       "      <td>0.605149</td>\n",
       "    </tr>\n",
       "    <tr>\n",
       "      <th>37946</th>\n",
       "      <td>37946</td>\n",
       "      <td>1.837475</td>\n",
       "      <td>-0.224175</td>\n",
       "    </tr>\n",
       "    <tr>\n",
       "      <th>37947</th>\n",
       "      <td>37947</td>\n",
       "      <td>0.793693</td>\n",
       "      <td>-0.049580</td>\n",
       "    </tr>\n",
       "    <tr>\n",
       "      <th>37948</th>\n",
       "      <td>37948</td>\n",
       "      <td>-0.482041</td>\n",
       "      <td>-1.315390</td>\n",
       "    </tr>\n",
       "  </tbody>\n",
       "</table>\n",
       "<p>37949 rows × 3 columns</p>\n",
       "</div>"
      ],
      "text/plain": [
       "       index       Age  Order_Value_USD\n",
       "0          0  0.793693        -0.878904\n",
       "1          1  0.793693        -0.922553\n",
       "2          2 -1.409847         0.997987\n",
       "3          3  1.953450        -0.093229\n",
       "4          4  1.141620        -0.267823\n",
       "...      ...       ...              ...\n",
       "37944  37944 -0.829968        -0.486066\n",
       "37945  37945 -1.757775         0.605149\n",
       "37946  37946  1.837475        -0.224175\n",
       "37947  37947  0.793693        -0.049580\n",
       "37948  37948 -0.482041        -1.315390\n",
       "\n",
       "[37949 rows x 3 columns]"
      ]
     },
     "execution_count": 38,
     "metadata": {},
     "output_type": "execute_result"
    }
   ],
   "source": [
    "X_train_std = X_train_std.reset_index()\n",
    "X_train_std"
   ]
  },
  {
   "cell_type": "code",
   "execution_count": 39,
   "id": "6e2d8c7f",
   "metadata": {
    "execution": {
     "iopub.execute_input": "2023-02-27T12:14:40.851246Z",
     "iopub.status.busy": "2023-02-27T12:14:40.850854Z",
     "iopub.status.idle": "2023-02-27T12:14:40.864933Z",
     "shell.execute_reply": "2023-02-27T12:14:40.863526Z"
    },
    "papermill": {
     "duration": 0.043947,
     "end_time": "2023-02-27T12:14:40.867105",
     "exception": false,
     "start_time": "2023-02-27T12:14:40.823158",
     "status": "completed"
    },
    "tags": []
   },
   "outputs": [
    {
     "data": {
      "text/html": [
       "<div>\n",
       "<style scoped>\n",
       "    .dataframe tbody tr th:only-of-type {\n",
       "        vertical-align: middle;\n",
       "    }\n",
       "\n",
       "    .dataframe tbody tr th {\n",
       "        vertical-align: top;\n",
       "    }\n",
       "\n",
       "    .dataframe thead th {\n",
       "        text-align: right;\n",
       "    }\n",
       "</style>\n",
       "<table border=\"1\" class=\"dataframe\">\n",
       "  <thead>\n",
       "    <tr style=\"text-align: right;\">\n",
       "      <th></th>\n",
       "      <th>Age</th>\n",
       "      <th>Order_Value_USD</th>\n",
       "    </tr>\n",
       "  </thead>\n",
       "  <tbody>\n",
       "    <tr>\n",
       "      <th>0</th>\n",
       "      <td>0.793693</td>\n",
       "      <td>-0.878904</td>\n",
       "    </tr>\n",
       "    <tr>\n",
       "      <th>1</th>\n",
       "      <td>0.793693</td>\n",
       "      <td>-0.922553</td>\n",
       "    </tr>\n",
       "    <tr>\n",
       "      <th>2</th>\n",
       "      <td>-1.409847</td>\n",
       "      <td>0.997987</td>\n",
       "    </tr>\n",
       "    <tr>\n",
       "      <th>3</th>\n",
       "      <td>1.953450</td>\n",
       "      <td>-0.093229</td>\n",
       "    </tr>\n",
       "    <tr>\n",
       "      <th>4</th>\n",
       "      <td>1.141620</td>\n",
       "      <td>-0.267823</td>\n",
       "    </tr>\n",
       "    <tr>\n",
       "      <th>...</th>\n",
       "      <td>...</td>\n",
       "      <td>...</td>\n",
       "    </tr>\n",
       "    <tr>\n",
       "      <th>37944</th>\n",
       "      <td>-0.829968</td>\n",
       "      <td>-0.486066</td>\n",
       "    </tr>\n",
       "    <tr>\n",
       "      <th>37945</th>\n",
       "      <td>-1.757775</td>\n",
       "      <td>0.605149</td>\n",
       "    </tr>\n",
       "    <tr>\n",
       "      <th>37946</th>\n",
       "      <td>1.837475</td>\n",
       "      <td>-0.224175</td>\n",
       "    </tr>\n",
       "    <tr>\n",
       "      <th>37947</th>\n",
       "      <td>0.793693</td>\n",
       "      <td>-0.049580</td>\n",
       "    </tr>\n",
       "    <tr>\n",
       "      <th>37948</th>\n",
       "      <td>-0.482041</td>\n",
       "      <td>-1.315390</td>\n",
       "    </tr>\n",
       "  </tbody>\n",
       "</table>\n",
       "<p>37949 rows × 2 columns</p>\n",
       "</div>"
      ],
      "text/plain": [
       "            Age  Order_Value_USD\n",
       "0      0.793693        -0.878904\n",
       "1      0.793693        -0.922553\n",
       "2     -1.409847         0.997987\n",
       "3      1.953450        -0.093229\n",
       "4      1.141620        -0.267823\n",
       "...         ...              ...\n",
       "37944 -0.829968        -0.486066\n",
       "37945 -1.757775         0.605149\n",
       "37946  1.837475        -0.224175\n",
       "37947  0.793693        -0.049580\n",
       "37948 -0.482041        -1.315390\n",
       "\n",
       "[37949 rows x 2 columns]"
      ]
     },
     "execution_count": 39,
     "metadata": {},
     "output_type": "execute_result"
    }
   ],
   "source": [
    "X_train_std = X_train_std.drop([\"index\"], axis=1)\n",
    "X_train_std"
   ]
  },
  {
   "cell_type": "code",
   "execution_count": 40,
   "id": "5e402206",
   "metadata": {
    "execution": {
     "iopub.execute_input": "2023-02-27T12:14:40.923190Z",
     "iopub.status.busy": "2023-02-27T12:14:40.922439Z",
     "iopub.status.idle": "2023-02-27T12:14:40.935939Z",
     "shell.execute_reply": "2023-02-27T12:14:40.934427Z"
    },
    "papermill": {
     "duration": 0.04442,
     "end_time": "2023-02-27T12:14:40.938332",
     "exception": false,
     "start_time": "2023-02-27T12:14:40.893912",
     "status": "completed"
    },
    "tags": []
   },
   "outputs": [
    {
     "data": {
      "text/html": [
       "<div>\n",
       "<style scoped>\n",
       "    .dataframe tbody tr th:only-of-type {\n",
       "        vertical-align: middle;\n",
       "    }\n",
       "\n",
       "    .dataframe tbody tr th {\n",
       "        vertical-align: top;\n",
       "    }\n",
       "\n",
       "    .dataframe thead th {\n",
       "        text-align: right;\n",
       "    }\n",
       "</style>\n",
       "<table border=\"1\" class=\"dataframe\">\n",
       "  <thead>\n",
       "    <tr style=\"text-align: right;\">\n",
       "      <th></th>\n",
       "      <th>index</th>\n",
       "      <th>Age</th>\n",
       "      <th>Order_Value_USD</th>\n",
       "    </tr>\n",
       "  </thead>\n",
       "  <tbody>\n",
       "    <tr>\n",
       "      <th>0</th>\n",
       "      <td>0</td>\n",
       "      <td>-0.250089</td>\n",
       "      <td>0.168663</td>\n",
       "    </tr>\n",
       "    <tr>\n",
       "      <th>1</th>\n",
       "      <td>1</td>\n",
       "      <td>-1.061920</td>\n",
       "      <td>0.648798</td>\n",
       "    </tr>\n",
       "    <tr>\n",
       "      <th>2</th>\n",
       "      <td>2</td>\n",
       "      <td>-0.134114</td>\n",
       "      <td>1.434473</td>\n",
       "    </tr>\n",
       "    <tr>\n",
       "      <th>3</th>\n",
       "      <td>3</td>\n",
       "      <td>-0.829968</td>\n",
       "      <td>-0.529715</td>\n",
       "    </tr>\n",
       "    <tr>\n",
       "      <th>4</th>\n",
       "      <td>4</td>\n",
       "      <td>-0.482041</td>\n",
       "      <td>-0.660661</td>\n",
       "    </tr>\n",
       "    <tr>\n",
       "      <th>...</th>\n",
       "      <td>...</td>\n",
       "      <td>...</td>\n",
       "      <td>...</td>\n",
       "    </tr>\n",
       "    <tr>\n",
       "      <th>16259</th>\n",
       "      <td>16259</td>\n",
       "      <td>0.793693</td>\n",
       "      <td>1.303527</td>\n",
       "    </tr>\n",
       "    <tr>\n",
       "      <th>16260</th>\n",
       "      <td>16260</td>\n",
       "      <td>0.329789</td>\n",
       "      <td>-0.442418</td>\n",
       "    </tr>\n",
       "    <tr>\n",
       "      <th>16261</th>\n",
       "      <td>16261</td>\n",
       "      <td>0.677717</td>\n",
       "      <td>-1.249917</td>\n",
       "    </tr>\n",
       "    <tr>\n",
       "      <th>16262</th>\n",
       "      <td>16262</td>\n",
       "      <td>1.837475</td>\n",
       "      <td>0.605149</td>\n",
       "    </tr>\n",
       "    <tr>\n",
       "      <th>16263</th>\n",
       "      <td>16263</td>\n",
       "      <td>-1.061920</td>\n",
       "      <td>-1.533633</td>\n",
       "    </tr>\n",
       "  </tbody>\n",
       "</table>\n",
       "<p>16264 rows × 3 columns</p>\n",
       "</div>"
      ],
      "text/plain": [
       "       index       Age  Order_Value_USD\n",
       "0          0 -0.250089         0.168663\n",
       "1          1 -1.061920         0.648798\n",
       "2          2 -0.134114         1.434473\n",
       "3          3 -0.829968        -0.529715\n",
       "4          4 -0.482041        -0.660661\n",
       "...      ...       ...              ...\n",
       "16259  16259  0.793693         1.303527\n",
       "16260  16260  0.329789        -0.442418\n",
       "16261  16261  0.677717        -1.249917\n",
       "16262  16262  1.837475         0.605149\n",
       "16263  16263 -1.061920        -1.533633\n",
       "\n",
       "[16264 rows x 3 columns]"
      ]
     },
     "execution_count": 40,
     "metadata": {},
     "output_type": "execute_result"
    }
   ],
   "source": [
    "X_val_std = X_val_std.reset_index()\n",
    "X_val_std"
   ]
  },
  {
   "cell_type": "code",
   "execution_count": 41,
   "id": "91398fa1",
   "metadata": {
    "execution": {
     "iopub.execute_input": "2023-02-27T12:14:40.994098Z",
     "iopub.status.busy": "2023-02-27T12:14:40.993728Z",
     "iopub.status.idle": "2023-02-27T12:14:41.007257Z",
     "shell.execute_reply": "2023-02-27T12:14:41.006038Z"
    },
    "papermill": {
     "duration": 0.044403,
     "end_time": "2023-02-27T12:14:41.009952",
     "exception": false,
     "start_time": "2023-02-27T12:14:40.965549",
     "status": "completed"
    },
    "tags": []
   },
   "outputs": [
    {
     "data": {
      "text/html": [
       "<div>\n",
       "<style scoped>\n",
       "    .dataframe tbody tr th:only-of-type {\n",
       "        vertical-align: middle;\n",
       "    }\n",
       "\n",
       "    .dataframe tbody tr th {\n",
       "        vertical-align: top;\n",
       "    }\n",
       "\n",
       "    .dataframe thead th {\n",
       "        text-align: right;\n",
       "    }\n",
       "</style>\n",
       "<table border=\"1\" class=\"dataframe\">\n",
       "  <thead>\n",
       "    <tr style=\"text-align: right;\">\n",
       "      <th></th>\n",
       "      <th>Age</th>\n",
       "      <th>Order_Value_USD</th>\n",
       "    </tr>\n",
       "  </thead>\n",
       "  <tbody>\n",
       "    <tr>\n",
       "      <th>0</th>\n",
       "      <td>-0.250089</td>\n",
       "      <td>0.168663</td>\n",
       "    </tr>\n",
       "    <tr>\n",
       "      <th>1</th>\n",
       "      <td>-1.061920</td>\n",
       "      <td>0.648798</td>\n",
       "    </tr>\n",
       "    <tr>\n",
       "      <th>2</th>\n",
       "      <td>-0.134114</td>\n",
       "      <td>1.434473</td>\n",
       "    </tr>\n",
       "    <tr>\n",
       "      <th>3</th>\n",
       "      <td>-0.829968</td>\n",
       "      <td>-0.529715</td>\n",
       "    </tr>\n",
       "    <tr>\n",
       "      <th>4</th>\n",
       "      <td>-0.482041</td>\n",
       "      <td>-0.660661</td>\n",
       "    </tr>\n",
       "    <tr>\n",
       "      <th>...</th>\n",
       "      <td>...</td>\n",
       "      <td>...</td>\n",
       "    </tr>\n",
       "    <tr>\n",
       "      <th>16259</th>\n",
       "      <td>0.793693</td>\n",
       "      <td>1.303527</td>\n",
       "    </tr>\n",
       "    <tr>\n",
       "      <th>16260</th>\n",
       "      <td>0.329789</td>\n",
       "      <td>-0.442418</td>\n",
       "    </tr>\n",
       "    <tr>\n",
       "      <th>16261</th>\n",
       "      <td>0.677717</td>\n",
       "      <td>-1.249917</td>\n",
       "    </tr>\n",
       "    <tr>\n",
       "      <th>16262</th>\n",
       "      <td>1.837475</td>\n",
       "      <td>0.605149</td>\n",
       "    </tr>\n",
       "    <tr>\n",
       "      <th>16263</th>\n",
       "      <td>-1.061920</td>\n",
       "      <td>-1.533633</td>\n",
       "    </tr>\n",
       "  </tbody>\n",
       "</table>\n",
       "<p>16264 rows × 2 columns</p>\n",
       "</div>"
      ],
      "text/plain": [
       "            Age  Order_Value_USD\n",
       "0     -0.250089         0.168663\n",
       "1     -1.061920         0.648798\n",
       "2     -0.134114         1.434473\n",
       "3     -0.829968        -0.529715\n",
       "4     -0.482041        -0.660661\n",
       "...         ...              ...\n",
       "16259  0.793693         1.303527\n",
       "16260  0.329789        -0.442418\n",
       "16261  0.677717        -1.249917\n",
       "16262  1.837475         0.605149\n",
       "16263 -1.061920        -1.533633\n",
       "\n",
       "[16264 rows x 2 columns]"
      ]
     },
     "execution_count": 41,
     "metadata": {},
     "output_type": "execute_result"
    }
   ],
   "source": [
    "X_val_std = X_val_std.drop([\"index\"], axis=1)\n",
    "X_val_std"
   ]
  },
  {
   "cell_type": "code",
   "execution_count": 42,
   "id": "1c701249",
   "metadata": {
    "execution": {
     "iopub.execute_input": "2023-02-27T12:14:41.066952Z",
     "iopub.status.busy": "2023-02-27T12:14:41.066558Z",
     "iopub.status.idle": "2023-02-27T12:14:41.082824Z",
     "shell.execute_reply": "2023-02-27T12:14:41.081506Z"
    },
    "papermill": {
     "duration": 0.047176,
     "end_time": "2023-02-27T12:14:41.085097",
     "exception": false,
     "start_time": "2023-02-27T12:14:41.037921",
     "status": "completed"
    },
    "tags": []
   },
   "outputs": [
    {
     "data": {
      "text/html": [
       "<div>\n",
       "<style scoped>\n",
       "    .dataframe tbody tr th:only-of-type {\n",
       "        vertical-align: middle;\n",
       "    }\n",
       "\n",
       "    .dataframe tbody tr th {\n",
       "        vertical-align: top;\n",
       "    }\n",
       "\n",
       "    .dataframe thead th {\n",
       "        text-align: right;\n",
       "    }\n",
       "</style>\n",
       "<table border=\"1\" class=\"dataframe\">\n",
       "  <thead>\n",
       "    <tr style=\"text-align: right;\">\n",
       "      <th></th>\n",
       "      <th>index</th>\n",
       "      <th>Gender_M</th>\n",
       "      <th>Order_Source_Direct</th>\n",
       "      <th>Order_Source_SEO</th>\n",
       "      <th>Order_Payment_Method_Credit Card</th>\n",
       "      <th>Order_Payment_Method_Debit Card</th>\n",
       "      <th>Order_Payment_Method_E-wallet</th>\n",
       "      <th>Order_Payment_Method_Internet Banking</th>\n",
       "    </tr>\n",
       "  </thead>\n",
       "  <tbody>\n",
       "    <tr>\n",
       "      <th>0</th>\n",
       "      <td>36314</td>\n",
       "      <td>0</td>\n",
       "      <td>0</td>\n",
       "      <td>1</td>\n",
       "      <td>0</td>\n",
       "      <td>0</td>\n",
       "      <td>0</td>\n",
       "      <td>0</td>\n",
       "    </tr>\n",
       "    <tr>\n",
       "      <th>1</th>\n",
       "      <td>24152</td>\n",
       "      <td>1</td>\n",
       "      <td>0</td>\n",
       "      <td>0</td>\n",
       "      <td>1</td>\n",
       "      <td>0</td>\n",
       "      <td>0</td>\n",
       "      <td>0</td>\n",
       "    </tr>\n",
       "    <tr>\n",
       "      <th>2</th>\n",
       "      <td>20735</td>\n",
       "      <td>1</td>\n",
       "      <td>0</td>\n",
       "      <td>1</td>\n",
       "      <td>1</td>\n",
       "      <td>0</td>\n",
       "      <td>0</td>\n",
       "      <td>0</td>\n",
       "    </tr>\n",
       "    <tr>\n",
       "      <th>3</th>\n",
       "      <td>16538</td>\n",
       "      <td>0</td>\n",
       "      <td>0</td>\n",
       "      <td>0</td>\n",
       "      <td>0</td>\n",
       "      <td>0</td>\n",
       "      <td>1</td>\n",
       "      <td>0</td>\n",
       "    </tr>\n",
       "    <tr>\n",
       "      <th>4</th>\n",
       "      <td>16452</td>\n",
       "      <td>1</td>\n",
       "      <td>1</td>\n",
       "      <td>0</td>\n",
       "      <td>0</td>\n",
       "      <td>0</td>\n",
       "      <td>0</td>\n",
       "      <td>1</td>\n",
       "    </tr>\n",
       "    <tr>\n",
       "      <th>...</th>\n",
       "      <td>...</td>\n",
       "      <td>...</td>\n",
       "      <td>...</td>\n",
       "      <td>...</td>\n",
       "      <td>...</td>\n",
       "      <td>...</td>\n",
       "      <td>...</td>\n",
       "      <td>...</td>\n",
       "    </tr>\n",
       "    <tr>\n",
       "      <th>37944</th>\n",
       "      <td>35850</td>\n",
       "      <td>1</td>\n",
       "      <td>0</td>\n",
       "      <td>0</td>\n",
       "      <td>0</td>\n",
       "      <td>0</td>\n",
       "      <td>0</td>\n",
       "      <td>0</td>\n",
       "    </tr>\n",
       "    <tr>\n",
       "      <th>37945</th>\n",
       "      <td>47759</td>\n",
       "      <td>1</td>\n",
       "      <td>1</td>\n",
       "      <td>0</td>\n",
       "      <td>0</td>\n",
       "      <td>0</td>\n",
       "      <td>0</td>\n",
       "      <td>1</td>\n",
       "    </tr>\n",
       "    <tr>\n",
       "      <th>37946</th>\n",
       "      <td>52371</td>\n",
       "      <td>0</td>\n",
       "      <td>0</td>\n",
       "      <td>1</td>\n",
       "      <td>0</td>\n",
       "      <td>0</td>\n",
       "      <td>1</td>\n",
       "      <td>0</td>\n",
       "    </tr>\n",
       "    <tr>\n",
       "      <th>37947</th>\n",
       "      <td>6736</td>\n",
       "      <td>1</td>\n",
       "      <td>0</td>\n",
       "      <td>0</td>\n",
       "      <td>1</td>\n",
       "      <td>0</td>\n",
       "      <td>0</td>\n",
       "      <td>0</td>\n",
       "    </tr>\n",
       "    <tr>\n",
       "      <th>37948</th>\n",
       "      <td>38480</td>\n",
       "      <td>1</td>\n",
       "      <td>0</td>\n",
       "      <td>1</td>\n",
       "      <td>1</td>\n",
       "      <td>0</td>\n",
       "      <td>0</td>\n",
       "      <td>0</td>\n",
       "    </tr>\n",
       "  </tbody>\n",
       "</table>\n",
       "<p>37949 rows × 8 columns</p>\n",
       "</div>"
      ],
      "text/plain": [
       "       index  Gender_M  Order_Source_Direct  Order_Source_SEO  \\\n",
       "0      36314         0                    0                 1   \n",
       "1      24152         1                    0                 0   \n",
       "2      20735         1                    0                 1   \n",
       "3      16538         0                    0                 0   \n",
       "4      16452         1                    1                 0   \n",
       "...      ...       ...                  ...               ...   \n",
       "37944  35850         1                    0                 0   \n",
       "37945  47759         1                    1                 0   \n",
       "37946  52371         0                    0                 1   \n",
       "37947   6736         1                    0                 0   \n",
       "37948  38480         1                    0                 1   \n",
       "\n",
       "       Order_Payment_Method_Credit Card  Order_Payment_Method_Debit Card  \\\n",
       "0                                     0                                0   \n",
       "1                                     1                                0   \n",
       "2                                     1                                0   \n",
       "3                                     0                                0   \n",
       "4                                     0                                0   \n",
       "...                                 ...                              ...   \n",
       "37944                                 0                                0   \n",
       "37945                                 0                                0   \n",
       "37946                                 0                                0   \n",
       "37947                                 1                                0   \n",
       "37948                                 1                                0   \n",
       "\n",
       "       Order_Payment_Method_E-wallet  Order_Payment_Method_Internet Banking  \n",
       "0                                  0                                      0  \n",
       "1                                  0                                      0  \n",
       "2                                  0                                      0  \n",
       "3                                  1                                      0  \n",
       "4                                  0                                      1  \n",
       "...                              ...                                    ...  \n",
       "37944                              0                                      0  \n",
       "37945                              0                                      1  \n",
       "37946                              1                                      0  \n",
       "37947                              0                                      0  \n",
       "37948                              0                                      0  \n",
       "\n",
       "[37949 rows x 8 columns]"
      ]
     },
     "execution_count": 42,
     "metadata": {},
     "output_type": "execute_result"
    }
   ],
   "source": [
    "X_train_dum = X_train_dum.reset_index()\n",
    "X_train_dum"
   ]
  },
  {
   "cell_type": "code",
   "execution_count": 43,
   "id": "9f4a568c",
   "metadata": {
    "execution": {
     "iopub.execute_input": "2023-02-27T12:14:41.141210Z",
     "iopub.status.busy": "2023-02-27T12:14:41.140737Z",
     "iopub.status.idle": "2023-02-27T12:14:41.156678Z",
     "shell.execute_reply": "2023-02-27T12:14:41.155483Z"
    },
    "papermill": {
     "duration": 0.046386,
     "end_time": "2023-02-27T12:14:41.158833",
     "exception": false,
     "start_time": "2023-02-27T12:14:41.112447",
     "status": "completed"
    },
    "tags": []
   },
   "outputs": [
    {
     "data": {
      "text/html": [
       "<div>\n",
       "<style scoped>\n",
       "    .dataframe tbody tr th:only-of-type {\n",
       "        vertical-align: middle;\n",
       "    }\n",
       "\n",
       "    .dataframe tbody tr th {\n",
       "        vertical-align: top;\n",
       "    }\n",
       "\n",
       "    .dataframe thead th {\n",
       "        text-align: right;\n",
       "    }\n",
       "</style>\n",
       "<table border=\"1\" class=\"dataframe\">\n",
       "  <thead>\n",
       "    <tr style=\"text-align: right;\">\n",
       "      <th></th>\n",
       "      <th>Gender_M</th>\n",
       "      <th>Order_Source_Direct</th>\n",
       "      <th>Order_Source_SEO</th>\n",
       "      <th>Order_Payment_Method_Credit Card</th>\n",
       "      <th>Order_Payment_Method_Debit Card</th>\n",
       "      <th>Order_Payment_Method_E-wallet</th>\n",
       "      <th>Order_Payment_Method_Internet Banking</th>\n",
       "    </tr>\n",
       "  </thead>\n",
       "  <tbody>\n",
       "    <tr>\n",
       "      <th>0</th>\n",
       "      <td>0</td>\n",
       "      <td>0</td>\n",
       "      <td>1</td>\n",
       "      <td>0</td>\n",
       "      <td>0</td>\n",
       "      <td>0</td>\n",
       "      <td>0</td>\n",
       "    </tr>\n",
       "    <tr>\n",
       "      <th>1</th>\n",
       "      <td>1</td>\n",
       "      <td>0</td>\n",
       "      <td>0</td>\n",
       "      <td>1</td>\n",
       "      <td>0</td>\n",
       "      <td>0</td>\n",
       "      <td>0</td>\n",
       "    </tr>\n",
       "    <tr>\n",
       "      <th>2</th>\n",
       "      <td>1</td>\n",
       "      <td>0</td>\n",
       "      <td>1</td>\n",
       "      <td>1</td>\n",
       "      <td>0</td>\n",
       "      <td>0</td>\n",
       "      <td>0</td>\n",
       "    </tr>\n",
       "    <tr>\n",
       "      <th>3</th>\n",
       "      <td>0</td>\n",
       "      <td>0</td>\n",
       "      <td>0</td>\n",
       "      <td>0</td>\n",
       "      <td>0</td>\n",
       "      <td>1</td>\n",
       "      <td>0</td>\n",
       "    </tr>\n",
       "    <tr>\n",
       "      <th>4</th>\n",
       "      <td>1</td>\n",
       "      <td>1</td>\n",
       "      <td>0</td>\n",
       "      <td>0</td>\n",
       "      <td>0</td>\n",
       "      <td>0</td>\n",
       "      <td>1</td>\n",
       "    </tr>\n",
       "    <tr>\n",
       "      <th>...</th>\n",
       "      <td>...</td>\n",
       "      <td>...</td>\n",
       "      <td>...</td>\n",
       "      <td>...</td>\n",
       "      <td>...</td>\n",
       "      <td>...</td>\n",
       "      <td>...</td>\n",
       "    </tr>\n",
       "    <tr>\n",
       "      <th>37944</th>\n",
       "      <td>1</td>\n",
       "      <td>0</td>\n",
       "      <td>0</td>\n",
       "      <td>0</td>\n",
       "      <td>0</td>\n",
       "      <td>0</td>\n",
       "      <td>0</td>\n",
       "    </tr>\n",
       "    <tr>\n",
       "      <th>37945</th>\n",
       "      <td>1</td>\n",
       "      <td>1</td>\n",
       "      <td>0</td>\n",
       "      <td>0</td>\n",
       "      <td>0</td>\n",
       "      <td>0</td>\n",
       "      <td>1</td>\n",
       "    </tr>\n",
       "    <tr>\n",
       "      <th>37946</th>\n",
       "      <td>0</td>\n",
       "      <td>0</td>\n",
       "      <td>1</td>\n",
       "      <td>0</td>\n",
       "      <td>0</td>\n",
       "      <td>1</td>\n",
       "      <td>0</td>\n",
       "    </tr>\n",
       "    <tr>\n",
       "      <th>37947</th>\n",
       "      <td>1</td>\n",
       "      <td>0</td>\n",
       "      <td>0</td>\n",
       "      <td>1</td>\n",
       "      <td>0</td>\n",
       "      <td>0</td>\n",
       "      <td>0</td>\n",
       "    </tr>\n",
       "    <tr>\n",
       "      <th>37948</th>\n",
       "      <td>1</td>\n",
       "      <td>0</td>\n",
       "      <td>1</td>\n",
       "      <td>1</td>\n",
       "      <td>0</td>\n",
       "      <td>0</td>\n",
       "      <td>0</td>\n",
       "    </tr>\n",
       "  </tbody>\n",
       "</table>\n",
       "<p>37949 rows × 7 columns</p>\n",
       "</div>"
      ],
      "text/plain": [
       "       Gender_M  Order_Source_Direct  Order_Source_SEO  \\\n",
       "0             0                    0                 1   \n",
       "1             1                    0                 0   \n",
       "2             1                    0                 1   \n",
       "3             0                    0                 0   \n",
       "4             1                    1                 0   \n",
       "...         ...                  ...               ...   \n",
       "37944         1                    0                 0   \n",
       "37945         1                    1                 0   \n",
       "37946         0                    0                 1   \n",
       "37947         1                    0                 0   \n",
       "37948         1                    0                 1   \n",
       "\n",
       "       Order_Payment_Method_Credit Card  Order_Payment_Method_Debit Card  \\\n",
       "0                                     0                                0   \n",
       "1                                     1                                0   \n",
       "2                                     1                                0   \n",
       "3                                     0                                0   \n",
       "4                                     0                                0   \n",
       "...                                 ...                              ...   \n",
       "37944                                 0                                0   \n",
       "37945                                 0                                0   \n",
       "37946                                 0                                0   \n",
       "37947                                 1                                0   \n",
       "37948                                 1                                0   \n",
       "\n",
       "       Order_Payment_Method_E-wallet  Order_Payment_Method_Internet Banking  \n",
       "0                                  0                                      0  \n",
       "1                                  0                                      0  \n",
       "2                                  0                                      0  \n",
       "3                                  1                                      0  \n",
       "4                                  0                                      1  \n",
       "...                              ...                                    ...  \n",
       "37944                              0                                      0  \n",
       "37945                              0                                      1  \n",
       "37946                              1                                      0  \n",
       "37947                              0                                      0  \n",
       "37948                              0                                      0  \n",
       "\n",
       "[37949 rows x 7 columns]"
      ]
     },
     "execution_count": 43,
     "metadata": {},
     "output_type": "execute_result"
    }
   ],
   "source": [
    "X_train_dum = X_train_dum.drop([\"index\"], axis=1)\n",
    "X_train_dum"
   ]
  },
  {
   "cell_type": "code",
   "execution_count": 44,
   "id": "919e6eed",
   "metadata": {
    "execution": {
     "iopub.execute_input": "2023-02-27T12:14:41.217152Z",
     "iopub.status.busy": "2023-02-27T12:14:41.216809Z",
     "iopub.status.idle": "2023-02-27T12:14:41.233113Z",
     "shell.execute_reply": "2023-02-27T12:14:41.231909Z"
    },
    "papermill": {
     "duration": 0.048479,
     "end_time": "2023-02-27T12:14:41.235710",
     "exception": false,
     "start_time": "2023-02-27T12:14:41.187231",
     "status": "completed"
    },
    "tags": []
   },
   "outputs": [
    {
     "data": {
      "text/html": [
       "<div>\n",
       "<style scoped>\n",
       "    .dataframe tbody tr th:only-of-type {\n",
       "        vertical-align: middle;\n",
       "    }\n",
       "\n",
       "    .dataframe tbody tr th {\n",
       "        vertical-align: top;\n",
       "    }\n",
       "\n",
       "    .dataframe thead th {\n",
       "        text-align: right;\n",
       "    }\n",
       "</style>\n",
       "<table border=\"1\" class=\"dataframe\">\n",
       "  <thead>\n",
       "    <tr style=\"text-align: right;\">\n",
       "      <th></th>\n",
       "      <th>index</th>\n",
       "      <th>Gender_M</th>\n",
       "      <th>Order_Source_Direct</th>\n",
       "      <th>Order_Source_SEO</th>\n",
       "      <th>Order_Payment_Method_Credit Card</th>\n",
       "      <th>Order_Payment_Method_Debit Card</th>\n",
       "      <th>Order_Payment_Method_E-wallet</th>\n",
       "      <th>Order_Payment_Method_Internet Banking</th>\n",
       "    </tr>\n",
       "  </thead>\n",
       "  <tbody>\n",
       "    <tr>\n",
       "      <th>0</th>\n",
       "      <td>26840</td>\n",
       "      <td>1</td>\n",
       "      <td>0</td>\n",
       "      <td>1</td>\n",
       "      <td>1</td>\n",
       "      <td>0</td>\n",
       "      <td>0</td>\n",
       "      <td>0</td>\n",
       "    </tr>\n",
       "    <tr>\n",
       "      <th>1</th>\n",
       "      <td>18292</td>\n",
       "      <td>1</td>\n",
       "      <td>0</td>\n",
       "      <td>1</td>\n",
       "      <td>1</td>\n",
       "      <td>0</td>\n",
       "      <td>0</td>\n",
       "      <td>0</td>\n",
       "    </tr>\n",
       "    <tr>\n",
       "      <th>2</th>\n",
       "      <td>31373</td>\n",
       "      <td>0</td>\n",
       "      <td>0</td>\n",
       "      <td>0</td>\n",
       "      <td>1</td>\n",
       "      <td>0</td>\n",
       "      <td>0</td>\n",
       "      <td>0</td>\n",
       "    </tr>\n",
       "    <tr>\n",
       "      <th>3</th>\n",
       "      <td>2307</td>\n",
       "      <td>1</td>\n",
       "      <td>0</td>\n",
       "      <td>1</td>\n",
       "      <td>1</td>\n",
       "      <td>0</td>\n",
       "      <td>0</td>\n",
       "      <td>0</td>\n",
       "    </tr>\n",
       "    <tr>\n",
       "      <th>4</th>\n",
       "      <td>46352</td>\n",
       "      <td>0</td>\n",
       "      <td>0</td>\n",
       "      <td>0</td>\n",
       "      <td>0</td>\n",
       "      <td>1</td>\n",
       "      <td>0</td>\n",
       "      <td>0</td>\n",
       "    </tr>\n",
       "    <tr>\n",
       "      <th>...</th>\n",
       "      <td>...</td>\n",
       "      <td>...</td>\n",
       "      <td>...</td>\n",
       "      <td>...</td>\n",
       "      <td>...</td>\n",
       "      <td>...</td>\n",
       "      <td>...</td>\n",
       "      <td>...</td>\n",
       "    </tr>\n",
       "    <tr>\n",
       "      <th>16259</th>\n",
       "      <td>29939</td>\n",
       "      <td>1</td>\n",
       "      <td>0</td>\n",
       "      <td>1</td>\n",
       "      <td>0</td>\n",
       "      <td>0</td>\n",
       "      <td>1</td>\n",
       "      <td>0</td>\n",
       "    </tr>\n",
       "    <tr>\n",
       "      <th>16260</th>\n",
       "      <td>13586</td>\n",
       "      <td>1</td>\n",
       "      <td>0</td>\n",
       "      <td>0</td>\n",
       "      <td>0</td>\n",
       "      <td>0</td>\n",
       "      <td>0</td>\n",
       "      <td>1</td>\n",
       "    </tr>\n",
       "    <tr>\n",
       "      <th>16261</th>\n",
       "      <td>32584</td>\n",
       "      <td>0</td>\n",
       "      <td>0</td>\n",
       "      <td>0</td>\n",
       "      <td>0</td>\n",
       "      <td>0</td>\n",
       "      <td>1</td>\n",
       "      <td>0</td>\n",
       "    </tr>\n",
       "    <tr>\n",
       "      <th>16262</th>\n",
       "      <td>48775</td>\n",
       "      <td>1</td>\n",
       "      <td>1</td>\n",
       "      <td>0</td>\n",
       "      <td>1</td>\n",
       "      <td>0</td>\n",
       "      <td>0</td>\n",
       "      <td>0</td>\n",
       "    </tr>\n",
       "    <tr>\n",
       "      <th>16263</th>\n",
       "      <td>2494</td>\n",
       "      <td>1</td>\n",
       "      <td>0</td>\n",
       "      <td>0</td>\n",
       "      <td>1</td>\n",
       "      <td>0</td>\n",
       "      <td>0</td>\n",
       "      <td>0</td>\n",
       "    </tr>\n",
       "  </tbody>\n",
       "</table>\n",
       "<p>16264 rows × 8 columns</p>\n",
       "</div>"
      ],
      "text/plain": [
       "       index  Gender_M  Order_Source_Direct  Order_Source_SEO  \\\n",
       "0      26840         1                    0                 1   \n",
       "1      18292         1                    0                 1   \n",
       "2      31373         0                    0                 0   \n",
       "3       2307         1                    0                 1   \n",
       "4      46352         0                    0                 0   \n",
       "...      ...       ...                  ...               ...   \n",
       "16259  29939         1                    0                 1   \n",
       "16260  13586         1                    0                 0   \n",
       "16261  32584         0                    0                 0   \n",
       "16262  48775         1                    1                 0   \n",
       "16263   2494         1                    0                 0   \n",
       "\n",
       "       Order_Payment_Method_Credit Card  Order_Payment_Method_Debit Card  \\\n",
       "0                                     1                                0   \n",
       "1                                     1                                0   \n",
       "2                                     1                                0   \n",
       "3                                     1                                0   \n",
       "4                                     0                                1   \n",
       "...                                 ...                              ...   \n",
       "16259                                 0                                0   \n",
       "16260                                 0                                0   \n",
       "16261                                 0                                0   \n",
       "16262                                 1                                0   \n",
       "16263                                 1                                0   \n",
       "\n",
       "       Order_Payment_Method_E-wallet  Order_Payment_Method_Internet Banking  \n",
       "0                                  0                                      0  \n",
       "1                                  0                                      0  \n",
       "2                                  0                                      0  \n",
       "3                                  0                                      0  \n",
       "4                                  0                                      0  \n",
       "...                              ...                                    ...  \n",
       "16259                              1                                      0  \n",
       "16260                              0                                      1  \n",
       "16261                              1                                      0  \n",
       "16262                              0                                      0  \n",
       "16263                              0                                      0  \n",
       "\n",
       "[16264 rows x 8 columns]"
      ]
     },
     "execution_count": 44,
     "metadata": {},
     "output_type": "execute_result"
    }
   ],
   "source": [
    "X_val_dum = X_val_dum.reset_index()\n",
    "X_val_dum"
   ]
  },
  {
   "cell_type": "code",
   "execution_count": 45,
   "id": "629b69bc",
   "metadata": {
    "execution": {
     "iopub.execute_input": "2023-02-27T12:14:41.294278Z",
     "iopub.status.busy": "2023-02-27T12:14:41.293942Z",
     "iopub.status.idle": "2023-02-27T12:14:41.306843Z",
     "shell.execute_reply": "2023-02-27T12:14:41.305975Z"
    },
    "papermill": {
     "duration": 0.044997,
     "end_time": "2023-02-27T12:14:41.309333",
     "exception": false,
     "start_time": "2023-02-27T12:14:41.264336",
     "status": "completed"
    },
    "tags": []
   },
   "outputs": [
    {
     "data": {
      "text/html": [
       "<div>\n",
       "<style scoped>\n",
       "    .dataframe tbody tr th:only-of-type {\n",
       "        vertical-align: middle;\n",
       "    }\n",
       "\n",
       "    .dataframe tbody tr th {\n",
       "        vertical-align: top;\n",
       "    }\n",
       "\n",
       "    .dataframe thead th {\n",
       "        text-align: right;\n",
       "    }\n",
       "</style>\n",
       "<table border=\"1\" class=\"dataframe\">\n",
       "  <thead>\n",
       "    <tr style=\"text-align: right;\">\n",
       "      <th></th>\n",
       "      <th>Gender_M</th>\n",
       "      <th>Order_Source_Direct</th>\n",
       "      <th>Order_Source_SEO</th>\n",
       "      <th>Order_Payment_Method_Credit Card</th>\n",
       "      <th>Order_Payment_Method_Debit Card</th>\n",
       "      <th>Order_Payment_Method_E-wallet</th>\n",
       "      <th>Order_Payment_Method_Internet Banking</th>\n",
       "    </tr>\n",
       "  </thead>\n",
       "  <tbody>\n",
       "    <tr>\n",
       "      <th>0</th>\n",
       "      <td>1</td>\n",
       "      <td>0</td>\n",
       "      <td>1</td>\n",
       "      <td>1</td>\n",
       "      <td>0</td>\n",
       "      <td>0</td>\n",
       "      <td>0</td>\n",
       "    </tr>\n",
       "    <tr>\n",
       "      <th>1</th>\n",
       "      <td>1</td>\n",
       "      <td>0</td>\n",
       "      <td>1</td>\n",
       "      <td>1</td>\n",
       "      <td>0</td>\n",
       "      <td>0</td>\n",
       "      <td>0</td>\n",
       "    </tr>\n",
       "    <tr>\n",
       "      <th>2</th>\n",
       "      <td>0</td>\n",
       "      <td>0</td>\n",
       "      <td>0</td>\n",
       "      <td>1</td>\n",
       "      <td>0</td>\n",
       "      <td>0</td>\n",
       "      <td>0</td>\n",
       "    </tr>\n",
       "    <tr>\n",
       "      <th>3</th>\n",
       "      <td>1</td>\n",
       "      <td>0</td>\n",
       "      <td>1</td>\n",
       "      <td>1</td>\n",
       "      <td>0</td>\n",
       "      <td>0</td>\n",
       "      <td>0</td>\n",
       "    </tr>\n",
       "    <tr>\n",
       "      <th>4</th>\n",
       "      <td>0</td>\n",
       "      <td>0</td>\n",
       "      <td>0</td>\n",
       "      <td>0</td>\n",
       "      <td>1</td>\n",
       "      <td>0</td>\n",
       "      <td>0</td>\n",
       "    </tr>\n",
       "    <tr>\n",
       "      <th>...</th>\n",
       "      <td>...</td>\n",
       "      <td>...</td>\n",
       "      <td>...</td>\n",
       "      <td>...</td>\n",
       "      <td>...</td>\n",
       "      <td>...</td>\n",
       "      <td>...</td>\n",
       "    </tr>\n",
       "    <tr>\n",
       "      <th>16259</th>\n",
       "      <td>1</td>\n",
       "      <td>0</td>\n",
       "      <td>1</td>\n",
       "      <td>0</td>\n",
       "      <td>0</td>\n",
       "      <td>1</td>\n",
       "      <td>0</td>\n",
       "    </tr>\n",
       "    <tr>\n",
       "      <th>16260</th>\n",
       "      <td>1</td>\n",
       "      <td>0</td>\n",
       "      <td>0</td>\n",
       "      <td>0</td>\n",
       "      <td>0</td>\n",
       "      <td>0</td>\n",
       "      <td>1</td>\n",
       "    </tr>\n",
       "    <tr>\n",
       "      <th>16261</th>\n",
       "      <td>0</td>\n",
       "      <td>0</td>\n",
       "      <td>0</td>\n",
       "      <td>0</td>\n",
       "      <td>0</td>\n",
       "      <td>1</td>\n",
       "      <td>0</td>\n",
       "    </tr>\n",
       "    <tr>\n",
       "      <th>16262</th>\n",
       "      <td>1</td>\n",
       "      <td>1</td>\n",
       "      <td>0</td>\n",
       "      <td>1</td>\n",
       "      <td>0</td>\n",
       "      <td>0</td>\n",
       "      <td>0</td>\n",
       "    </tr>\n",
       "    <tr>\n",
       "      <th>16263</th>\n",
       "      <td>1</td>\n",
       "      <td>0</td>\n",
       "      <td>0</td>\n",
       "      <td>1</td>\n",
       "      <td>0</td>\n",
       "      <td>0</td>\n",
       "      <td>0</td>\n",
       "    </tr>\n",
       "  </tbody>\n",
       "</table>\n",
       "<p>16264 rows × 7 columns</p>\n",
       "</div>"
      ],
      "text/plain": [
       "       Gender_M  Order_Source_Direct  Order_Source_SEO  \\\n",
       "0             1                    0                 1   \n",
       "1             1                    0                 1   \n",
       "2             0                    0                 0   \n",
       "3             1                    0                 1   \n",
       "4             0                    0                 0   \n",
       "...         ...                  ...               ...   \n",
       "16259         1                    0                 1   \n",
       "16260         1                    0                 0   \n",
       "16261         0                    0                 0   \n",
       "16262         1                    1                 0   \n",
       "16263         1                    0                 0   \n",
       "\n",
       "       Order_Payment_Method_Credit Card  Order_Payment_Method_Debit Card  \\\n",
       "0                                     1                                0   \n",
       "1                                     1                                0   \n",
       "2                                     1                                0   \n",
       "3                                     1                                0   \n",
       "4                                     0                                1   \n",
       "...                                 ...                              ...   \n",
       "16259                                 0                                0   \n",
       "16260                                 0                                0   \n",
       "16261                                 0                                0   \n",
       "16262                                 1                                0   \n",
       "16263                                 1                                0   \n",
       "\n",
       "       Order_Payment_Method_E-wallet  Order_Payment_Method_Internet Banking  \n",
       "0                                  0                                      0  \n",
       "1                                  0                                      0  \n",
       "2                                  0                                      0  \n",
       "3                                  0                                      0  \n",
       "4                                  0                                      0  \n",
       "...                              ...                                    ...  \n",
       "16259                              1                                      0  \n",
       "16260                              0                                      1  \n",
       "16261                              1                                      0  \n",
       "16262                              0                                      0  \n",
       "16263                              0                                      0  \n",
       "\n",
       "[16264 rows x 7 columns]"
      ]
     },
     "execution_count": 45,
     "metadata": {},
     "output_type": "execute_result"
    }
   ],
   "source": [
    "X_val_dum = X_val_dum.drop([\"index\"], axis=1)\n",
    "X_val_dum"
   ]
  },
  {
   "cell_type": "markdown",
   "id": "8a150370",
   "metadata": {
    "papermill": {
     "duration": 0.028231,
     "end_time": "2023-02-27T12:14:41.366162",
     "exception": false,
     "start_time": "2023-02-27T12:14:41.337931",
     "status": "completed"
    },
    "tags": []
   },
   "source": [
    "## Concating Train and validation data"
   ]
  },
  {
   "cell_type": "code",
   "execution_count": 46,
   "id": "f6a45ce6",
   "metadata": {
    "execution": {
     "iopub.execute_input": "2023-02-27T12:14:41.425241Z",
     "iopub.status.busy": "2023-02-27T12:14:41.424867Z",
     "iopub.status.idle": "2023-02-27T12:14:41.430103Z",
     "shell.execute_reply": "2023-02-27T12:14:41.429094Z"
    },
    "papermill": {
     "duration": 0.036384,
     "end_time": "2023-02-27T12:14:41.431852",
     "exception": false,
     "start_time": "2023-02-27T12:14:41.395468",
     "status": "completed"
    },
    "tags": []
   },
   "outputs": [],
   "source": [
    "final_X_train = pd.concat([X_train_std, X_train_dum], axis=1)"
   ]
  },
  {
   "cell_type": "code",
   "execution_count": 47,
   "id": "ba3ea0a2",
   "metadata": {
    "execution": {
     "iopub.execute_input": "2023-02-27T12:14:41.490035Z",
     "iopub.status.busy": "2023-02-27T12:14:41.489012Z",
     "iopub.status.idle": "2023-02-27T12:14:41.494123Z",
     "shell.execute_reply": "2023-02-27T12:14:41.493413Z"
    },
    "papermill": {
     "duration": 0.036672,
     "end_time": "2023-02-27T12:14:41.496474",
     "exception": false,
     "start_time": "2023-02-27T12:14:41.459802",
     "status": "completed"
    },
    "tags": []
   },
   "outputs": [],
   "source": [
    "final_X_val = pd.concat([X_val_std, X_val_dum], axis=1)"
   ]
  },
  {
   "cell_type": "code",
   "execution_count": 48,
   "id": "a5bea4ea",
   "metadata": {
    "execution": {
     "iopub.execute_input": "2023-02-27T12:14:41.555595Z",
     "iopub.status.busy": "2023-02-27T12:14:41.554596Z",
     "iopub.status.idle": "2023-02-27T12:14:41.564068Z",
     "shell.execute_reply": "2023-02-27T12:14:41.563062Z"
    },
    "papermill": {
     "duration": 0.041456,
     "end_time": "2023-02-27T12:14:41.566262",
     "exception": false,
     "start_time": "2023-02-27T12:14:41.524806",
     "status": "completed"
    },
    "tags": []
   },
   "outputs": [
    {
     "data": {
      "text/plain": [
       "Age                                      0\n",
       "Order_Value_USD                          0\n",
       "Gender_M                                 0\n",
       "Order_Source_Direct                      0\n",
       "Order_Source_SEO                         0\n",
       "Order_Payment_Method_Credit Card         0\n",
       "Order_Payment_Method_Debit Card          0\n",
       "Order_Payment_Method_E-wallet            0\n",
       "Order_Payment_Method_Internet Banking    0\n",
       "dtype: int64"
      ]
     },
     "execution_count": 48,
     "metadata": {},
     "output_type": "execute_result"
    }
   ],
   "source": [
    "final_X_train.isnull().sum()"
   ]
  },
  {
   "cell_type": "code",
   "execution_count": 49,
   "id": "a68741eb",
   "metadata": {
    "execution": {
     "iopub.execute_input": "2023-02-27T12:14:41.624405Z",
     "iopub.status.busy": "2023-02-27T12:14:41.623791Z",
     "iopub.status.idle": "2023-02-27T12:14:41.632128Z",
     "shell.execute_reply": "2023-02-27T12:14:41.630935Z"
    },
    "papermill": {
     "duration": 0.039411,
     "end_time": "2023-02-27T12:14:41.634024",
     "exception": false,
     "start_time": "2023-02-27T12:14:41.594613",
     "status": "completed"
    },
    "tags": []
   },
   "outputs": [
    {
     "data": {
      "text/plain": [
       "Age                                      0\n",
       "Order_Value_USD                          0\n",
       "Gender_M                                 0\n",
       "Order_Source_Direct                      0\n",
       "Order_Source_SEO                         0\n",
       "Order_Payment_Method_Credit Card         0\n",
       "Order_Payment_Method_Debit Card          0\n",
       "Order_Payment_Method_E-wallet            0\n",
       "Order_Payment_Method_Internet Banking    0\n",
       "dtype: int64"
      ]
     },
     "execution_count": 49,
     "metadata": {},
     "output_type": "execute_result"
    }
   ],
   "source": [
    "final_X_val.isnull().sum()"
   ]
  },
  {
   "cell_type": "markdown",
   "id": "e5fe0c75",
   "metadata": {
    "papermill": {
     "duration": 0.027757,
     "end_time": "2023-02-27T12:14:41.689504",
     "exception": false,
     "start_time": "2023-02-27T12:14:41.661747",
     "status": "completed"
    },
    "tags": []
   },
   "source": [
    "# Model Building\n",
    "## Decision Tree"
   ]
  },
  {
   "cell_type": "code",
   "execution_count": 50,
   "id": "b141f9e6",
   "metadata": {
    "execution": {
     "iopub.execute_input": "2023-02-27T12:14:41.747767Z",
     "iopub.status.busy": "2023-02-27T12:14:41.747212Z",
     "iopub.status.idle": "2023-02-27T12:14:41.966574Z",
     "shell.execute_reply": "2023-02-27T12:14:41.965528Z"
    },
    "papermill": {
     "duration": 0.251798,
     "end_time": "2023-02-27T12:14:41.969465",
     "exception": false,
     "start_time": "2023-02-27T12:14:41.717667",
     "status": "completed"
    },
    "tags": []
   },
   "outputs": [],
   "source": [
    "from sklearn import tree\n",
    "from sklearn.model_selection import GridSearchCV"
   ]
  },
  {
   "cell_type": "code",
   "execution_count": 51,
   "id": "243b9316",
   "metadata": {
    "execution": {
     "iopub.execute_input": "2023-02-27T12:14:42.028101Z",
     "iopub.status.busy": "2023-02-27T12:14:42.027760Z",
     "iopub.status.idle": "2023-02-27T12:14:42.033066Z",
     "shell.execute_reply": "2023-02-27T12:14:42.031461Z"
    },
    "papermill": {
     "duration": 0.037632,
     "end_time": "2023-02-27T12:14:42.035439",
     "exception": false,
     "start_time": "2023-02-27T12:14:41.997807",
     "status": "completed"
    },
    "tags": []
   },
   "outputs": [],
   "source": [
    "dt = tree.DecisionTreeClassifier()"
   ]
  },
  {
   "cell_type": "code",
   "execution_count": 52,
   "id": "1e76834d",
   "metadata": {
    "execution": {
     "iopub.execute_input": "2023-02-27T12:14:42.094250Z",
     "iopub.status.busy": "2023-02-27T12:14:42.093873Z",
     "iopub.status.idle": "2023-02-27T12:16:12.244483Z",
     "shell.execute_reply": "2023-02-27T12:16:12.243271Z"
    },
    "papermill": {
     "duration": 90.210151,
     "end_time": "2023-02-27T12:16:12.274515",
     "exception": false,
     "start_time": "2023-02-27T12:14:42.064364",
     "status": "completed"
    },
    "tags": []
   },
   "outputs": [
    {
     "data": {
      "text/plain": [
       "GridSearchCV(cv=5, estimator=DecisionTreeClassifier(),\n",
       "             param_grid={'criterion': ['gini', 'entropy'],\n",
       "                         'max_depth': [3, 5, 7, 10],\n",
       "                         'max_features': ['sqrt', 'log2', None],\n",
       "                         'min_samples_leaf': [1, 2, 4, 6, 10],\n",
       "                         'min_samples_split': [10, 20, 30, 40, 50]})"
      ]
     },
     "execution_count": 52,
     "metadata": {},
     "output_type": "execute_result"
    }
   ],
   "source": [
    "# Define hyperparameter space\n",
    "param_grid = {\n",
    "    'criterion': ['gini', 'entropy'],\n",
    "    'max_depth': [3, 5, 7, 10],\n",
    "    'min_samples_split': [10, 20, 30, 40, 50],\n",
    "    'min_samples_leaf': [1, 2, 4, 6, 10],\n",
    "    'max_features': ['sqrt', 'log2', None]\n",
    "}\n",
    "\n",
    "# Perform grid search CV\n",
    "grid_search = GridSearchCV(dt, param_grid=param_grid, cv=5)\n",
    "grid_search.fit(final_X_train, y_train)"
   ]
  },
  {
   "cell_type": "code",
   "execution_count": 53,
   "id": "0347b0a9",
   "metadata": {
    "execution": {
     "iopub.execute_input": "2023-02-27T12:16:12.334874Z",
     "iopub.status.busy": "2023-02-27T12:16:12.334215Z",
     "iopub.status.idle": "2023-02-27T12:16:12.340805Z",
     "shell.execute_reply": "2023-02-27T12:16:12.339315Z"
    },
    "papermill": {
     "duration": 0.039893,
     "end_time": "2023-02-27T12:16:12.343921",
     "exception": false,
     "start_time": "2023-02-27T12:16:12.304028",
     "status": "completed"
    },
    "tags": []
   },
   "outputs": [
    {
     "name": "stdout",
     "output_type": "stream",
     "text": [
      "Best parameters: {'criterion': 'entropy', 'max_depth': 7, 'max_features': 'log2', 'min_samples_leaf': 4, 'min_samples_split': 10}\n",
      "Best score: 0.9075601448667727\n"
     ]
    }
   ],
   "source": [
    "print(\"Best parameters:\", grid_search.best_params_)\n",
    "print(\"Best score:\", grid_search.best_score_)"
   ]
  },
  {
   "cell_type": "code",
   "execution_count": 54,
   "id": "449b9278",
   "metadata": {
    "execution": {
     "iopub.execute_input": "2023-02-27T12:16:12.403696Z",
     "iopub.status.busy": "2023-02-27T12:16:12.403289Z",
     "iopub.status.idle": "2023-02-27T12:16:12.439106Z",
     "shell.execute_reply": "2023-02-27T12:16:12.437716Z"
    },
    "papermill": {
     "duration": 0.06871,
     "end_time": "2023-02-27T12:16:12.441881",
     "exception": false,
     "start_time": "2023-02-27T12:16:12.373171",
     "status": "completed"
    },
    "tags": []
   },
   "outputs": [],
   "source": [
    "dt = tree.DecisionTreeClassifier(criterion='entropy', max_depth= 7, max_features= 'log2', min_samples_leaf=2, min_samples_split=40)\n",
    "dt = dt.fit(final_X_train, y_train)"
   ]
  },
  {
   "cell_type": "code",
   "execution_count": 55,
   "id": "d4e91e5d",
   "metadata": {
    "execution": {
     "iopub.execute_input": "2023-02-27T12:16:12.499992Z",
     "iopub.status.busy": "2023-02-27T12:16:12.499600Z",
     "iopub.status.idle": "2023-02-27T12:16:12.511508Z",
     "shell.execute_reply": "2023-02-27T12:16:12.510355Z"
    },
    "papermill": {
     "duration": 0.043749,
     "end_time": "2023-02-27T12:16:12.513944",
     "exception": false,
     "start_time": "2023-02-27T12:16:12.470195",
     "status": "completed"
    },
    "tags": []
   },
   "outputs": [
    {
     "data": {
      "text/plain": [
       "array([0, 0, 0, 0, 0, 0, 0, 0, 0, 0])"
      ]
     },
     "execution_count": 55,
     "metadata": {},
     "output_type": "execute_result"
    }
   ],
   "source": [
    "dt_y_train_preds = dt.predict(final_X_train)\n",
    "dt_y_train_preds[0:10]"
   ]
  },
  {
   "cell_type": "code",
   "execution_count": 56,
   "id": "c1c652cd",
   "metadata": {
    "execution": {
     "iopub.execute_input": "2023-02-27T12:16:12.573004Z",
     "iopub.status.busy": "2023-02-27T12:16:12.572665Z",
     "iopub.status.idle": "2023-02-27T12:16:12.582233Z",
     "shell.execute_reply": "2023-02-27T12:16:12.581224Z"
    },
    "papermill": {
     "duration": 0.042449,
     "end_time": "2023-02-27T12:16:12.584808",
     "exception": false,
     "start_time": "2023-02-27T12:16:12.542359",
     "status": "completed"
    },
    "tags": []
   },
   "outputs": [
    {
     "data": {
      "text/plain": [
       "array([0, 0, 0, 0, 0, 0, 0, 0, 0, 0])"
      ]
     },
     "execution_count": 56,
     "metadata": {},
     "output_type": "execute_result"
    }
   ],
   "source": [
    "dt_y_val_preds = dt.predict(final_X_val)\n",
    "dt_y_val_preds[0:10]"
   ]
  },
  {
   "cell_type": "code",
   "execution_count": 57,
   "id": "4e8b35f9",
   "metadata": {
    "execution": {
     "iopub.execute_input": "2023-02-27T12:16:12.644414Z",
     "iopub.status.busy": "2023-02-27T12:16:12.644002Z",
     "iopub.status.idle": "2023-02-27T12:16:12.689794Z",
     "shell.execute_reply": "2023-02-27T12:16:12.688529Z"
    },
    "papermill": {
     "duration": 0.078048,
     "end_time": "2023-02-27T12:16:12.692270",
     "exception": false,
     "start_time": "2023-02-27T12:16:12.614222",
     "status": "completed"
    },
    "tags": []
   },
   "outputs": [
    {
     "data": {
      "text/plain": [
       "array([[34426,     6],\n",
       "       [ 3503,    14]])"
      ]
     },
     "execution_count": 57,
     "metadata": {},
     "output_type": "execute_result"
    }
   ],
   "source": [
    "from sklearn.metrics import confusion_matrix, classification_report\n",
    "confusionmatrix = confusion_matrix(y_train, dt_y_train_preds)\n",
    "class_report_train = classification_report(y_train, dt_y_train_preds)\n",
    "confusionmatrix"
   ]
  },
  {
   "cell_type": "code",
   "execution_count": 58,
   "id": "855c8bb9",
   "metadata": {
    "execution": {
     "iopub.execute_input": "2023-02-27T12:16:12.752771Z",
     "iopub.status.busy": "2023-02-27T12:16:12.752355Z",
     "iopub.status.idle": "2023-02-27T12:16:12.758785Z",
     "shell.execute_reply": "2023-02-27T12:16:12.757479Z"
    },
    "papermill": {
     "duration": 0.039842,
     "end_time": "2023-02-27T12:16:12.761270",
     "exception": false,
     "start_time": "2023-02-27T12:16:12.721428",
     "status": "completed"
    },
    "tags": []
   },
   "outputs": [
    {
     "name": "stdout",
     "output_type": "stream",
     "text": [
      "              precision    recall  f1-score   support\n",
      "\n",
      "           0       0.91      1.00      0.95     34432\n",
      "           1       0.70      0.00      0.01      3517\n",
      "\n",
      "    accuracy                           0.91     37949\n",
      "   macro avg       0.80      0.50      0.48     37949\n",
      "weighted avg       0.89      0.91      0.86     37949\n",
      "\n"
     ]
    }
   ],
   "source": [
    "print(class_report_train)"
   ]
  },
  {
   "cell_type": "code",
   "execution_count": 59,
   "id": "84423736",
   "metadata": {
    "execution": {
     "iopub.execute_input": "2023-02-27T12:16:12.823446Z",
     "iopub.status.busy": "2023-02-27T12:16:12.823074Z",
     "iopub.status.idle": "2023-02-27T12:16:12.848985Z",
     "shell.execute_reply": "2023-02-27T12:16:12.847404Z"
    },
    "papermill": {
     "duration": 0.060027,
     "end_time": "2023-02-27T12:16:12.851309",
     "exception": false,
     "start_time": "2023-02-27T12:16:12.791282",
     "status": "completed"
    },
    "tags": []
   },
   "outputs": [
    {
     "data": {
      "text/plain": [
       "array([[14750,     6],\n",
       "       [ 1503,     5]])"
      ]
     },
     "execution_count": 59,
     "metadata": {},
     "output_type": "execute_result"
    }
   ],
   "source": [
    "confusionmatrix = confusion_matrix(y_val, dt_y_val_preds)\n",
    "class_report_val = classification_report(y_val ,dt_y_val_preds)\n",
    "confusionmatrix"
   ]
  },
  {
   "cell_type": "code",
   "execution_count": 60,
   "id": "1ac37ad3",
   "metadata": {
    "execution": {
     "iopub.execute_input": "2023-02-27T12:16:12.912148Z",
     "iopub.status.busy": "2023-02-27T12:16:12.911495Z",
     "iopub.status.idle": "2023-02-27T12:16:12.918447Z",
     "shell.execute_reply": "2023-02-27T12:16:12.916428Z"
    },
    "papermill": {
     "duration": 0.04063,
     "end_time": "2023-02-27T12:16:12.921248",
     "exception": false,
     "start_time": "2023-02-27T12:16:12.880618",
     "status": "completed"
    },
    "tags": []
   },
   "outputs": [
    {
     "name": "stdout",
     "output_type": "stream",
     "text": [
      "              precision    recall  f1-score   support\n",
      "\n",
      "           0       0.91      1.00      0.95     14756\n",
      "           1       0.45      0.00      0.01      1508\n",
      "\n",
      "    accuracy                           0.91     16264\n",
      "   macro avg       0.68      0.50      0.48     16264\n",
      "weighted avg       0.87      0.91      0.86     16264\n",
      "\n"
     ]
    }
   ],
   "source": [
    "print(class_report_val)"
   ]
  },
  {
   "cell_type": "markdown",
   "id": "670778c3",
   "metadata": {
    "papermill": {
     "duration": 0.02903,
     "end_time": "2023-02-27T12:16:12.979963",
     "exception": false,
     "start_time": "2023-02-27T12:16:12.950933",
     "status": "completed"
    },
    "tags": []
   },
   "source": [
    "# K-Nearest Neighbours"
   ]
  },
  {
   "cell_type": "code",
   "execution_count": 61,
   "id": "a9053c8a",
   "metadata": {
    "execution": {
     "iopub.execute_input": "2023-02-27T12:16:13.040697Z",
     "iopub.status.busy": "2023-02-27T12:16:13.040326Z",
     "iopub.status.idle": "2023-02-27T12:16:13.045785Z",
     "shell.execute_reply": "2023-02-27T12:16:13.044234Z"
    },
    "papermill": {
     "duration": 0.039052,
     "end_time": "2023-02-27T12:16:13.048283",
     "exception": false,
     "start_time": "2023-02-27T12:16:13.009231",
     "status": "completed"
    },
    "tags": []
   },
   "outputs": [],
   "source": [
    "from sklearn.neighbors import KNeighborsClassifier\n",
    "knn = KNeighborsClassifier()"
   ]
  },
  {
   "cell_type": "code",
   "execution_count": 62,
   "id": "1456ecf3",
   "metadata": {
    "execution": {
     "iopub.execute_input": "2023-02-27T12:16:13.107794Z",
     "iopub.status.busy": "2023-02-27T12:16:13.107386Z",
     "iopub.status.idle": "2023-02-27T12:16:13.112872Z",
     "shell.execute_reply": "2023-02-27T12:16:13.111511Z"
    },
    "papermill": {
     "duration": 0.038618,
     "end_time": "2023-02-27T12:16:13.115696",
     "exception": false,
     "start_time": "2023-02-27T12:16:13.077078",
     "status": "completed"
    },
    "tags": []
   },
   "outputs": [],
   "source": [
    "param_grid = {\n",
    "    'n_neighbors': [3, 5, 11, 17, 19, 21],\n",
    "    'weights': ['uniform', 'distance']\n",
    "}"
   ]
  },
  {
   "cell_type": "code",
   "execution_count": 63,
   "id": "ee445c3a",
   "metadata": {
    "execution": {
     "iopub.execute_input": "2023-02-27T12:16:13.176858Z",
     "iopub.status.busy": "2023-02-27T12:16:13.176251Z",
     "iopub.status.idle": "2023-02-27T12:16:30.381063Z",
     "shell.execute_reply": "2023-02-27T12:16:30.379524Z"
    },
    "papermill": {
     "duration": 17.238472,
     "end_time": "2023-02-27T12:16:30.383433",
     "exception": false,
     "start_time": "2023-02-27T12:16:13.144961",
     "status": "completed"
    },
    "tags": []
   },
   "outputs": [
    {
     "name": "stdout",
     "output_type": "stream",
     "text": [
      "Best parameters: {'n_neighbors': 21, 'weights': 'distance'}\n",
      "Best score: 0.9141479198708484\n"
     ]
    }
   ],
   "source": [
    "# Create the GridSearchCV object\n",
    "grid_search = GridSearchCV(knn, param_grid, cv=5)\n",
    "\n",
    "# Fit the GridSearchCV object to the data\n",
    "grid_search.fit(final_X_train, y_train)\n",
    "\n",
    "# Print the best parameters and the corresponding score\n",
    "print(\"Best parameters:\", grid_search.best_params_)\n",
    "print(\"Best score:\", grid_search.best_score_)"
   ]
  },
  {
   "cell_type": "code",
   "execution_count": 64,
   "id": "93480659",
   "metadata": {
    "execution": {
     "iopub.execute_input": "2023-02-27T12:16:30.443369Z",
     "iopub.status.busy": "2023-02-27T12:16:30.443024Z",
     "iopub.status.idle": "2023-02-27T12:16:30.499182Z",
     "shell.execute_reply": "2023-02-27T12:16:30.497685Z"
    },
    "papermill": {
     "duration": 0.089585,
     "end_time": "2023-02-27T12:16:30.501823",
     "exception": false,
     "start_time": "2023-02-27T12:16:30.412238",
     "status": "completed"
    },
    "tags": []
   },
   "outputs": [],
   "source": [
    "knn = KNeighborsClassifier(n_neighbors= 21, weights='distance')\n",
    "knn = knn.fit(final_X_train, y_train)"
   ]
  },
  {
   "cell_type": "code",
   "execution_count": 65,
   "id": "62e041cf",
   "metadata": {
    "execution": {
     "iopub.execute_input": "2023-02-27T12:16:30.561569Z",
     "iopub.status.busy": "2023-02-27T12:16:30.561195Z",
     "iopub.status.idle": "2023-02-27T12:16:31.844379Z",
     "shell.execute_reply": "2023-02-27T12:16:31.843402Z"
    },
    "papermill": {
     "duration": 1.316263,
     "end_time": "2023-02-27T12:16:31.847046",
     "exception": false,
     "start_time": "2023-02-27T12:16:30.530783",
     "status": "completed"
    },
    "tags": []
   },
   "outputs": [
    {
     "data": {
      "text/plain": [
       "array([0, 0, 0, 0, 0, 0, 0, 0, 1, 1])"
      ]
     },
     "execution_count": 65,
     "metadata": {},
     "output_type": "execute_result"
    }
   ],
   "source": [
    "y_train_preds = knn.predict(final_X_train)\n",
    "y_train_preds[0:10]"
   ]
  },
  {
   "cell_type": "code",
   "execution_count": 66,
   "id": "9f584577",
   "metadata": {
    "execution": {
     "iopub.execute_input": "2023-02-27T12:16:31.907510Z",
     "iopub.status.busy": "2023-02-27T12:16:31.907144Z",
     "iopub.status.idle": "2023-02-27T12:16:32.499390Z",
     "shell.execute_reply": "2023-02-27T12:16:32.498322Z"
    },
    "papermill": {
     "duration": 0.625298,
     "end_time": "2023-02-27T12:16:32.501888",
     "exception": false,
     "start_time": "2023-02-27T12:16:31.876590",
     "status": "completed"
    },
    "tags": []
   },
   "outputs": [
    {
     "data": {
      "text/plain": [
       "array([0, 0, 0, 0, 0, 0, 0, 0, 0, 0])"
      ]
     },
     "execution_count": 66,
     "metadata": {},
     "output_type": "execute_result"
    }
   ],
   "source": [
    "y_val_preds = knn.predict(final_X_val)\n",
    "y_val_preds[0:10]"
   ]
  },
  {
   "cell_type": "code",
   "execution_count": 67,
   "id": "22ea4c2e",
   "metadata": {
    "execution": {
     "iopub.execute_input": "2023-02-27T12:16:32.563437Z",
     "iopub.status.busy": "2023-02-27T12:16:32.563081Z",
     "iopub.status.idle": "2023-02-27T12:16:32.611482Z",
     "shell.execute_reply": "2023-02-27T12:16:32.610057Z"
    },
    "papermill": {
     "duration": 0.083574,
     "end_time": "2023-02-27T12:16:32.614423",
     "exception": false,
     "start_time": "2023-02-27T12:16:32.530849",
     "status": "completed"
    },
    "tags": []
   },
   "outputs": [
    {
     "data": {
      "text/plain": [
       "array([[34078,   354],\n",
       "       [ 1161,  2356]])"
      ]
     },
     "execution_count": 67,
     "metadata": {},
     "output_type": "execute_result"
    }
   ],
   "source": [
    "confusionmatrix = confusion_matrix(y_train,y_train_preds)\n",
    "class_report_train = classification_report(y_train,y_train_preds)\n",
    "confusionmatrix"
   ]
  },
  {
   "cell_type": "code",
   "execution_count": 68,
   "id": "6fa345f6",
   "metadata": {
    "execution": {
     "iopub.execute_input": "2023-02-27T12:16:32.675105Z",
     "iopub.status.busy": "2023-02-27T12:16:32.674742Z",
     "iopub.status.idle": "2023-02-27T12:16:32.680292Z",
     "shell.execute_reply": "2023-02-27T12:16:32.678772Z"
    },
    "papermill": {
     "duration": 0.038997,
     "end_time": "2023-02-27T12:16:32.682866",
     "exception": false,
     "start_time": "2023-02-27T12:16:32.643869",
     "status": "completed"
    },
    "tags": []
   },
   "outputs": [
    {
     "name": "stdout",
     "output_type": "stream",
     "text": [
      "              precision    recall  f1-score   support\n",
      "\n",
      "           0       0.97      0.99      0.98     34432\n",
      "           1       0.87      0.67      0.76      3517\n",
      "\n",
      "    accuracy                           0.96     37949\n",
      "   macro avg       0.92      0.83      0.87     37949\n",
      "weighted avg       0.96      0.96      0.96     37949\n",
      "\n"
     ]
    }
   ],
   "source": [
    "print(class_report_train)"
   ]
  },
  {
   "cell_type": "code",
   "execution_count": 69,
   "id": "864b20a3",
   "metadata": {
    "execution": {
     "iopub.execute_input": "2023-02-27T12:16:32.744264Z",
     "iopub.status.busy": "2023-02-27T12:16:32.743889Z",
     "iopub.status.idle": "2023-02-27T12:16:32.770686Z",
     "shell.execute_reply": "2023-02-27T12:16:32.769127Z"
    },
    "papermill": {
     "duration": 0.060516,
     "end_time": "2023-02-27T12:16:32.773303",
     "exception": false,
     "start_time": "2023-02-27T12:16:32.712787",
     "status": "completed"
    },
    "tags": []
   },
   "outputs": [
    {
     "data": {
      "text/plain": [
       "array([[14315,   441],\n",
       "       [  969,   539]])"
      ]
     },
     "execution_count": 69,
     "metadata": {},
     "output_type": "execute_result"
    }
   ],
   "source": [
    "confusionmatrix = confusion_matrix(y_val,y_val_preds)\n",
    "class_report_val = classification_report(y_val,y_val_preds)\n",
    "confusionmatrix"
   ]
  },
  {
   "cell_type": "code",
   "execution_count": 70,
   "id": "d7c6f536",
   "metadata": {
    "execution": {
     "iopub.execute_input": "2023-02-27T12:16:32.833650Z",
     "iopub.status.busy": "2023-02-27T12:16:32.833233Z",
     "iopub.status.idle": "2023-02-27T12:16:32.838772Z",
     "shell.execute_reply": "2023-02-27T12:16:32.837437Z"
    },
    "papermill": {
     "duration": 0.038509,
     "end_time": "2023-02-27T12:16:32.841079",
     "exception": false,
     "start_time": "2023-02-27T12:16:32.802570",
     "status": "completed"
    },
    "tags": []
   },
   "outputs": [
    {
     "name": "stdout",
     "output_type": "stream",
     "text": [
      "              precision    recall  f1-score   support\n",
      "\n",
      "           0       0.94      0.97      0.95     14756\n",
      "           1       0.55      0.36      0.43      1508\n",
      "\n",
      "    accuracy                           0.91     16264\n",
      "   macro avg       0.74      0.66      0.69     16264\n",
      "weighted avg       0.90      0.91      0.90     16264\n",
      "\n"
     ]
    }
   ],
   "source": [
    "print(class_report_val)"
   ]
  },
  {
   "cell_type": "markdown",
   "id": "99a3bc1d",
   "metadata": {
    "papermill": {
     "duration": 0.030001,
     "end_time": "2023-02-27T12:16:32.901161",
     "exception": false,
     "start_time": "2023-02-27T12:16:32.871160",
     "status": "completed"
    },
    "tags": []
   },
   "source": [
    "# Importing the test data"
   ]
  },
  {
   "cell_type": "code",
   "execution_count": 71,
   "id": "f5e4c452",
   "metadata": {
    "execution": {
     "iopub.execute_input": "2023-02-27T12:16:32.961992Z",
     "iopub.status.busy": "2023-02-27T12:16:32.961624Z",
     "iopub.status.idle": "2023-02-27T12:16:33.016251Z",
     "shell.execute_reply": "2023-02-27T12:16:33.015449Z"
    },
    "papermill": {
     "duration": 0.087572,
     "end_time": "2023-02-27T12:16:33.018580",
     "exception": false,
     "start_time": "2023-02-27T12:16:32.931008",
     "status": "completed"
    },
    "tags": []
   },
   "outputs": [
    {
     "data": {
      "text/html": [
       "<div>\n",
       "<style scoped>\n",
       "    .dataframe tbody tr th:only-of-type {\n",
       "        vertical-align: middle;\n",
       "    }\n",
       "\n",
       "    .dataframe tbody tr th {\n",
       "        vertical-align: top;\n",
       "    }\n",
       "\n",
       "    .dataframe thead th {\n",
       "        text-align: right;\n",
       "    }\n",
       "</style>\n",
       "<table border=\"1\" class=\"dataframe\">\n",
       "  <thead>\n",
       "    <tr style=\"text-align: right;\">\n",
       "      <th></th>\n",
       "      <th>Ecommerce_Provider_ID</th>\n",
       "      <th>Merchant_ID</th>\n",
       "      <th>Merchant_Registration_Date</th>\n",
       "      <th>Registered_Device_ID</th>\n",
       "      <th>Gender</th>\n",
       "      <th>Age</th>\n",
       "      <th>IP_Address</th>\n",
       "    </tr>\n",
       "  </thead>\n",
       "  <tbody>\n",
       "    <tr>\n",
       "      <th>0</th>\n",
       "      <td>1746213</td>\n",
       "      <td>53637</td>\n",
       "      <td>2018-02-11 20:50:29</td>\n",
       "      <td>PTMLBENYMQCTV</td>\n",
       "      <td>F</td>\n",
       "      <td>40</td>\n",
       "      <td>134.162.124.62</td>\n",
       "    </tr>\n",
       "    <tr>\n",
       "      <th>1</th>\n",
       "      <td>1746213</td>\n",
       "      <td>243517</td>\n",
       "      <td>2018-04-06 13:19:39</td>\n",
       "      <td>HMCLDZUZPWZRR</td>\n",
       "      <td>M</td>\n",
       "      <td>39</td>\n",
       "      <td>152.76.98.87</td>\n",
       "    </tr>\n",
       "    <tr>\n",
       "      <th>2</th>\n",
       "      <td>1746213</td>\n",
       "      <td>343640</td>\n",
       "      <td>2018-01-12 16:47:49</td>\n",
       "      <td>VLGSMAPXISSEJ</td>\n",
       "      <td>M</td>\n",
       "      <td>23</td>\n",
       "      <td>31.202.3.255</td>\n",
       "    </tr>\n",
       "    <tr>\n",
       "      <th>3</th>\n",
       "      <td>1746213</td>\n",
       "      <td>69889</td>\n",
       "      <td>2018-02-19 21:58:52</td>\n",
       "      <td>ZINHISBBOKQXT</td>\n",
       "      <td>M</td>\n",
       "      <td>34</td>\n",
       "      <td>12.242.168.185</td>\n",
       "    </tr>\n",
       "    <tr>\n",
       "      <th>4</th>\n",
       "      <td>1746213</td>\n",
       "      <td>125706</td>\n",
       "      <td>2018-05-17 15:50:19</td>\n",
       "      <td>WFKEAOTPHTYEO</td>\n",
       "      <td>M</td>\n",
       "      <td>20</td>\n",
       "      <td>26.61.210.47</td>\n",
       "    </tr>\n",
       "  </tbody>\n",
       "</table>\n",
       "</div>"
      ],
      "text/plain": [
       "   Ecommerce_Provider_ID  Merchant_ID Merchant_Registration_Date  \\\n",
       "0                1746213        53637        2018-02-11 20:50:29   \n",
       "1                1746213       243517        2018-04-06 13:19:39   \n",
       "2                1746213       343640        2018-01-12 16:47:49   \n",
       "3                1746213        69889        2018-02-19 21:58:52   \n",
       "4                1746213       125706        2018-05-17 15:50:19   \n",
       "\n",
       "  Registered_Device_ID Gender  Age      IP_Address  \n",
       "0        PTMLBENYMQCTV      F   40  134.162.124.62  \n",
       "1        HMCLDZUZPWZRR      M   39    152.76.98.87  \n",
       "2        VLGSMAPXISSEJ      M   23    31.202.3.255  \n",
       "3        ZINHISBBOKQXT      M   34  12.242.168.185  \n",
       "4        WFKEAOTPHTYEO      M   20    26.61.210.47  "
      ]
     },
     "execution_count": 71,
     "metadata": {},
     "output_type": "execute_result"
    }
   ],
   "source": [
    "csv_test_1 = pd.read_csv(\"test_merchant_data.csv\",na_values=['.',':','?','!','@','#','$','%','^','&','*',','])\n",
    "csv_test_1.head()"
   ]
  },
  {
   "cell_type": "code",
   "execution_count": 72,
   "id": "5ac54a70",
   "metadata": {
    "execution": {
     "iopub.execute_input": "2023-02-27T12:16:33.081037Z",
     "iopub.status.busy": "2023-02-27T12:16:33.080368Z",
     "iopub.status.idle": "2023-02-27T12:16:33.125553Z",
     "shell.execute_reply": "2023-02-27T12:16:33.124243Z"
    },
    "papermill": {
     "duration": 0.078831,
     "end_time": "2023-02-27T12:16:33.127667",
     "exception": false,
     "start_time": "2023-02-27T12:16:33.048836",
     "status": "completed"
    },
    "tags": []
   },
   "outputs": [
    {
     "data": {
      "text/html": [
       "<div>\n",
       "<style scoped>\n",
       "    .dataframe tbody tr th:only-of-type {\n",
       "        vertical-align: middle;\n",
       "    }\n",
       "\n",
       "    .dataframe tbody tr th {\n",
       "        vertical-align: top;\n",
       "    }\n",
       "\n",
       "    .dataframe thead th {\n",
       "        text-align: right;\n",
       "    }\n",
       "</style>\n",
       "<table border=\"1\" class=\"dataframe\">\n",
       "  <thead>\n",
       "    <tr style=\"text-align: right;\">\n",
       "      <th></th>\n",
       "      <th>Customer_ID</th>\n",
       "      <th>Order_ID</th>\n",
       "      <th>Date_of_Order</th>\n",
       "      <th>Order_Value_USD</th>\n",
       "      <th>Order_Source</th>\n",
       "      <th>Order_Payment_Method</th>\n",
       "      <th>Merchant_ID</th>\n",
       "    </tr>\n",
       "  </thead>\n",
       "  <tbody>\n",
       "    <tr>\n",
       "      <th>0</th>\n",
       "      <td>157068</td>\n",
       "      <td>a032de091f51</td>\n",
       "      <td>2018-03-09 09:09:42</td>\n",
       "      <td>60</td>\n",
       "      <td>SEO</td>\n",
       "      <td>Credit Card</td>\n",
       "      <td>53637</td>\n",
       "    </tr>\n",
       "    <tr>\n",
       "      <th>1</th>\n",
       "      <td>112534</td>\n",
       "      <td>0d563f0606d6</td>\n",
       "      <td>2018-06-13 20:11:19</td>\n",
       "      <td>28</td>\n",
       "      <td>SEO</td>\n",
       "      <td>Credit Card</td>\n",
       "      <td>243517</td>\n",
       "    </tr>\n",
       "    <tr>\n",
       "      <th>2</th>\n",
       "      <td>148774</td>\n",
       "      <td>18fb0fa888b6</td>\n",
       "      <td>2018-04-14 04:19:36</td>\n",
       "      <td>75</td>\n",
       "      <td>Ads</td>\n",
       "      <td>Debit Card</td>\n",
       "      <td>343640</td>\n",
       "    </tr>\n",
       "    <tr>\n",
       "      <th>3</th>\n",
       "      <td>114528</td>\n",
       "      <td>ed1eb920d721</td>\n",
       "      <td>2018-04-01 13:55:44</td>\n",
       "      <td>98</td>\n",
       "      <td>SEO</td>\n",
       "      <td>Credit Card</td>\n",
       "      <td>69889</td>\n",
       "    </tr>\n",
       "    <tr>\n",
       "      <th>4</th>\n",
       "      <td>120940</td>\n",
       "      <td>313dcf962627</td>\n",
       "      <td>2018-05-25 02:08:18</td>\n",
       "      <td>35</td>\n",
       "      <td>SEO</td>\n",
       "      <td>Credit Card</td>\n",
       "      <td>125706</td>\n",
       "    </tr>\n",
       "  </tbody>\n",
       "</table>\n",
       "</div>"
      ],
      "text/plain": [
       "   Customer_ID      Order_ID        Date_of_Order  Order_Value_USD  \\\n",
       "0       157068  a032de091f51  2018-03-09 09:09:42               60   \n",
       "1       112534  0d563f0606d6  2018-06-13 20:11:19               28   \n",
       "2       148774  18fb0fa888b6  2018-04-14 04:19:36               75   \n",
       "3       114528  ed1eb920d721  2018-04-01 13:55:44               98   \n",
       "4       120940  313dcf962627  2018-05-25 02:08:18               35   \n",
       "\n",
       "  Order_Source Order_Payment_Method  Merchant_ID  \n",
       "0          SEO          Credit Card        53637  \n",
       "1          SEO          Credit Card       243517  \n",
       "2          Ads           Debit Card       343640  \n",
       "3          SEO          Credit Card        69889  \n",
       "4          SEO          Credit Card       125706  "
      ]
     },
     "execution_count": 72,
     "metadata": {},
     "output_type": "execute_result"
    }
   ],
   "source": [
    "csv_test_2 = pd.read_csv(\"test_order_data.csv\",na_values=['.',':','?','!','@','#','$','%','^','&','*',','])\n",
    "csv_test_2.head()"
   ]
  },
  {
   "cell_type": "code",
   "execution_count": 73,
   "id": "777da341",
   "metadata": {
    "execution": {
     "iopub.execute_input": "2023-02-27T12:16:33.190927Z",
     "iopub.status.busy": "2023-02-27T12:16:33.190239Z",
     "iopub.status.idle": "2023-02-27T12:16:33.211907Z",
     "shell.execute_reply": "2023-02-27T12:16:33.211181Z"
    },
    "papermill": {
     "duration": 0.056185,
     "end_time": "2023-02-27T12:16:33.214074",
     "exception": false,
     "start_time": "2023-02-27T12:16:33.157889",
     "status": "completed"
    },
    "tags": []
   },
   "outputs": [
    {
     "data": {
      "text/html": [
       "<div>\n",
       "<style scoped>\n",
       "    .dataframe tbody tr th:only-of-type {\n",
       "        vertical-align: middle;\n",
       "    }\n",
       "\n",
       "    .dataframe tbody tr th {\n",
       "        vertical-align: top;\n",
       "    }\n",
       "\n",
       "    .dataframe thead th {\n",
       "        text-align: right;\n",
       "    }\n",
       "</style>\n",
       "<table border=\"1\" class=\"dataframe\">\n",
       "  <thead>\n",
       "    <tr style=\"text-align: right;\">\n",
       "      <th></th>\n",
       "      <th>Merchant_ID</th>\n",
       "    </tr>\n",
       "  </thead>\n",
       "  <tbody>\n",
       "    <tr>\n",
       "      <th>0</th>\n",
       "      <td>53637</td>\n",
       "    </tr>\n",
       "    <tr>\n",
       "      <th>1</th>\n",
       "      <td>243517</td>\n",
       "    </tr>\n",
       "    <tr>\n",
       "      <th>2</th>\n",
       "      <td>343640</td>\n",
       "    </tr>\n",
       "    <tr>\n",
       "      <th>3</th>\n",
       "      <td>69889</td>\n",
       "    </tr>\n",
       "    <tr>\n",
       "      <th>4</th>\n",
       "      <td>125706</td>\n",
       "    </tr>\n",
       "  </tbody>\n",
       "</table>\n",
       "</div>"
      ],
      "text/plain": [
       "   Merchant_ID\n",
       "0        53637\n",
       "1       243517\n",
       "2       343640\n",
       "3        69889\n",
       "4       125706"
      ]
     },
     "execution_count": 73,
     "metadata": {},
     "output_type": "execute_result"
    }
   ],
   "source": [
    "csv_test_3 = pd.read_csv(\"test.csv\",na_values=['.',':','?','!','@','#','$','%','^','&','*',','])\n",
    "csv_test_3.head()"
   ]
  },
  {
   "cell_type": "code",
   "execution_count": 74,
   "id": "97057906",
   "metadata": {
    "execution": {
     "iopub.execute_input": "2023-02-27T12:16:33.289899Z",
     "iopub.status.busy": "2023-02-27T12:16:33.289124Z",
     "iopub.status.idle": "2023-02-27T12:16:33.316496Z",
     "shell.execute_reply": "2023-02-27T12:16:33.314931Z"
    },
    "papermill": {
     "duration": 0.069041,
     "end_time": "2023-02-27T12:16:33.319421",
     "exception": false,
     "start_time": "2023-02-27T12:16:33.250380",
     "status": "completed"
    },
    "tags": []
   },
   "outputs": [
    {
     "data": {
      "text/html": [
       "<div>\n",
       "<style scoped>\n",
       "    .dataframe tbody tr th:only-of-type {\n",
       "        vertical-align: middle;\n",
       "    }\n",
       "\n",
       "    .dataframe tbody tr th {\n",
       "        vertical-align: top;\n",
       "    }\n",
       "\n",
       "    .dataframe thead th {\n",
       "        text-align: right;\n",
       "    }\n",
       "</style>\n",
       "<table border=\"1\" class=\"dataframe\">\n",
       "  <thead>\n",
       "    <tr style=\"text-align: right;\">\n",
       "      <th></th>\n",
       "      <th>Ecommerce_Provider_ID</th>\n",
       "      <th>Merchant_ID</th>\n",
       "      <th>Merchant_Registration_Date</th>\n",
       "      <th>Registered_Device_ID</th>\n",
       "      <th>Gender</th>\n",
       "      <th>Age</th>\n",
       "      <th>IP_Address</th>\n",
       "      <th>Customer_ID</th>\n",
       "      <th>Order_ID</th>\n",
       "      <th>Date_of_Order</th>\n",
       "      <th>Order_Value_USD</th>\n",
       "      <th>Order_Source</th>\n",
       "      <th>Order_Payment_Method</th>\n",
       "    </tr>\n",
       "  </thead>\n",
       "  <tbody>\n",
       "    <tr>\n",
       "      <th>0</th>\n",
       "      <td>1746213</td>\n",
       "      <td>53637</td>\n",
       "      <td>2018-02-11 20:50:29</td>\n",
       "      <td>PTMLBENYMQCTV</td>\n",
       "      <td>F</td>\n",
       "      <td>40</td>\n",
       "      <td>134.162.124.62</td>\n",
       "      <td>157068</td>\n",
       "      <td>a032de091f51</td>\n",
       "      <td>2018-03-09 09:09:42</td>\n",
       "      <td>60</td>\n",
       "      <td>SEO</td>\n",
       "      <td>Credit Card</td>\n",
       "    </tr>\n",
       "    <tr>\n",
       "      <th>1</th>\n",
       "      <td>1746213</td>\n",
       "      <td>243517</td>\n",
       "      <td>2018-04-06 13:19:39</td>\n",
       "      <td>HMCLDZUZPWZRR</td>\n",
       "      <td>M</td>\n",
       "      <td>39</td>\n",
       "      <td>152.76.98.87</td>\n",
       "      <td>112534</td>\n",
       "      <td>0d563f0606d6</td>\n",
       "      <td>2018-06-13 20:11:19</td>\n",
       "      <td>28</td>\n",
       "      <td>SEO</td>\n",
       "      <td>Credit Card</td>\n",
       "    </tr>\n",
       "    <tr>\n",
       "      <th>2</th>\n",
       "      <td>1746213</td>\n",
       "      <td>343640</td>\n",
       "      <td>2018-01-12 16:47:49</td>\n",
       "      <td>VLGSMAPXISSEJ</td>\n",
       "      <td>M</td>\n",
       "      <td>23</td>\n",
       "      <td>31.202.3.255</td>\n",
       "      <td>148774</td>\n",
       "      <td>18fb0fa888b6</td>\n",
       "      <td>2018-04-14 04:19:36</td>\n",
       "      <td>75</td>\n",
       "      <td>Ads</td>\n",
       "      <td>Debit Card</td>\n",
       "    </tr>\n",
       "    <tr>\n",
       "      <th>3</th>\n",
       "      <td>1746213</td>\n",
       "      <td>69889</td>\n",
       "      <td>2018-02-19 21:58:52</td>\n",
       "      <td>ZINHISBBOKQXT</td>\n",
       "      <td>M</td>\n",
       "      <td>34</td>\n",
       "      <td>12.242.168.185</td>\n",
       "      <td>114528</td>\n",
       "      <td>ed1eb920d721</td>\n",
       "      <td>2018-04-01 13:55:44</td>\n",
       "      <td>98</td>\n",
       "      <td>SEO</td>\n",
       "      <td>Credit Card</td>\n",
       "    </tr>\n",
       "    <tr>\n",
       "      <th>4</th>\n",
       "      <td>1746213</td>\n",
       "      <td>125706</td>\n",
       "      <td>2018-05-17 15:50:19</td>\n",
       "      <td>WFKEAOTPHTYEO</td>\n",
       "      <td>M</td>\n",
       "      <td>20</td>\n",
       "      <td>26.61.210.47</td>\n",
       "      <td>120940</td>\n",
       "      <td>313dcf962627</td>\n",
       "      <td>2018-05-25 02:08:18</td>\n",
       "      <td>35</td>\n",
       "      <td>SEO</td>\n",
       "      <td>Credit Card</td>\n",
       "    </tr>\n",
       "  </tbody>\n",
       "</table>\n",
       "</div>"
      ],
      "text/plain": [
       "   Ecommerce_Provider_ID  Merchant_ID Merchant_Registration_Date  \\\n",
       "0                1746213        53637        2018-02-11 20:50:29   \n",
       "1                1746213       243517        2018-04-06 13:19:39   \n",
       "2                1746213       343640        2018-01-12 16:47:49   \n",
       "3                1746213        69889        2018-02-19 21:58:52   \n",
       "4                1746213       125706        2018-05-17 15:50:19   \n",
       "\n",
       "  Registered_Device_ID Gender  Age      IP_Address  Customer_ID      Order_ID  \\\n",
       "0        PTMLBENYMQCTV      F   40  134.162.124.62       157068  a032de091f51   \n",
       "1        HMCLDZUZPWZRR      M   39    152.76.98.87       112534  0d563f0606d6   \n",
       "2        VLGSMAPXISSEJ      M   23    31.202.3.255       148774  18fb0fa888b6   \n",
       "3        ZINHISBBOKQXT      M   34  12.242.168.185       114528  ed1eb920d721   \n",
       "4        WFKEAOTPHTYEO      M   20    26.61.210.47       120940  313dcf962627   \n",
       "\n",
       "         Date_of_Order  Order_Value_USD Order_Source Order_Payment_Method  \n",
       "0  2018-03-09 09:09:42               60          SEO          Credit Card  \n",
       "1  2018-06-13 20:11:19               28          SEO          Credit Card  \n",
       "2  2018-04-14 04:19:36               75          Ads           Debit Card  \n",
       "3  2018-04-01 13:55:44               98          SEO          Credit Card  \n",
       "4  2018-05-25 02:08:18               35          SEO          Credit Card  "
      ]
     },
     "execution_count": 74,
     "metadata": {},
     "output_type": "execute_result"
    }
   ],
   "source": [
    "merged_test_data_1 = csv_test_1.merge(csv_test_2,on=[\"Merchant_ID\"])\n",
    "merged_test_data_1.head()"
   ]
  },
  {
   "cell_type": "code",
   "execution_count": 75,
   "id": "8b52f673",
   "metadata": {
    "execution": {
     "iopub.execute_input": "2023-02-27T12:16:33.383881Z",
     "iopub.status.busy": "2023-02-27T12:16:33.383487Z",
     "iopub.status.idle": "2023-02-27T12:16:33.405291Z",
     "shell.execute_reply": "2023-02-27T12:16:33.404291Z"
    },
    "papermill": {
     "duration": 0.05754,
     "end_time": "2023-02-27T12:16:33.407694",
     "exception": false,
     "start_time": "2023-02-27T12:16:33.350154",
     "status": "completed"
    },
    "tags": []
   },
   "outputs": [
    {
     "data": {
      "text/html": [
       "<div>\n",
       "<style scoped>\n",
       "    .dataframe tbody tr th:only-of-type {\n",
       "        vertical-align: middle;\n",
       "    }\n",
       "\n",
       "    .dataframe tbody tr th {\n",
       "        vertical-align: top;\n",
       "    }\n",
       "\n",
       "    .dataframe thead th {\n",
       "        text-align: right;\n",
       "    }\n",
       "</style>\n",
       "<table border=\"1\" class=\"dataframe\">\n",
       "  <thead>\n",
       "    <tr style=\"text-align: right;\">\n",
       "      <th></th>\n",
       "      <th>Ecommerce_Provider_ID</th>\n",
       "      <th>Merchant_ID</th>\n",
       "      <th>Merchant_Registration_Date</th>\n",
       "      <th>Registered_Device_ID</th>\n",
       "      <th>Gender</th>\n",
       "      <th>Age</th>\n",
       "      <th>IP_Address</th>\n",
       "      <th>Customer_ID</th>\n",
       "      <th>Order_ID</th>\n",
       "      <th>Date_of_Order</th>\n",
       "      <th>Order_Value_USD</th>\n",
       "      <th>Order_Source</th>\n",
       "      <th>Order_Payment_Method</th>\n",
       "    </tr>\n",
       "  </thead>\n",
       "  <tbody>\n",
       "    <tr>\n",
       "      <th>0</th>\n",
       "      <td>1746213</td>\n",
       "      <td>53637</td>\n",
       "      <td>2018-02-11 20:50:29</td>\n",
       "      <td>PTMLBENYMQCTV</td>\n",
       "      <td>F</td>\n",
       "      <td>40</td>\n",
       "      <td>134.162.124.62</td>\n",
       "      <td>157068</td>\n",
       "      <td>a032de091f51</td>\n",
       "      <td>2018-03-09 09:09:42</td>\n",
       "      <td>60</td>\n",
       "      <td>SEO</td>\n",
       "      <td>Credit Card</td>\n",
       "    </tr>\n",
       "    <tr>\n",
       "      <th>1</th>\n",
       "      <td>1746213</td>\n",
       "      <td>243517</td>\n",
       "      <td>2018-04-06 13:19:39</td>\n",
       "      <td>HMCLDZUZPWZRR</td>\n",
       "      <td>M</td>\n",
       "      <td>39</td>\n",
       "      <td>152.76.98.87</td>\n",
       "      <td>112534</td>\n",
       "      <td>0d563f0606d6</td>\n",
       "      <td>2018-06-13 20:11:19</td>\n",
       "      <td>28</td>\n",
       "      <td>SEO</td>\n",
       "      <td>Credit Card</td>\n",
       "    </tr>\n",
       "    <tr>\n",
       "      <th>2</th>\n",
       "      <td>1746213</td>\n",
       "      <td>343640</td>\n",
       "      <td>2018-01-12 16:47:49</td>\n",
       "      <td>VLGSMAPXISSEJ</td>\n",
       "      <td>M</td>\n",
       "      <td>23</td>\n",
       "      <td>31.202.3.255</td>\n",
       "      <td>148774</td>\n",
       "      <td>18fb0fa888b6</td>\n",
       "      <td>2018-04-14 04:19:36</td>\n",
       "      <td>75</td>\n",
       "      <td>Ads</td>\n",
       "      <td>Debit Card</td>\n",
       "    </tr>\n",
       "    <tr>\n",
       "      <th>3</th>\n",
       "      <td>1746213</td>\n",
       "      <td>69889</td>\n",
       "      <td>2018-02-19 21:58:52</td>\n",
       "      <td>ZINHISBBOKQXT</td>\n",
       "      <td>M</td>\n",
       "      <td>34</td>\n",
       "      <td>12.242.168.185</td>\n",
       "      <td>114528</td>\n",
       "      <td>ed1eb920d721</td>\n",
       "      <td>2018-04-01 13:55:44</td>\n",
       "      <td>98</td>\n",
       "      <td>SEO</td>\n",
       "      <td>Credit Card</td>\n",
       "    </tr>\n",
       "    <tr>\n",
       "      <th>4</th>\n",
       "      <td>1746213</td>\n",
       "      <td>125706</td>\n",
       "      <td>2018-05-17 15:50:19</td>\n",
       "      <td>WFKEAOTPHTYEO</td>\n",
       "      <td>M</td>\n",
       "      <td>20</td>\n",
       "      <td>26.61.210.47</td>\n",
       "      <td>120940</td>\n",
       "      <td>313dcf962627</td>\n",
       "      <td>2018-05-25 02:08:18</td>\n",
       "      <td>35</td>\n",
       "      <td>SEO</td>\n",
       "      <td>Credit Card</td>\n",
       "    </tr>\n",
       "  </tbody>\n",
       "</table>\n",
       "</div>"
      ],
      "text/plain": [
       "   Ecommerce_Provider_ID  Merchant_ID Merchant_Registration_Date  \\\n",
       "0                1746213        53637        2018-02-11 20:50:29   \n",
       "1                1746213       243517        2018-04-06 13:19:39   \n",
       "2                1746213       343640        2018-01-12 16:47:49   \n",
       "3                1746213        69889        2018-02-19 21:58:52   \n",
       "4                1746213       125706        2018-05-17 15:50:19   \n",
       "\n",
       "  Registered_Device_ID Gender  Age      IP_Address  Customer_ID      Order_ID  \\\n",
       "0        PTMLBENYMQCTV      F   40  134.162.124.62       157068  a032de091f51   \n",
       "1        HMCLDZUZPWZRR      M   39    152.76.98.87       112534  0d563f0606d6   \n",
       "2        VLGSMAPXISSEJ      M   23    31.202.3.255       148774  18fb0fa888b6   \n",
       "3        ZINHISBBOKQXT      M   34  12.242.168.185       114528  ed1eb920d721   \n",
       "4        WFKEAOTPHTYEO      M   20    26.61.210.47       120940  313dcf962627   \n",
       "\n",
       "         Date_of_Order  Order_Value_USD Order_Source Order_Payment_Method  \n",
       "0  2018-03-09 09:09:42               60          SEO          Credit Card  \n",
       "1  2018-06-13 20:11:19               28          SEO          Credit Card  \n",
       "2  2018-04-14 04:19:36               75          Ads           Debit Card  \n",
       "3  2018-04-01 13:55:44               98          SEO          Credit Card  \n",
       "4  2018-05-25 02:08:18               35          SEO          Credit Card  "
      ]
     },
     "execution_count": 75,
     "metadata": {},
     "output_type": "execute_result"
    }
   ],
   "source": [
    "merged_test_data_2 =merged_test_data_1.merge(csv_test_3,on=[\"Merchant_ID\"])\n",
    "merged_test_data_2.head()"
   ]
  },
  {
   "cell_type": "markdown",
   "id": "3c656d42",
   "metadata": {
    "papermill": {
     "duration": 0.03124,
     "end_time": "2023-02-27T12:16:33.469852",
     "exception": false,
     "start_time": "2023-02-27T12:16:33.438612",
     "status": "completed"
    },
    "tags": []
   },
   "source": [
    "## EDA on Test data"
   ]
  },
  {
   "cell_type": "code",
   "execution_count": 76,
   "id": "6dcd602f",
   "metadata": {
    "execution": {
     "iopub.execute_input": "2023-02-27T12:16:33.534261Z",
     "iopub.status.busy": "2023-02-27T12:16:33.533924Z",
     "iopub.status.idle": "2023-02-27T12:16:33.539472Z",
     "shell.execute_reply": "2023-02-27T12:16:33.538151Z"
    },
    "papermill": {
     "duration": 0.03996,
     "end_time": "2023-02-27T12:16:33.542111",
     "exception": false,
     "start_time": "2023-02-27T12:16:33.502151",
     "status": "completed"
    },
    "tags": []
   },
   "outputs": [
    {
     "name": "stdout",
     "output_type": "stream",
     "text": [
      "(13554, 13)\n",
      "(13554, 13)\n"
     ]
    }
   ],
   "source": [
    "print(merged_test_data_1.shape)\n",
    "print(merged_test_data_2.shape)"
   ]
  },
  {
   "cell_type": "code",
   "execution_count": 77,
   "id": "42aeb915",
   "metadata": {
    "execution": {
     "iopub.execute_input": "2023-02-27T12:16:33.605582Z",
     "iopub.status.busy": "2023-02-27T12:16:33.605010Z",
     "iopub.status.idle": "2023-02-27T12:16:33.621875Z",
     "shell.execute_reply": "2023-02-27T12:16:33.620369Z"
    },
    "papermill": {
     "duration": 0.051428,
     "end_time": "2023-02-27T12:16:33.624372",
     "exception": false,
     "start_time": "2023-02-27T12:16:33.572944",
     "status": "completed"
    },
    "tags": []
   },
   "outputs": [
    {
     "name": "stdout",
     "output_type": "stream",
     "text": [
      "<class 'pandas.core.frame.DataFrame'>\n",
      "Int64Index: 13554 entries, 0 to 13553\n",
      "Data columns (total 13 columns):\n",
      " #   Column                      Non-Null Count  Dtype \n",
      "---  ------                      --------------  ----- \n",
      " 0   Ecommerce_Provider_ID       13554 non-null  int64 \n",
      " 1   Merchant_ID                 13554 non-null  int64 \n",
      " 2   Merchant_Registration_Date  13554 non-null  object\n",
      " 3   Registered_Device_ID        13554 non-null  object\n",
      " 4   Gender                      13554 non-null  object\n",
      " 5   Age                         13554 non-null  int64 \n",
      " 6   IP_Address                  13554 non-null  object\n",
      " 7   Customer_ID                 13554 non-null  int64 \n",
      " 8   Order_ID                    13554 non-null  object\n",
      " 9   Date_of_Order               13554 non-null  object\n",
      " 10  Order_Value_USD             13554 non-null  int64 \n",
      " 11  Order_Source                13554 non-null  object\n",
      " 12  Order_Payment_Method        13554 non-null  object\n",
      "dtypes: int64(5), object(8)\n",
      "memory usage: 1.4+ MB\n"
     ]
    }
   ],
   "source": [
    "merged_test_data_2.info()"
   ]
  },
  {
   "cell_type": "code",
   "execution_count": 78,
   "id": "ce11fa30",
   "metadata": {
    "execution": {
     "iopub.execute_input": "2023-02-27T12:16:33.687123Z",
     "iopub.status.busy": "2023-02-27T12:16:33.686731Z",
     "iopub.status.idle": "2023-02-27T12:16:33.713240Z",
     "shell.execute_reply": "2023-02-27T12:16:33.711930Z"
    },
    "papermill": {
     "duration": 0.060579,
     "end_time": "2023-02-27T12:16:33.715499",
     "exception": false,
     "start_time": "2023-02-27T12:16:33.654920",
     "status": "completed"
    },
    "tags": []
   },
   "outputs": [
    {
     "data": {
      "text/plain": [
       "Ecommerce_Provider_ID             1\n",
       "Merchant_ID                   13554\n",
       "Merchant_Registration_Date    13554\n",
       "Registered_Device_ID          13213\n",
       "Gender                            2\n",
       "Age                              51\n",
       "IP_Address                    13251\n",
       "Customer_ID                   11975\n",
       "Order_ID                      13554\n",
       "Date_of_Order                 13548\n",
       "Order_Value_USD                 105\n",
       "Order_Source                      3\n",
       "Order_Payment_Method              5\n",
       "dtype: int64"
      ]
     },
     "execution_count": 78,
     "metadata": {},
     "output_type": "execute_result"
    }
   ],
   "source": [
    "merged_test_data_2.nunique()"
   ]
  },
  {
   "cell_type": "code",
   "execution_count": 79,
   "id": "566b0704",
   "metadata": {
    "execution": {
     "iopub.execute_input": "2023-02-27T12:16:33.778074Z",
     "iopub.status.busy": "2023-02-27T12:16:33.776994Z",
     "iopub.status.idle": "2023-02-27T12:16:33.783303Z",
     "shell.execute_reply": "2023-02-27T12:16:33.782316Z"
    },
    "papermill": {
     "duration": 0.039741,
     "end_time": "2023-02-27T12:16:33.785340",
     "exception": false,
     "start_time": "2023-02-27T12:16:33.745599",
     "status": "completed"
    },
    "tags": []
   },
   "outputs": [
    {
     "data": {
      "text/plain": [
       "Index(['Ecommerce_Provider_ID', 'Merchant_ID', 'Merchant_Registration_Date',\n",
       "       'Registered_Device_ID', 'Gender', 'Age', 'IP_Address', 'Customer_ID',\n",
       "       'Order_ID', 'Date_of_Order', 'Order_Value_USD', 'Order_Source',\n",
       "       'Order_Payment_Method'],\n",
       "      dtype='object')"
      ]
     },
     "execution_count": 79,
     "metadata": {},
     "output_type": "execute_result"
    }
   ],
   "source": [
    "merged_test_data_2.columns"
   ]
  },
  {
   "cell_type": "code",
   "execution_count": 80,
   "id": "5e4872ce",
   "metadata": {
    "execution": {
     "iopub.execute_input": "2023-02-27T12:16:33.905817Z",
     "iopub.status.busy": "2023-02-27T12:16:33.904605Z",
     "iopub.status.idle": "2023-02-27T12:16:33.917727Z",
     "shell.execute_reply": "2023-02-27T12:16:33.916808Z"
    },
    "papermill": {
     "duration": 0.102835,
     "end_time": "2023-02-27T12:16:33.919591",
     "exception": false,
     "start_time": "2023-02-27T12:16:33.816756",
     "status": "completed"
    },
    "tags": []
   },
   "outputs": [
    {
     "data": {
      "text/html": [
       "<div>\n",
       "<style scoped>\n",
       "    .dataframe tbody tr th:only-of-type {\n",
       "        vertical-align: middle;\n",
       "    }\n",
       "\n",
       "    .dataframe tbody tr th {\n",
       "        vertical-align: top;\n",
       "    }\n",
       "\n",
       "    .dataframe thead th {\n",
       "        text-align: right;\n",
       "    }\n",
       "</style>\n",
       "<table border=\"1\" class=\"dataframe\">\n",
       "  <thead>\n",
       "    <tr style=\"text-align: right;\">\n",
       "      <th></th>\n",
       "      <th>Merchant_ID</th>\n",
       "    </tr>\n",
       "  </thead>\n",
       "  <tbody>\n",
       "    <tr>\n",
       "      <th>0</th>\n",
       "      <td>53637</td>\n",
       "    </tr>\n",
       "    <tr>\n",
       "      <th>1</th>\n",
       "      <td>243517</td>\n",
       "    </tr>\n",
       "    <tr>\n",
       "      <th>2</th>\n",
       "      <td>343640</td>\n",
       "    </tr>\n",
       "    <tr>\n",
       "      <th>3</th>\n",
       "      <td>69889</td>\n",
       "    </tr>\n",
       "    <tr>\n",
       "      <th>4</th>\n",
       "      <td>125706</td>\n",
       "    </tr>\n",
       "    <tr>\n",
       "      <th>...</th>\n",
       "      <td>...</td>\n",
       "    </tr>\n",
       "    <tr>\n",
       "      <th>13549</th>\n",
       "      <td>279884</td>\n",
       "    </tr>\n",
       "    <tr>\n",
       "      <th>13550</th>\n",
       "      <td>206253</td>\n",
       "    </tr>\n",
       "    <tr>\n",
       "      <th>13551</th>\n",
       "      <td>313049</td>\n",
       "    </tr>\n",
       "    <tr>\n",
       "      <th>13552</th>\n",
       "      <td>304081</td>\n",
       "    </tr>\n",
       "    <tr>\n",
       "      <th>13553</th>\n",
       "      <td>319050</td>\n",
       "    </tr>\n",
       "  </tbody>\n",
       "</table>\n",
       "<p>13554 rows × 1 columns</p>\n",
       "</div>"
      ],
      "text/plain": [
       "       Merchant_ID\n",
       "0            53637\n",
       "1           243517\n",
       "2           343640\n",
       "3            69889\n",
       "4           125706\n",
       "...            ...\n",
       "13549       279884\n",
       "13550       206253\n",
       "13551       313049\n",
       "13552       304081\n",
       "13553       319050\n",
       "\n",
       "[13554 rows x 1 columns]"
      ]
     },
     "execution_count": 80,
     "metadata": {},
     "output_type": "execute_result"
    }
   ],
   "source": [
    "label = merged_test_data_2.filter([\"Merchant_ID\"], axis=1)\n",
    "label"
   ]
  },
  {
   "cell_type": "code",
   "execution_count": 81,
   "id": "3349bae7",
   "metadata": {
    "execution": {
     "iopub.execute_input": "2023-02-27T12:16:33.984676Z",
     "iopub.status.busy": "2023-02-27T12:16:33.983162Z",
     "iopub.status.idle": "2023-02-27T12:16:33.990828Z",
     "shell.execute_reply": "2023-02-27T12:16:33.989505Z"
    },
    "papermill": {
     "duration": 0.042728,
     "end_time": "2023-02-27T12:16:33.993154",
     "exception": false,
     "start_time": "2023-02-27T12:16:33.950426",
     "status": "completed"
    },
    "tags": []
   },
   "outputs": [],
   "source": [
    "Ecommerce_fraud_test = merged_test_data_2.drop([\"Merchant_ID\",\"Customer_ID\",\"Ecommerce_Provider_ID\",\"Merchant_Registration_Date\",\"Registered_Device_ID\",\"Date_of_Order\",\"Order_ID\",\"IP_Address\"], axis=1)"
   ]
  },
  {
   "cell_type": "code",
   "execution_count": 82,
   "id": "5e63aebd",
   "metadata": {
    "execution": {
     "iopub.execute_input": "2023-02-27T12:16:34.067433Z",
     "iopub.status.busy": "2023-02-27T12:16:34.066977Z",
     "iopub.status.idle": "2023-02-27T12:16:34.079311Z",
     "shell.execute_reply": "2023-02-27T12:16:34.078016Z"
    },
    "papermill": {
     "duration": 0.049699,
     "end_time": "2023-02-27T12:16:34.081596",
     "exception": false,
     "start_time": "2023-02-27T12:16:34.031897",
     "status": "completed"
    },
    "tags": []
   },
   "outputs": [
    {
     "data": {
      "text/plain": [
       "Gender                  0\n",
       "Age                     0\n",
       "Order_Value_USD         0\n",
       "Order_Source            0\n",
       "Order_Payment_Method    0\n",
       "dtype: int64"
      ]
     },
     "execution_count": 82,
     "metadata": {},
     "output_type": "execute_result"
    }
   ],
   "source": [
    "Ecommerce_fraud_test.isnull().sum()"
   ]
  },
  {
   "cell_type": "code",
   "execution_count": 83,
   "id": "51ea9647",
   "metadata": {
    "execution": {
     "iopub.execute_input": "2023-02-27T12:16:34.151662Z",
     "iopub.status.busy": "2023-02-27T12:16:34.151233Z",
     "iopub.status.idle": "2023-02-27T12:16:34.166266Z",
     "shell.execute_reply": "2023-02-27T12:16:34.164951Z"
    },
    "papermill": {
     "duration": 0.054,
     "end_time": "2023-02-27T12:16:34.168538",
     "exception": false,
     "start_time": "2023-02-27T12:16:34.114538",
     "status": "completed"
    },
    "tags": []
   },
   "outputs": [
    {
     "name": "stdout",
     "output_type": "stream",
     "text": [
      "<class 'pandas.core.frame.DataFrame'>\n",
      "Int64Index: 13554 entries, 0 to 13553\n",
      "Data columns (total 5 columns):\n",
      " #   Column                Non-Null Count  Dtype \n",
      "---  ------                --------------  ----- \n",
      " 0   Gender                13554 non-null  object\n",
      " 1   Age                   13554 non-null  int64 \n",
      " 2   Order_Value_USD       13554 non-null  int64 \n",
      " 3   Order_Source          13554 non-null  object\n",
      " 4   Order_Payment_Method  13554 non-null  object\n",
      "dtypes: int64(2), object(3)\n",
      "memory usage: 635.3+ KB\n"
     ]
    }
   ],
   "source": [
    "Ecommerce_fraud_test.info()"
   ]
  },
  {
   "cell_type": "markdown",
   "id": "93d23ae8",
   "metadata": {
    "papermill": {
     "duration": 0.032815,
     "end_time": "2023-02-27T12:16:34.235208",
     "exception": false,
     "start_time": "2023-02-27T12:16:34.202393",
     "status": "completed"
    },
    "tags": []
   },
   "source": [
    "## Standardization of test data"
   ]
  },
  {
   "cell_type": "code",
   "execution_count": 84,
   "id": "a8d06bc6",
   "metadata": {
    "execution": {
     "iopub.execute_input": "2023-02-27T12:16:34.305649Z",
     "iopub.status.busy": "2023-02-27T12:16:34.305168Z",
     "iopub.status.idle": "2023-02-27T12:16:34.318874Z",
     "shell.execute_reply": "2023-02-27T12:16:34.318165Z"
    },
    "papermill": {
     "duration": 0.05283,
     "end_time": "2023-02-27T12:16:34.320849",
     "exception": false,
     "start_time": "2023-02-27T12:16:34.268019",
     "status": "completed"
    },
    "tags": []
   },
   "outputs": [
    {
     "data": {
      "text/html": [
       "<div>\n",
       "<style scoped>\n",
       "    .dataframe tbody tr th:only-of-type {\n",
       "        vertical-align: middle;\n",
       "    }\n",
       "\n",
       "    .dataframe tbody tr th {\n",
       "        vertical-align: top;\n",
       "    }\n",
       "\n",
       "    .dataframe thead th {\n",
       "        text-align: right;\n",
       "    }\n",
       "</style>\n",
       "<table border=\"1\" class=\"dataframe\">\n",
       "  <thead>\n",
       "    <tr style=\"text-align: right;\">\n",
       "      <th></th>\n",
       "      <th>Age</th>\n",
       "      <th>Order_Value_USD</th>\n",
       "    </tr>\n",
       "  </thead>\n",
       "  <tbody>\n",
       "    <tr>\n",
       "      <th>0</th>\n",
       "      <td>0.793693</td>\n",
       "      <td>-0.704309</td>\n",
       "    </tr>\n",
       "    <tr>\n",
       "      <th>1</th>\n",
       "      <td>0.677717</td>\n",
       "      <td>-1.402687</td>\n",
       "    </tr>\n",
       "    <tr>\n",
       "      <th>2</th>\n",
       "      <td>-1.177896</td>\n",
       "      <td>-0.376945</td>\n",
       "    </tr>\n",
       "    <tr>\n",
       "      <th>3</th>\n",
       "      <td>0.097838</td>\n",
       "      <td>0.125014</td>\n",
       "    </tr>\n",
       "    <tr>\n",
       "      <th>4</th>\n",
       "      <td>-1.525823</td>\n",
       "      <td>-1.249917</td>\n",
       "    </tr>\n",
       "    <tr>\n",
       "      <th>...</th>\n",
       "      <td>...</td>\n",
       "      <td>...</td>\n",
       "    </tr>\n",
       "    <tr>\n",
       "      <th>13549</th>\n",
       "      <td>-1.525823</td>\n",
       "      <td>-0.005932</td>\n",
       "    </tr>\n",
       "    <tr>\n",
       "      <th>13550</th>\n",
       "      <td>-0.366065</td>\n",
       "      <td>0.779744</td>\n",
       "    </tr>\n",
       "    <tr>\n",
       "      <th>13551</th>\n",
       "      <td>1.257596</td>\n",
       "      <td>0.125014</td>\n",
       "    </tr>\n",
       "    <tr>\n",
       "      <th>13552</th>\n",
       "      <td>0.677717</td>\n",
       "      <td>-0.529715</td>\n",
       "    </tr>\n",
       "    <tr>\n",
       "      <th>13553</th>\n",
       "      <td>0.909668</td>\n",
       "      <td>0.168663</td>\n",
       "    </tr>\n",
       "  </tbody>\n",
       "</table>\n",
       "<p>13554 rows × 2 columns</p>\n",
       "</div>"
      ],
      "text/plain": [
       "            Age  Order_Value_USD\n",
       "0      0.793693        -0.704309\n",
       "1      0.677717        -1.402687\n",
       "2     -1.177896        -0.376945\n",
       "3      0.097838         0.125014\n",
       "4     -1.525823        -1.249917\n",
       "...         ...              ...\n",
       "13549 -1.525823        -0.005932\n",
       "13550 -0.366065         0.779744\n",
       "13551  1.257596         0.125014\n",
       "13552  0.677717        -0.529715\n",
       "13553  0.909668         0.168663\n",
       "\n",
       "[13554 rows x 2 columns]"
      ]
     },
     "execution_count": 84,
     "metadata": {},
     "output_type": "execute_result"
    }
   ],
   "source": [
    "test_data_std = pd.DataFrame(scaler.transform(Ecommerce_fraud_test[num_cols]), columns=Ecommerce_fraud_test[num_cols].columns)\n",
    "test_data_std"
   ]
  },
  {
   "cell_type": "markdown",
   "id": "c6c47d6d",
   "metadata": {
    "papermill": {
     "duration": 0.031493,
     "end_time": "2023-02-27T12:16:34.386362",
     "exception": false,
     "start_time": "2023-02-27T12:16:34.354869",
     "status": "completed"
    },
    "tags": []
   },
   "source": [
    "### Dummification of test data"
   ]
  },
  {
   "cell_type": "code",
   "execution_count": 85,
   "id": "6bce947c",
   "metadata": {
    "execution": {
     "iopub.execute_input": "2023-02-27T12:16:34.451174Z",
     "iopub.status.busy": "2023-02-27T12:16:34.450844Z",
     "iopub.status.idle": "2023-02-27T12:16:34.474822Z",
     "shell.execute_reply": "2023-02-27T12:16:34.473509Z"
    },
    "papermill": {
     "duration": 0.059039,
     "end_time": "2023-02-27T12:16:34.477035",
     "exception": false,
     "start_time": "2023-02-27T12:16:34.417996",
     "status": "completed"
    },
    "tags": []
   },
   "outputs": [
    {
     "data": {
      "text/html": [
       "<div>\n",
       "<style scoped>\n",
       "    .dataframe tbody tr th:only-of-type {\n",
       "        vertical-align: middle;\n",
       "    }\n",
       "\n",
       "    .dataframe tbody tr th {\n",
       "        vertical-align: top;\n",
       "    }\n",
       "\n",
       "    .dataframe thead th {\n",
       "        text-align: right;\n",
       "    }\n",
       "</style>\n",
       "<table border=\"1\" class=\"dataframe\">\n",
       "  <thead>\n",
       "    <tr style=\"text-align: right;\">\n",
       "      <th></th>\n",
       "      <th>Gender_M</th>\n",
       "      <th>Order_Source_Direct</th>\n",
       "      <th>Order_Source_SEO</th>\n",
       "      <th>Order_Payment_Method_Credit Card</th>\n",
       "      <th>Order_Payment_Method_Debit Card</th>\n",
       "      <th>Order_Payment_Method_E-wallet</th>\n",
       "      <th>Order_Payment_Method_Internet Banking</th>\n",
       "    </tr>\n",
       "  </thead>\n",
       "  <tbody>\n",
       "    <tr>\n",
       "      <th>0</th>\n",
       "      <td>0</td>\n",
       "      <td>0</td>\n",
       "      <td>1</td>\n",
       "      <td>1</td>\n",
       "      <td>0</td>\n",
       "      <td>0</td>\n",
       "      <td>0</td>\n",
       "    </tr>\n",
       "    <tr>\n",
       "      <th>1</th>\n",
       "      <td>1</td>\n",
       "      <td>0</td>\n",
       "      <td>1</td>\n",
       "      <td>1</td>\n",
       "      <td>0</td>\n",
       "      <td>0</td>\n",
       "      <td>0</td>\n",
       "    </tr>\n",
       "    <tr>\n",
       "      <th>2</th>\n",
       "      <td>1</td>\n",
       "      <td>0</td>\n",
       "      <td>0</td>\n",
       "      <td>0</td>\n",
       "      <td>1</td>\n",
       "      <td>0</td>\n",
       "      <td>0</td>\n",
       "    </tr>\n",
       "    <tr>\n",
       "      <th>3</th>\n",
       "      <td>1</td>\n",
       "      <td>0</td>\n",
       "      <td>1</td>\n",
       "      <td>1</td>\n",
       "      <td>0</td>\n",
       "      <td>0</td>\n",
       "      <td>0</td>\n",
       "    </tr>\n",
       "    <tr>\n",
       "      <th>4</th>\n",
       "      <td>1</td>\n",
       "      <td>0</td>\n",
       "      <td>1</td>\n",
       "      <td>1</td>\n",
       "      <td>0</td>\n",
       "      <td>0</td>\n",
       "      <td>0</td>\n",
       "    </tr>\n",
       "    <tr>\n",
       "      <th>...</th>\n",
       "      <td>...</td>\n",
       "      <td>...</td>\n",
       "      <td>...</td>\n",
       "      <td>...</td>\n",
       "      <td>...</td>\n",
       "      <td>...</td>\n",
       "      <td>...</td>\n",
       "    </tr>\n",
       "    <tr>\n",
       "      <th>13549</th>\n",
       "      <td>1</td>\n",
       "      <td>0</td>\n",
       "      <td>1</td>\n",
       "      <td>1</td>\n",
       "      <td>0</td>\n",
       "      <td>0</td>\n",
       "      <td>0</td>\n",
       "    </tr>\n",
       "    <tr>\n",
       "      <th>13550</th>\n",
       "      <td>0</td>\n",
       "      <td>0</td>\n",
       "      <td>1</td>\n",
       "      <td>0</td>\n",
       "      <td>0</td>\n",
       "      <td>0</td>\n",
       "      <td>1</td>\n",
       "    </tr>\n",
       "    <tr>\n",
       "      <th>13551</th>\n",
       "      <td>0</td>\n",
       "      <td>1</td>\n",
       "      <td>0</td>\n",
       "      <td>0</td>\n",
       "      <td>0</td>\n",
       "      <td>1</td>\n",
       "      <td>0</td>\n",
       "    </tr>\n",
       "    <tr>\n",
       "      <th>13552</th>\n",
       "      <td>0</td>\n",
       "      <td>0</td>\n",
       "      <td>1</td>\n",
       "      <td>0</td>\n",
       "      <td>1</td>\n",
       "      <td>0</td>\n",
       "      <td>0</td>\n",
       "    </tr>\n",
       "    <tr>\n",
       "      <th>13553</th>\n",
       "      <td>1</td>\n",
       "      <td>0</td>\n",
       "      <td>0</td>\n",
       "      <td>0</td>\n",
       "      <td>1</td>\n",
       "      <td>0</td>\n",
       "      <td>0</td>\n",
       "    </tr>\n",
       "  </tbody>\n",
       "</table>\n",
       "<p>13554 rows × 7 columns</p>\n",
       "</div>"
      ],
      "text/plain": [
       "       Gender_M  Order_Source_Direct  Order_Source_SEO  \\\n",
       "0             0                    0                 1   \n",
       "1             1                    0                 1   \n",
       "2             1                    0                 0   \n",
       "3             1                    0                 1   \n",
       "4             1                    0                 1   \n",
       "...         ...                  ...               ...   \n",
       "13549         1                    0                 1   \n",
       "13550         0                    0                 1   \n",
       "13551         0                    1                 0   \n",
       "13552         0                    0                 1   \n",
       "13553         1                    0                 0   \n",
       "\n",
       "       Order_Payment_Method_Credit Card  Order_Payment_Method_Debit Card  \\\n",
       "0                                     1                                0   \n",
       "1                                     1                                0   \n",
       "2                                     0                                1   \n",
       "3                                     1                                0   \n",
       "4                                     1                                0   \n",
       "...                                 ...                              ...   \n",
       "13549                                 1                                0   \n",
       "13550                                 0                                0   \n",
       "13551                                 0                                0   \n",
       "13552                                 0                                1   \n",
       "13553                                 0                                1   \n",
       "\n",
       "       Order_Payment_Method_E-wallet  Order_Payment_Method_Internet Banking  \n",
       "0                                  0                                      0  \n",
       "1                                  0                                      0  \n",
       "2                                  0                                      0  \n",
       "3                                  0                                      0  \n",
       "4                                  0                                      0  \n",
       "...                              ...                                    ...  \n",
       "13549                              0                                      0  \n",
       "13550                              0                                      1  \n",
       "13551                              1                                      0  \n",
       "13552                              0                                      0  \n",
       "13553                              0                                      0  \n",
       "\n",
       "[13554 rows x 7 columns]"
      ]
     },
     "execution_count": 85,
     "metadata": {},
     "output_type": "execute_result"
    }
   ],
   "source": [
    "test_data_dum = pd.get_dummies((Ecommerce_fraud_test[cat_cols]), drop_first=True)\n",
    "test_data_dum"
   ]
  },
  {
   "cell_type": "code",
   "execution_count": 86,
   "id": "873b5125",
   "metadata": {
    "execution": {
     "iopub.execute_input": "2023-02-27T12:16:34.543389Z",
     "iopub.status.busy": "2023-02-27T12:16:34.543038Z",
     "iopub.status.idle": "2023-02-27T12:16:34.556911Z",
     "shell.execute_reply": "2023-02-27T12:16:34.556068Z"
    },
    "papermill": {
     "duration": 0.049259,
     "end_time": "2023-02-27T12:16:34.558701",
     "exception": false,
     "start_time": "2023-02-27T12:16:34.509442",
     "status": "completed"
    },
    "tags": []
   },
   "outputs": [
    {
     "data": {
      "text/html": [
       "<div>\n",
       "<style scoped>\n",
       "    .dataframe tbody tr th:only-of-type {\n",
       "        vertical-align: middle;\n",
       "    }\n",
       "\n",
       "    .dataframe tbody tr th {\n",
       "        vertical-align: top;\n",
       "    }\n",
       "\n",
       "    .dataframe thead th {\n",
       "        text-align: right;\n",
       "    }\n",
       "</style>\n",
       "<table border=\"1\" class=\"dataframe\">\n",
       "  <thead>\n",
       "    <tr style=\"text-align: right;\">\n",
       "      <th></th>\n",
       "      <th>index</th>\n",
       "      <th>Age</th>\n",
       "      <th>Order_Value_USD</th>\n",
       "    </tr>\n",
       "  </thead>\n",
       "  <tbody>\n",
       "    <tr>\n",
       "      <th>0</th>\n",
       "      <td>0</td>\n",
       "      <td>0.793693</td>\n",
       "      <td>-0.704309</td>\n",
       "    </tr>\n",
       "    <tr>\n",
       "      <th>1</th>\n",
       "      <td>1</td>\n",
       "      <td>0.677717</td>\n",
       "      <td>-1.402687</td>\n",
       "    </tr>\n",
       "    <tr>\n",
       "      <th>2</th>\n",
       "      <td>2</td>\n",
       "      <td>-1.177896</td>\n",
       "      <td>-0.376945</td>\n",
       "    </tr>\n",
       "    <tr>\n",
       "      <th>3</th>\n",
       "      <td>3</td>\n",
       "      <td>0.097838</td>\n",
       "      <td>0.125014</td>\n",
       "    </tr>\n",
       "    <tr>\n",
       "      <th>4</th>\n",
       "      <td>4</td>\n",
       "      <td>-1.525823</td>\n",
       "      <td>-1.249917</td>\n",
       "    </tr>\n",
       "    <tr>\n",
       "      <th>...</th>\n",
       "      <td>...</td>\n",
       "      <td>...</td>\n",
       "      <td>...</td>\n",
       "    </tr>\n",
       "    <tr>\n",
       "      <th>13549</th>\n",
       "      <td>13549</td>\n",
       "      <td>-1.525823</td>\n",
       "      <td>-0.005932</td>\n",
       "    </tr>\n",
       "    <tr>\n",
       "      <th>13550</th>\n",
       "      <td>13550</td>\n",
       "      <td>-0.366065</td>\n",
       "      <td>0.779744</td>\n",
       "    </tr>\n",
       "    <tr>\n",
       "      <th>13551</th>\n",
       "      <td>13551</td>\n",
       "      <td>1.257596</td>\n",
       "      <td>0.125014</td>\n",
       "    </tr>\n",
       "    <tr>\n",
       "      <th>13552</th>\n",
       "      <td>13552</td>\n",
       "      <td>0.677717</td>\n",
       "      <td>-0.529715</td>\n",
       "    </tr>\n",
       "    <tr>\n",
       "      <th>13553</th>\n",
       "      <td>13553</td>\n",
       "      <td>0.909668</td>\n",
       "      <td>0.168663</td>\n",
       "    </tr>\n",
       "  </tbody>\n",
       "</table>\n",
       "<p>13554 rows × 3 columns</p>\n",
       "</div>"
      ],
      "text/plain": [
       "       index       Age  Order_Value_USD\n",
       "0          0  0.793693        -0.704309\n",
       "1          1  0.677717        -1.402687\n",
       "2          2 -1.177896        -0.376945\n",
       "3          3  0.097838         0.125014\n",
       "4          4 -1.525823        -1.249917\n",
       "...      ...       ...              ...\n",
       "13549  13549 -1.525823        -0.005932\n",
       "13550  13550 -0.366065         0.779744\n",
       "13551  13551  1.257596         0.125014\n",
       "13552  13552  0.677717        -0.529715\n",
       "13553  13553  0.909668         0.168663\n",
       "\n",
       "[13554 rows x 3 columns]"
      ]
     },
     "execution_count": 86,
     "metadata": {},
     "output_type": "execute_result"
    }
   ],
   "source": [
    "test_data_std = test_data_std.reset_index()\n",
    "test_data_std"
   ]
  },
  {
   "cell_type": "code",
   "execution_count": 87,
   "id": "aed76238",
   "metadata": {
    "execution": {
     "iopub.execute_input": "2023-02-27T12:16:34.625701Z",
     "iopub.status.busy": "2023-02-27T12:16:34.624924Z",
     "iopub.status.idle": "2023-02-27T12:16:34.639025Z",
     "shell.execute_reply": "2023-02-27T12:16:34.637788Z"
    },
    "papermill": {
     "duration": 0.050089,
     "end_time": "2023-02-27T12:16:34.641091",
     "exception": false,
     "start_time": "2023-02-27T12:16:34.591002",
     "status": "completed"
    },
    "tags": []
   },
   "outputs": [
    {
     "data": {
      "text/html": [
       "<div>\n",
       "<style scoped>\n",
       "    .dataframe tbody tr th:only-of-type {\n",
       "        vertical-align: middle;\n",
       "    }\n",
       "\n",
       "    .dataframe tbody tr th {\n",
       "        vertical-align: top;\n",
       "    }\n",
       "\n",
       "    .dataframe thead th {\n",
       "        text-align: right;\n",
       "    }\n",
       "</style>\n",
       "<table border=\"1\" class=\"dataframe\">\n",
       "  <thead>\n",
       "    <tr style=\"text-align: right;\">\n",
       "      <th></th>\n",
       "      <th>Age</th>\n",
       "      <th>Order_Value_USD</th>\n",
       "    </tr>\n",
       "  </thead>\n",
       "  <tbody>\n",
       "    <tr>\n",
       "      <th>0</th>\n",
       "      <td>0.793693</td>\n",
       "      <td>-0.704309</td>\n",
       "    </tr>\n",
       "    <tr>\n",
       "      <th>1</th>\n",
       "      <td>0.677717</td>\n",
       "      <td>-1.402687</td>\n",
       "    </tr>\n",
       "    <tr>\n",
       "      <th>2</th>\n",
       "      <td>-1.177896</td>\n",
       "      <td>-0.376945</td>\n",
       "    </tr>\n",
       "    <tr>\n",
       "      <th>3</th>\n",
       "      <td>0.097838</td>\n",
       "      <td>0.125014</td>\n",
       "    </tr>\n",
       "    <tr>\n",
       "      <th>4</th>\n",
       "      <td>-1.525823</td>\n",
       "      <td>-1.249917</td>\n",
       "    </tr>\n",
       "    <tr>\n",
       "      <th>...</th>\n",
       "      <td>...</td>\n",
       "      <td>...</td>\n",
       "    </tr>\n",
       "    <tr>\n",
       "      <th>13549</th>\n",
       "      <td>-1.525823</td>\n",
       "      <td>-0.005932</td>\n",
       "    </tr>\n",
       "    <tr>\n",
       "      <th>13550</th>\n",
       "      <td>-0.366065</td>\n",
       "      <td>0.779744</td>\n",
       "    </tr>\n",
       "    <tr>\n",
       "      <th>13551</th>\n",
       "      <td>1.257596</td>\n",
       "      <td>0.125014</td>\n",
       "    </tr>\n",
       "    <tr>\n",
       "      <th>13552</th>\n",
       "      <td>0.677717</td>\n",
       "      <td>-0.529715</td>\n",
       "    </tr>\n",
       "    <tr>\n",
       "      <th>13553</th>\n",
       "      <td>0.909668</td>\n",
       "      <td>0.168663</td>\n",
       "    </tr>\n",
       "  </tbody>\n",
       "</table>\n",
       "<p>13554 rows × 2 columns</p>\n",
       "</div>"
      ],
      "text/plain": [
       "            Age  Order_Value_USD\n",
       "0      0.793693        -0.704309\n",
       "1      0.677717        -1.402687\n",
       "2     -1.177896        -0.376945\n",
       "3      0.097838         0.125014\n",
       "4     -1.525823        -1.249917\n",
       "...         ...              ...\n",
       "13549 -1.525823        -0.005932\n",
       "13550 -0.366065         0.779744\n",
       "13551  1.257596         0.125014\n",
       "13552  0.677717        -0.529715\n",
       "13553  0.909668         0.168663\n",
       "\n",
       "[13554 rows x 2 columns]"
      ]
     },
     "execution_count": 87,
     "metadata": {},
     "output_type": "execute_result"
    }
   ],
   "source": [
    "test_data_std = test_data_std.drop([\"index\"], axis=1)\n",
    "test_data_std"
   ]
  },
  {
   "cell_type": "code",
   "execution_count": 88,
   "id": "3e1ec0fb",
   "metadata": {
    "execution": {
     "iopub.execute_input": "2023-02-27T12:16:34.707822Z",
     "iopub.status.busy": "2023-02-27T12:16:34.707461Z",
     "iopub.status.idle": "2023-02-27T12:16:34.719382Z",
     "shell.execute_reply": "2023-02-27T12:16:34.718409Z"
    },
    "papermill": {
     "duration": 0.048434,
     "end_time": "2023-02-27T12:16:34.721685",
     "exception": false,
     "start_time": "2023-02-27T12:16:34.673251",
     "status": "completed"
    },
    "tags": []
   },
   "outputs": [
    {
     "data": {
      "text/html": [
       "<div>\n",
       "<style scoped>\n",
       "    .dataframe tbody tr th:only-of-type {\n",
       "        vertical-align: middle;\n",
       "    }\n",
       "\n",
       "    .dataframe tbody tr th {\n",
       "        vertical-align: top;\n",
       "    }\n",
       "\n",
       "    .dataframe thead th {\n",
       "        text-align: right;\n",
       "    }\n",
       "</style>\n",
       "<table border=\"1\" class=\"dataframe\">\n",
       "  <thead>\n",
       "    <tr style=\"text-align: right;\">\n",
       "      <th></th>\n",
       "      <th>Age</th>\n",
       "      <th>Order_Value_USD</th>\n",
       "    </tr>\n",
       "  </thead>\n",
       "  <tbody>\n",
       "    <tr>\n",
       "      <th>0</th>\n",
       "      <td>0.793693</td>\n",
       "      <td>-0.704309</td>\n",
       "    </tr>\n",
       "    <tr>\n",
       "      <th>1</th>\n",
       "      <td>0.677717</td>\n",
       "      <td>-1.402687</td>\n",
       "    </tr>\n",
       "    <tr>\n",
       "      <th>2</th>\n",
       "      <td>-1.177896</td>\n",
       "      <td>-0.376945</td>\n",
       "    </tr>\n",
       "    <tr>\n",
       "      <th>3</th>\n",
       "      <td>0.097838</td>\n",
       "      <td>0.125014</td>\n",
       "    </tr>\n",
       "    <tr>\n",
       "      <th>4</th>\n",
       "      <td>-1.525823</td>\n",
       "      <td>-1.249917</td>\n",
       "    </tr>\n",
       "    <tr>\n",
       "      <th>...</th>\n",
       "      <td>...</td>\n",
       "      <td>...</td>\n",
       "    </tr>\n",
       "    <tr>\n",
       "      <th>13549</th>\n",
       "      <td>-1.525823</td>\n",
       "      <td>-0.005932</td>\n",
       "    </tr>\n",
       "    <tr>\n",
       "      <th>13550</th>\n",
       "      <td>-0.366065</td>\n",
       "      <td>0.779744</td>\n",
       "    </tr>\n",
       "    <tr>\n",
       "      <th>13551</th>\n",
       "      <td>1.257596</td>\n",
       "      <td>0.125014</td>\n",
       "    </tr>\n",
       "    <tr>\n",
       "      <th>13552</th>\n",
       "      <td>0.677717</td>\n",
       "      <td>-0.529715</td>\n",
       "    </tr>\n",
       "    <tr>\n",
       "      <th>13553</th>\n",
       "      <td>0.909668</td>\n",
       "      <td>0.168663</td>\n",
       "    </tr>\n",
       "  </tbody>\n",
       "</table>\n",
       "<p>13554 rows × 2 columns</p>\n",
       "</div>"
      ],
      "text/plain": [
       "            Age  Order_Value_USD\n",
       "0      0.793693        -0.704309\n",
       "1      0.677717        -1.402687\n",
       "2     -1.177896        -0.376945\n",
       "3      0.097838         0.125014\n",
       "4     -1.525823        -1.249917\n",
       "...         ...              ...\n",
       "13549 -1.525823        -0.005932\n",
       "13550 -0.366065         0.779744\n",
       "13551  1.257596         0.125014\n",
       "13552  0.677717        -0.529715\n",
       "13553  0.909668         0.168663\n",
       "\n",
       "[13554 rows x 2 columns]"
      ]
     },
     "execution_count": 88,
     "metadata": {},
     "output_type": "execute_result"
    }
   ],
   "source": [
    "test_data_dum = test_data_dum.reset_index()\n",
    "test_data_std"
   ]
  },
  {
   "cell_type": "code",
   "execution_count": 89,
   "id": "40635b2e",
   "metadata": {
    "execution": {
     "iopub.execute_input": "2023-02-27T12:16:34.788785Z",
     "iopub.status.busy": "2023-02-27T12:16:34.788392Z",
     "iopub.status.idle": "2023-02-27T12:16:34.801873Z",
     "shell.execute_reply": "2023-02-27T12:16:34.800782Z"
    },
    "papermill": {
     "duration": 0.049779,
     "end_time": "2023-02-27T12:16:34.803796",
     "exception": false,
     "start_time": "2023-02-27T12:16:34.754017",
     "status": "completed"
    },
    "tags": []
   },
   "outputs": [
    {
     "data": {
      "text/html": [
       "<div>\n",
       "<style scoped>\n",
       "    .dataframe tbody tr th:only-of-type {\n",
       "        vertical-align: middle;\n",
       "    }\n",
       "\n",
       "    .dataframe tbody tr th {\n",
       "        vertical-align: top;\n",
       "    }\n",
       "\n",
       "    .dataframe thead th {\n",
       "        text-align: right;\n",
       "    }\n",
       "</style>\n",
       "<table border=\"1\" class=\"dataframe\">\n",
       "  <thead>\n",
       "    <tr style=\"text-align: right;\">\n",
       "      <th></th>\n",
       "      <th>Gender_M</th>\n",
       "      <th>Order_Source_Direct</th>\n",
       "      <th>Order_Source_SEO</th>\n",
       "      <th>Order_Payment_Method_Credit Card</th>\n",
       "      <th>Order_Payment_Method_Debit Card</th>\n",
       "      <th>Order_Payment_Method_E-wallet</th>\n",
       "      <th>Order_Payment_Method_Internet Banking</th>\n",
       "    </tr>\n",
       "  </thead>\n",
       "  <tbody>\n",
       "    <tr>\n",
       "      <th>0</th>\n",
       "      <td>0</td>\n",
       "      <td>0</td>\n",
       "      <td>1</td>\n",
       "      <td>1</td>\n",
       "      <td>0</td>\n",
       "      <td>0</td>\n",
       "      <td>0</td>\n",
       "    </tr>\n",
       "    <tr>\n",
       "      <th>1</th>\n",
       "      <td>1</td>\n",
       "      <td>0</td>\n",
       "      <td>1</td>\n",
       "      <td>1</td>\n",
       "      <td>0</td>\n",
       "      <td>0</td>\n",
       "      <td>0</td>\n",
       "    </tr>\n",
       "    <tr>\n",
       "      <th>2</th>\n",
       "      <td>1</td>\n",
       "      <td>0</td>\n",
       "      <td>0</td>\n",
       "      <td>0</td>\n",
       "      <td>1</td>\n",
       "      <td>0</td>\n",
       "      <td>0</td>\n",
       "    </tr>\n",
       "    <tr>\n",
       "      <th>3</th>\n",
       "      <td>1</td>\n",
       "      <td>0</td>\n",
       "      <td>1</td>\n",
       "      <td>1</td>\n",
       "      <td>0</td>\n",
       "      <td>0</td>\n",
       "      <td>0</td>\n",
       "    </tr>\n",
       "    <tr>\n",
       "      <th>4</th>\n",
       "      <td>1</td>\n",
       "      <td>0</td>\n",
       "      <td>1</td>\n",
       "      <td>1</td>\n",
       "      <td>0</td>\n",
       "      <td>0</td>\n",
       "      <td>0</td>\n",
       "    </tr>\n",
       "    <tr>\n",
       "      <th>...</th>\n",
       "      <td>...</td>\n",
       "      <td>...</td>\n",
       "      <td>...</td>\n",
       "      <td>...</td>\n",
       "      <td>...</td>\n",
       "      <td>...</td>\n",
       "      <td>...</td>\n",
       "    </tr>\n",
       "    <tr>\n",
       "      <th>13549</th>\n",
       "      <td>1</td>\n",
       "      <td>0</td>\n",
       "      <td>1</td>\n",
       "      <td>1</td>\n",
       "      <td>0</td>\n",
       "      <td>0</td>\n",
       "      <td>0</td>\n",
       "    </tr>\n",
       "    <tr>\n",
       "      <th>13550</th>\n",
       "      <td>0</td>\n",
       "      <td>0</td>\n",
       "      <td>1</td>\n",
       "      <td>0</td>\n",
       "      <td>0</td>\n",
       "      <td>0</td>\n",
       "      <td>1</td>\n",
       "    </tr>\n",
       "    <tr>\n",
       "      <th>13551</th>\n",
       "      <td>0</td>\n",
       "      <td>1</td>\n",
       "      <td>0</td>\n",
       "      <td>0</td>\n",
       "      <td>0</td>\n",
       "      <td>1</td>\n",
       "      <td>0</td>\n",
       "    </tr>\n",
       "    <tr>\n",
       "      <th>13552</th>\n",
       "      <td>0</td>\n",
       "      <td>0</td>\n",
       "      <td>1</td>\n",
       "      <td>0</td>\n",
       "      <td>1</td>\n",
       "      <td>0</td>\n",
       "      <td>0</td>\n",
       "    </tr>\n",
       "    <tr>\n",
       "      <th>13553</th>\n",
       "      <td>1</td>\n",
       "      <td>0</td>\n",
       "      <td>0</td>\n",
       "      <td>0</td>\n",
       "      <td>1</td>\n",
       "      <td>0</td>\n",
       "      <td>0</td>\n",
       "    </tr>\n",
       "  </tbody>\n",
       "</table>\n",
       "<p>13554 rows × 7 columns</p>\n",
       "</div>"
      ],
      "text/plain": [
       "       Gender_M  Order_Source_Direct  Order_Source_SEO  \\\n",
       "0             0                    0                 1   \n",
       "1             1                    0                 1   \n",
       "2             1                    0                 0   \n",
       "3             1                    0                 1   \n",
       "4             1                    0                 1   \n",
       "...         ...                  ...               ...   \n",
       "13549         1                    0                 1   \n",
       "13550         0                    0                 1   \n",
       "13551         0                    1                 0   \n",
       "13552         0                    0                 1   \n",
       "13553         1                    0                 0   \n",
       "\n",
       "       Order_Payment_Method_Credit Card  Order_Payment_Method_Debit Card  \\\n",
       "0                                     1                                0   \n",
       "1                                     1                                0   \n",
       "2                                     0                                1   \n",
       "3                                     1                                0   \n",
       "4                                     1                                0   \n",
       "...                                 ...                              ...   \n",
       "13549                                 1                                0   \n",
       "13550                                 0                                0   \n",
       "13551                                 0                                0   \n",
       "13552                                 0                                1   \n",
       "13553                                 0                                1   \n",
       "\n",
       "       Order_Payment_Method_E-wallet  Order_Payment_Method_Internet Banking  \n",
       "0                                  0                                      0  \n",
       "1                                  0                                      0  \n",
       "2                                  0                                      0  \n",
       "3                                  0                                      0  \n",
       "4                                  0                                      0  \n",
       "...                              ...                                    ...  \n",
       "13549                              0                                      0  \n",
       "13550                              0                                      1  \n",
       "13551                              1                                      0  \n",
       "13552                              0                                      0  \n",
       "13553                              0                                      0  \n",
       "\n",
       "[13554 rows x 7 columns]"
      ]
     },
     "execution_count": 89,
     "metadata": {},
     "output_type": "execute_result"
    }
   ],
   "source": [
    "test_data_dum = test_data_dum.drop([\"index\"], axis=1)\n",
    "test_data_dum"
   ]
  },
  {
   "cell_type": "markdown",
   "id": "eddec90b",
   "metadata": {
    "papermill": {
     "duration": 0.032462,
     "end_time": "2023-02-27T12:16:34.869293",
     "exception": false,
     "start_time": "2023-02-27T12:16:34.836831",
     "status": "completed"
    },
    "tags": []
   },
   "source": [
    "### Concating test data"
   ]
  },
  {
   "cell_type": "code",
   "execution_count": 90,
   "id": "6d2020e0",
   "metadata": {
    "execution": {
     "iopub.execute_input": "2023-02-27T12:16:34.937456Z",
     "iopub.status.busy": "2023-02-27T12:16:34.936793Z",
     "iopub.status.idle": "2023-02-27T12:16:34.951662Z",
     "shell.execute_reply": "2023-02-27T12:16:34.950970Z"
    },
    "papermill": {
     "duration": 0.051311,
     "end_time": "2023-02-27T12:16:34.954032",
     "exception": false,
     "start_time": "2023-02-27T12:16:34.902721",
     "status": "completed"
    },
    "tags": []
   },
   "outputs": [
    {
     "data": {
      "text/html": [
       "<div>\n",
       "<style scoped>\n",
       "    .dataframe tbody tr th:only-of-type {\n",
       "        vertical-align: middle;\n",
       "    }\n",
       "\n",
       "    .dataframe tbody tr th {\n",
       "        vertical-align: top;\n",
       "    }\n",
       "\n",
       "    .dataframe thead th {\n",
       "        text-align: right;\n",
       "    }\n",
       "</style>\n",
       "<table border=\"1\" class=\"dataframe\">\n",
       "  <thead>\n",
       "    <tr style=\"text-align: right;\">\n",
       "      <th></th>\n",
       "      <th>Age</th>\n",
       "      <th>Order_Value_USD</th>\n",
       "      <th>Gender_M</th>\n",
       "      <th>Order_Source_Direct</th>\n",
       "      <th>Order_Source_SEO</th>\n",
       "      <th>Order_Payment_Method_Credit Card</th>\n",
       "      <th>Order_Payment_Method_Debit Card</th>\n",
       "      <th>Order_Payment_Method_E-wallet</th>\n",
       "      <th>Order_Payment_Method_Internet Banking</th>\n",
       "    </tr>\n",
       "  </thead>\n",
       "  <tbody>\n",
       "    <tr>\n",
       "      <th>0</th>\n",
       "      <td>0.793693</td>\n",
       "      <td>-0.704309</td>\n",
       "      <td>0</td>\n",
       "      <td>0</td>\n",
       "      <td>1</td>\n",
       "      <td>1</td>\n",
       "      <td>0</td>\n",
       "      <td>0</td>\n",
       "      <td>0</td>\n",
       "    </tr>\n",
       "    <tr>\n",
       "      <th>1</th>\n",
       "      <td>0.677717</td>\n",
       "      <td>-1.402687</td>\n",
       "      <td>1</td>\n",
       "      <td>0</td>\n",
       "      <td>1</td>\n",
       "      <td>1</td>\n",
       "      <td>0</td>\n",
       "      <td>0</td>\n",
       "      <td>0</td>\n",
       "    </tr>\n",
       "    <tr>\n",
       "      <th>2</th>\n",
       "      <td>-1.177896</td>\n",
       "      <td>-0.376945</td>\n",
       "      <td>1</td>\n",
       "      <td>0</td>\n",
       "      <td>0</td>\n",
       "      <td>0</td>\n",
       "      <td>1</td>\n",
       "      <td>0</td>\n",
       "      <td>0</td>\n",
       "    </tr>\n",
       "    <tr>\n",
       "      <th>3</th>\n",
       "      <td>0.097838</td>\n",
       "      <td>0.125014</td>\n",
       "      <td>1</td>\n",
       "      <td>0</td>\n",
       "      <td>1</td>\n",
       "      <td>1</td>\n",
       "      <td>0</td>\n",
       "      <td>0</td>\n",
       "      <td>0</td>\n",
       "    </tr>\n",
       "    <tr>\n",
       "      <th>4</th>\n",
       "      <td>-1.525823</td>\n",
       "      <td>-1.249917</td>\n",
       "      <td>1</td>\n",
       "      <td>0</td>\n",
       "      <td>1</td>\n",
       "      <td>1</td>\n",
       "      <td>0</td>\n",
       "      <td>0</td>\n",
       "      <td>0</td>\n",
       "    </tr>\n",
       "    <tr>\n",
       "      <th>...</th>\n",
       "      <td>...</td>\n",
       "      <td>...</td>\n",
       "      <td>...</td>\n",
       "      <td>...</td>\n",
       "      <td>...</td>\n",
       "      <td>...</td>\n",
       "      <td>...</td>\n",
       "      <td>...</td>\n",
       "      <td>...</td>\n",
       "    </tr>\n",
       "    <tr>\n",
       "      <th>13549</th>\n",
       "      <td>-1.525823</td>\n",
       "      <td>-0.005932</td>\n",
       "      <td>1</td>\n",
       "      <td>0</td>\n",
       "      <td>1</td>\n",
       "      <td>1</td>\n",
       "      <td>0</td>\n",
       "      <td>0</td>\n",
       "      <td>0</td>\n",
       "    </tr>\n",
       "    <tr>\n",
       "      <th>13550</th>\n",
       "      <td>-0.366065</td>\n",
       "      <td>0.779744</td>\n",
       "      <td>0</td>\n",
       "      <td>0</td>\n",
       "      <td>1</td>\n",
       "      <td>0</td>\n",
       "      <td>0</td>\n",
       "      <td>0</td>\n",
       "      <td>1</td>\n",
       "    </tr>\n",
       "    <tr>\n",
       "      <th>13551</th>\n",
       "      <td>1.257596</td>\n",
       "      <td>0.125014</td>\n",
       "      <td>0</td>\n",
       "      <td>1</td>\n",
       "      <td>0</td>\n",
       "      <td>0</td>\n",
       "      <td>0</td>\n",
       "      <td>1</td>\n",
       "      <td>0</td>\n",
       "    </tr>\n",
       "    <tr>\n",
       "      <th>13552</th>\n",
       "      <td>0.677717</td>\n",
       "      <td>-0.529715</td>\n",
       "      <td>0</td>\n",
       "      <td>0</td>\n",
       "      <td>1</td>\n",
       "      <td>0</td>\n",
       "      <td>1</td>\n",
       "      <td>0</td>\n",
       "      <td>0</td>\n",
       "    </tr>\n",
       "    <tr>\n",
       "      <th>13553</th>\n",
       "      <td>0.909668</td>\n",
       "      <td>0.168663</td>\n",
       "      <td>1</td>\n",
       "      <td>0</td>\n",
       "      <td>0</td>\n",
       "      <td>0</td>\n",
       "      <td>1</td>\n",
       "      <td>0</td>\n",
       "      <td>0</td>\n",
       "    </tr>\n",
       "  </tbody>\n",
       "</table>\n",
       "<p>13554 rows × 9 columns</p>\n",
       "</div>"
      ],
      "text/plain": [
       "            Age  Order_Value_USD  Gender_M  Order_Source_Direct  \\\n",
       "0      0.793693        -0.704309         0                    0   \n",
       "1      0.677717        -1.402687         1                    0   \n",
       "2     -1.177896        -0.376945         1                    0   \n",
       "3      0.097838         0.125014         1                    0   \n",
       "4     -1.525823        -1.249917         1                    0   \n",
       "...         ...              ...       ...                  ...   \n",
       "13549 -1.525823        -0.005932         1                    0   \n",
       "13550 -0.366065         0.779744         0                    0   \n",
       "13551  1.257596         0.125014         0                    1   \n",
       "13552  0.677717        -0.529715         0                    0   \n",
       "13553  0.909668         0.168663         1                    0   \n",
       "\n",
       "       Order_Source_SEO  Order_Payment_Method_Credit Card  \\\n",
       "0                     1                                 1   \n",
       "1                     1                                 1   \n",
       "2                     0                                 0   \n",
       "3                     1                                 1   \n",
       "4                     1                                 1   \n",
       "...                 ...                               ...   \n",
       "13549                 1                                 1   \n",
       "13550                 1                                 0   \n",
       "13551                 0                                 0   \n",
       "13552                 1                                 0   \n",
       "13553                 0                                 0   \n",
       "\n",
       "       Order_Payment_Method_Debit Card  Order_Payment_Method_E-wallet  \\\n",
       "0                                    0                              0   \n",
       "1                                    0                              0   \n",
       "2                                    1                              0   \n",
       "3                                    0                              0   \n",
       "4                                    0                              0   \n",
       "...                                ...                            ...   \n",
       "13549                                0                              0   \n",
       "13550                                0                              0   \n",
       "13551                                0                              1   \n",
       "13552                                1                              0   \n",
       "13553                                1                              0   \n",
       "\n",
       "       Order_Payment_Method_Internet Banking  \n",
       "0                                          0  \n",
       "1                                          0  \n",
       "2                                          0  \n",
       "3                                          0  \n",
       "4                                          0  \n",
       "...                                      ...  \n",
       "13549                                      0  \n",
       "13550                                      1  \n",
       "13551                                      0  \n",
       "13552                                      0  \n",
       "13553                                      0  \n",
       "\n",
       "[13554 rows x 9 columns]"
      ]
     },
     "execution_count": 90,
     "metadata": {},
     "output_type": "execute_result"
    }
   ],
   "source": [
    "Final_test_df = pd.concat([test_data_std,test_data_dum], axis=1)\n",
    "Final_test_df"
   ]
  },
  {
   "cell_type": "code",
   "execution_count": 91,
   "id": "170e2e7c",
   "metadata": {
    "execution": {
     "iopub.execute_input": "2023-02-27T12:16:35.021691Z",
     "iopub.status.busy": "2023-02-27T12:16:35.021277Z",
     "iopub.status.idle": "2023-02-27T12:16:35.029586Z",
     "shell.execute_reply": "2023-02-27T12:16:35.028582Z"
    },
    "papermill": {
     "duration": 0.045262,
     "end_time": "2023-02-27T12:16:35.032230",
     "exception": false,
     "start_time": "2023-02-27T12:16:34.986968",
     "status": "completed"
    },
    "tags": []
   },
   "outputs": [
    {
     "data": {
      "text/plain": [
       "Age                                      0\n",
       "Order_Value_USD                          0\n",
       "Gender_M                                 0\n",
       "Order_Source_Direct                      0\n",
       "Order_Source_SEO                         0\n",
       "Order_Payment_Method_Credit Card         0\n",
       "Order_Payment_Method_Debit Card          0\n",
       "Order_Payment_Method_E-wallet            0\n",
       "Order_Payment_Method_Internet Banking    0\n",
       "dtype: int64"
      ]
     },
     "execution_count": 91,
     "metadata": {},
     "output_type": "execute_result"
    }
   ],
   "source": [
    "Final_test_df.isnull().sum()"
   ]
  },
  {
   "cell_type": "markdown",
   "id": "094f4d6b",
   "metadata": {
    "papermill": {
     "duration": 0.033433,
     "end_time": "2023-02-27T12:16:35.099931",
     "exception": false,
     "start_time": "2023-02-27T12:16:35.066498",
     "status": "completed"
    },
    "tags": []
   },
   "source": [
    "#### Applying the best model of train data on test data"
   ]
  },
  {
   "cell_type": "code",
   "execution_count": 92,
   "id": "4d69413d",
   "metadata": {
    "execution": {
     "iopub.execute_input": "2023-02-27T12:16:35.168351Z",
     "iopub.status.busy": "2023-02-27T12:16:35.167723Z",
     "iopub.status.idle": "2023-02-27T12:16:35.689541Z",
     "shell.execute_reply": "2023-02-27T12:16:35.688096Z"
    },
    "papermill": {
     "duration": 0.559389,
     "end_time": "2023-02-27T12:16:35.692411",
     "exception": false,
     "start_time": "2023-02-27T12:16:35.133022",
     "status": "completed"
    },
    "tags": []
   },
   "outputs": [
    {
     "data": {
      "text/plain": [
       "array([0, 0, 0, 0, 0, 0, 1, 0, 0, 0])"
      ]
     },
     "execution_count": 92,
     "metadata": {},
     "output_type": "execute_result"
    }
   ],
   "source": [
    "test_preds = knn.predict(Final_test_df)\n",
    "test_preds[0:10]"
   ]
  },
  {
   "cell_type": "code",
   "execution_count": 93,
   "id": "ad3a43f4",
   "metadata": {
    "execution": {
     "iopub.execute_input": "2023-02-27T12:16:35.764405Z",
     "iopub.status.busy": "2023-02-27T12:16:35.764084Z",
     "iopub.status.idle": "2023-02-27T12:16:35.769839Z",
     "shell.execute_reply": "2023-02-27T12:16:35.768982Z"
    },
    "papermill": {
     "duration": 0.045713,
     "end_time": "2023-02-27T12:16:35.772290",
     "exception": false,
     "start_time": "2023-02-27T12:16:35.726577",
     "status": "completed"
    },
    "tags": []
   },
   "outputs": [
    {
     "data": {
      "text/plain": [
       "13554"
      ]
     },
     "execution_count": 93,
     "metadata": {},
     "output_type": "execute_result"
    }
   ],
   "source": [
    "len(test_preds)"
   ]
  },
  {
   "cell_type": "code",
   "execution_count": 94,
   "id": "9d1ab83a",
   "metadata": {
    "execution": {
     "iopub.execute_input": "2023-02-27T12:16:35.842532Z",
     "iopub.status.busy": "2023-02-27T12:16:35.841816Z",
     "iopub.status.idle": "2023-02-27T12:16:35.849103Z",
     "shell.execute_reply": "2023-02-27T12:16:35.848332Z"
    },
    "papermill": {
     "duration": 0.044669,
     "end_time": "2023-02-27T12:16:35.851048",
     "exception": false,
     "start_time": "2023-02-27T12:16:35.806379",
     "status": "completed"
    },
    "tags": []
   },
   "outputs": [
    {
     "data": {
      "text/plain": [
       "0    0\n",
       "1    0\n",
       "2    0\n",
       "3    0\n",
       "4    0\n",
       "5    0\n",
       "6    1\n",
       "7    0\n",
       "8    0\n",
       "9    0\n",
       "Name: Fraudster, dtype: int64"
      ]
     },
     "execution_count": 94,
     "metadata": {},
     "output_type": "execute_result"
    }
   ],
   "source": [
    "label[\"Fraudster\"] = test_preds\n",
    "label[\"Fraudster\"][0:10]"
   ]
  },
  {
   "cell_type": "code",
   "execution_count": 95,
   "id": "c0493f25",
   "metadata": {
    "execution": {
     "iopub.execute_input": "2023-02-27T12:16:35.920401Z",
     "iopub.status.busy": "2023-02-27T12:16:35.919727Z",
     "iopub.status.idle": "2023-02-27T12:16:35.929835Z",
     "shell.execute_reply": "2023-02-27T12:16:35.928876Z"
    },
    "papermill": {
     "duration": 0.046842,
     "end_time": "2023-02-27T12:16:35.931695",
     "exception": false,
     "start_time": "2023-02-27T12:16:35.884853",
     "status": "completed"
    },
    "tags": []
   },
   "outputs": [
    {
     "data": {
      "text/html": [
       "<div>\n",
       "<style scoped>\n",
       "    .dataframe tbody tr th:only-of-type {\n",
       "        vertical-align: middle;\n",
       "    }\n",
       "\n",
       "    .dataframe tbody tr th {\n",
       "        vertical-align: top;\n",
       "    }\n",
       "\n",
       "    .dataframe thead th {\n",
       "        text-align: right;\n",
       "    }\n",
       "</style>\n",
       "<table border=\"1\" class=\"dataframe\">\n",
       "  <thead>\n",
       "    <tr style=\"text-align: right;\">\n",
       "      <th></th>\n",
       "      <th>Merchant_ID</th>\n",
       "      <th>Fraudster</th>\n",
       "    </tr>\n",
       "  </thead>\n",
       "  <tbody>\n",
       "    <tr>\n",
       "      <th>0</th>\n",
       "      <td>53637</td>\n",
       "      <td>0</td>\n",
       "    </tr>\n",
       "    <tr>\n",
       "      <th>1</th>\n",
       "      <td>243517</td>\n",
       "      <td>0</td>\n",
       "    </tr>\n",
       "    <tr>\n",
       "      <th>2</th>\n",
       "      <td>343640</td>\n",
       "      <td>0</td>\n",
       "    </tr>\n",
       "    <tr>\n",
       "      <th>3</th>\n",
       "      <td>69889</td>\n",
       "      <td>0</td>\n",
       "    </tr>\n",
       "    <tr>\n",
       "      <th>4</th>\n",
       "      <td>125706</td>\n",
       "      <td>0</td>\n",
       "    </tr>\n",
       "    <tr>\n",
       "      <th>...</th>\n",
       "      <td>...</td>\n",
       "      <td>...</td>\n",
       "    </tr>\n",
       "    <tr>\n",
       "      <th>13549</th>\n",
       "      <td>279884</td>\n",
       "      <td>0</td>\n",
       "    </tr>\n",
       "    <tr>\n",
       "      <th>13550</th>\n",
       "      <td>206253</td>\n",
       "      <td>0</td>\n",
       "    </tr>\n",
       "    <tr>\n",
       "      <th>13551</th>\n",
       "      <td>313049</td>\n",
       "      <td>0</td>\n",
       "    </tr>\n",
       "    <tr>\n",
       "      <th>13552</th>\n",
       "      <td>304081</td>\n",
       "      <td>0</td>\n",
       "    </tr>\n",
       "    <tr>\n",
       "      <th>13553</th>\n",
       "      <td>319050</td>\n",
       "      <td>0</td>\n",
       "    </tr>\n",
       "  </tbody>\n",
       "</table>\n",
       "<p>13554 rows × 2 columns</p>\n",
       "</div>"
      ],
      "text/plain": [
       "       Merchant_ID  Fraudster\n",
       "0            53637          0\n",
       "1           243517          0\n",
       "2           343640          0\n",
       "3            69889          0\n",
       "4           125706          0\n",
       "...            ...        ...\n",
       "13549       279884          0\n",
       "13550       206253          0\n",
       "13551       313049          0\n",
       "13552       304081          0\n",
       "13553       319050          0\n",
       "\n",
       "[13554 rows x 2 columns]"
      ]
     },
     "execution_count": 95,
     "metadata": {},
     "output_type": "execute_result"
    }
   ],
   "source": [
    "label"
   ]
  },
  {
   "cell_type": "code",
   "execution_count": 96,
   "id": "1f67ed89",
   "metadata": {
    "execution": {
     "iopub.execute_input": "2023-02-27T12:16:36.001902Z",
     "iopub.status.busy": "2023-02-27T12:16:36.001482Z",
     "iopub.status.idle": "2023-02-27T12:16:36.012385Z",
     "shell.execute_reply": "2023-02-27T12:16:36.011275Z"
    },
    "papermill": {
     "duration": 0.048558,
     "end_time": "2023-02-27T12:16:36.014344",
     "exception": false,
     "start_time": "2023-02-27T12:16:35.965786",
     "status": "completed"
    },
    "tags": []
   },
   "outputs": [
    {
     "data": {
      "text/html": [
       "<div>\n",
       "<style scoped>\n",
       "    .dataframe tbody tr th:only-of-type {\n",
       "        vertical-align: middle;\n",
       "    }\n",
       "\n",
       "    .dataframe tbody tr th {\n",
       "        vertical-align: top;\n",
       "    }\n",
       "\n",
       "    .dataframe thead th {\n",
       "        text-align: right;\n",
       "    }\n",
       "</style>\n",
       "<table border=\"1\" class=\"dataframe\">\n",
       "  <thead>\n",
       "    <tr style=\"text-align: right;\">\n",
       "      <th></th>\n",
       "      <th>Fraudster</th>\n",
       "    </tr>\n",
       "    <tr>\n",
       "      <th>Merchant_ID</th>\n",
       "      <th></th>\n",
       "    </tr>\n",
       "  </thead>\n",
       "  <tbody>\n",
       "    <tr>\n",
       "      <th>53637</th>\n",
       "      <td>0</td>\n",
       "    </tr>\n",
       "    <tr>\n",
       "      <th>243517</th>\n",
       "      <td>0</td>\n",
       "    </tr>\n",
       "    <tr>\n",
       "      <th>343640</th>\n",
       "      <td>0</td>\n",
       "    </tr>\n",
       "    <tr>\n",
       "      <th>69889</th>\n",
       "      <td>0</td>\n",
       "    </tr>\n",
       "    <tr>\n",
       "      <th>125706</th>\n",
       "      <td>0</td>\n",
       "    </tr>\n",
       "    <tr>\n",
       "      <th>...</th>\n",
       "      <td>...</td>\n",
       "    </tr>\n",
       "    <tr>\n",
       "      <th>279884</th>\n",
       "      <td>0</td>\n",
       "    </tr>\n",
       "    <tr>\n",
       "      <th>206253</th>\n",
       "      <td>0</td>\n",
       "    </tr>\n",
       "    <tr>\n",
       "      <th>313049</th>\n",
       "      <td>0</td>\n",
       "    </tr>\n",
       "    <tr>\n",
       "      <th>304081</th>\n",
       "      <td>0</td>\n",
       "    </tr>\n",
       "    <tr>\n",
       "      <th>319050</th>\n",
       "      <td>0</td>\n",
       "    </tr>\n",
       "  </tbody>\n",
       "</table>\n",
       "<p>13554 rows × 1 columns</p>\n",
       "</div>"
      ],
      "text/plain": [
       "             Fraudster\n",
       "Merchant_ID           \n",
       "53637                0\n",
       "243517               0\n",
       "343640               0\n",
       "69889                0\n",
       "125706               0\n",
       "...                ...\n",
       "279884               0\n",
       "206253               0\n",
       "313049               0\n",
       "304081               0\n",
       "319050               0\n",
       "\n",
       "[13554 rows x 1 columns]"
      ]
     },
     "execution_count": 96,
     "metadata": {},
     "output_type": "execute_result"
    }
   ],
   "source": [
    "label = label.set_index([\"Merchant_ID\"])\n",
    "label"
   ]
  },
  {
   "cell_type": "markdown",
   "id": "5f6a4f6a",
   "metadata": {
    "papermill": {
     "duration": 0.034059,
     "end_time": "2023-02-27T12:16:36.083971",
     "exception": false,
     "start_time": "2023-02-27T12:16:36.049912",
     "status": "completed"
    },
    "tags": []
   },
   "source": [
    "#### Exporting to CSV"
   ]
  },
  {
   "cell_type": "code",
   "execution_count": 97,
   "id": "559fc1a4",
   "metadata": {
    "execution": {
     "iopub.execute_input": "2023-02-27T12:16:36.154598Z",
     "iopub.status.busy": "2023-02-27T12:16:36.154212Z",
     "iopub.status.idle": "2023-02-27T12:16:36.178832Z",
     "shell.execute_reply": "2023-02-27T12:16:36.177172Z"
    },
    "papermill": {
     "duration": 0.063097,
     "end_time": "2023-02-27T12:16:36.181856",
     "exception": false,
     "start_time": "2023-02-27T12:16:36.118759",
     "status": "completed"
    },
    "tags": []
   },
   "outputs": [],
   "source": [
    "label.to_csv('/kaggle/working/submission.csv')"
   ]
  },
  {
   "cell_type": "code",
   "execution_count": 98,
   "id": "d3072de3",
   "metadata": {
    "execution": {
     "iopub.execute_input": "2023-02-27T12:16:36.253743Z",
     "iopub.status.busy": "2023-02-27T12:16:36.252993Z",
     "iopub.status.idle": "2023-02-27T12:16:36.259223Z",
     "shell.execute_reply": "2023-02-27T12:16:36.258221Z"
    },
    "papermill": {
     "duration": 0.044387,
     "end_time": "2023-02-27T12:16:36.261877",
     "exception": false,
     "start_time": "2023-02-27T12:16:36.217490",
     "status": "completed"
    },
    "tags": []
   },
   "outputs": [
    {
     "data": {
      "text/plain": [
       "'/kaggle/input/merchant-fraud'"
      ]
     },
     "execution_count": 98,
     "metadata": {},
     "output_type": "execute_result"
    }
   ],
   "source": [
    "import os\n",
    "os.getcwd()"
   ]
  },
  {
   "cell_type": "code",
   "execution_count": null,
   "id": "cf5afcf6",
   "metadata": {
    "papermill": {
     "duration": 0.033801,
     "end_time": "2023-02-27T12:16:36.330508",
     "exception": false,
     "start_time": "2023-02-27T12:16:36.296707",
     "status": "completed"
    },
    "tags": []
   },
   "outputs": [],
   "source": []
  },
  {
   "cell_type": "code",
   "execution_count": null,
   "id": "f6742b62",
   "metadata": {
    "papermill": {
     "duration": 0.033142,
     "end_time": "2023-02-27T12:16:36.397949",
     "exception": false,
     "start_time": "2023-02-27T12:16:36.364807",
     "status": "completed"
    },
    "tags": []
   },
   "outputs": [],
   "source": []
  }
 ],
 "metadata": {
  "kernelspec": {
   "display_name": "Python 3",
   "language": "python",
   "name": "python3"
  },
  "language_info": {
   "codemirror_mode": {
    "name": "ipython",
    "version": 3
   },
   "file_extension": ".py",
   "mimetype": "text/x-python",
   "name": "python",
   "nbconvert_exporter": "python",
   "pygments_lexer": "ipython3",
   "version": "3.7.12"
  },
  "papermill": {
   "default_parameters": {},
   "duration": 133.736721,
   "end_time": "2023-02-27T12:16:37.255783",
   "environment_variables": {},
   "exception": null,
   "input_path": "__notebook__.ipynb",
   "output_path": "__notebook__.ipynb",
   "parameters": {},
   "start_time": "2023-02-27T12:14:23.519062",
   "version": "2.4.0"
  }
 },
 "nbformat": 4,
 "nbformat_minor": 5
}
